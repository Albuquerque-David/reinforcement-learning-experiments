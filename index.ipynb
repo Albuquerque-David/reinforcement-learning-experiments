{
 "cells": [
  {
   "cell_type": "code",
   "execution_count": 1,
   "metadata": {},
   "outputs": [],
   "source": [
    "!touch custom_data.yaml\n",
    "!mkdir dataset_yolov5\n",
    "!mkdir dataset_yolov5/images\n",
    "!mkdir dataset_yolov5/labels\n",
    "!mkdir dataset_yolov5/images/train\n",
    "!mkdir dataset_yolov5/images/val\n",
    "!mkdir dataset_yolov5/labels/train\n",
    "!mkdir dataset_yolov5/labels/val"
   ]
  },
  {
   "cell_type": "code",
   "execution_count": 4,
   "metadata": {},
   "outputs": [
    {
     "name": "stdout",
     "output_type": "stream",
     "text": [
      "('0a66768d2d566e9bbbc426354db65277.txt', ('0', '0.5865', '0.6642', '0.125', '0.093'))\n",
      "('0a66768d2d566e9bbbc426354db65277.txt', ('0', '0.478', '0.563', '0.132', '0.0975'))\n",
      "('0a66768d2d566e9bbbc426354db65277.txt', ('0', '0.3695', '0.4708', '0.133', '0.099'))\n",
      "('0a66768d2d566e9bbbc426354db65277.txt', ('0', '0.271', '0.3823', '0.138', '0.1049'))\n"
     ]
    }
   ],
   "source": [
    "import os\n",
    "import torch\n",
    "import pandas as pd\n",
    "\n",
    "sample_path = \"./dataset/0a66768d2d566e9bbbc426354db65277.csv\"\n",
    "labels = {\n",
    "    'A10': 0,\n",
    "    'A400M': 1,\n",
    "    'AG600': 2,\n",
    "    'AV8B': 3,\n",
    "    'B1': 4,\n",
    "    'B2': 5,\n",
    "    'B52': 6,\n",
    "    'Be200': 7,\n",
    "    'C130': 8,\n",
    "    'C17': 9,\n",
    "    'C5': 10,\n",
    "    'E2': 11,\n",
    "    'EF2000': 12,\n",
    "    'F117': 13,\n",
    "    'F14': 14,\n",
    "    'F15': 15,\n",
    "    'F16': 16,\n",
    "    'F18': 17,\n",
    "    'F22': 18,\n",
    "    'F35': 19,\n",
    "    'F4': 20,\n",
    "    'J20': 21,\n",
    "    'JAS39': 22,\n",
    "    'MQ9': 23,\n",
    "    'Mig31': 24,\n",
    "    'Mirage2000': 25,\n",
    "    'RQ4': 26,\n",
    "    'Rafale': 27,\n",
    "    'SR71': 28,\n",
    "    'Su34': 29,\n",
    "    'Su57': 30,\n",
    "    'Tornado': 31,\n",
    "    'Tu160': 32,\n",
    "    'Tu95': 33,\n",
    "    'U2': 34,\n",
    "    'US2': 35,\n",
    "    'V22': 36,\n",
    "    'Vulcan': 37,\n",
    "    'XB70': 38,\n",
    "    'YF23': 39,\n",
    "}\n",
    "\n",
    "def process_csv(path, label_dict):\n",
    "    f = pd.read_csv(path)\n",
    "    list_of_segments = []\n",
    "    for i in range(len(f)):\n",
    "        name = f.loc[i, \"filename\"] + \".txt\"\n",
    "        width = f.loc[i, \"width\"]\n",
    "        try:\n",
    "            classes = labels[f.loc[i, \"class\"]]\n",
    "        except:\n",
    "            print(\"ERROR: Class couldn't found for {}. Assigning -1.\".format(name))\n",
    "            classes = -1\n",
    "        height = f.loc[i, \"height\"]\n",
    "        xmin = f.loc[i, \"xmin\"]\n",
    "        xmax = f.loc[i, \"xmax\"]\n",
    "        ymin = f.loc[i, \"ymin\"]\n",
    "        ymax = f.loc[i, \"ymax\"]\n",
    "\n",
    "        centerX = round(((xmin + xmax) / 2) / width, 4)\n",
    "        centerY = round(((ymin + ymax) / 2) / height, 4)\n",
    "        new_width = round((xmax - xmin) / width, 4)\n",
    "        new_height = round((ymax - ymin) / height, 4)\n",
    "\n",
    "        #Write\n",
    "        list_of_segments.append(\n",
    "            (name, (str(classes), str(centerX), str(centerY), str(new_width), str(new_height))))\n",
    "    return list_of_segments\n",
    "\n",
    "\n",
    "x = process_csv(sample_path, labels)\n",
    "for i in x:\n",
    "    print(i)"
   ]
  },
  {
   "cell_type": "code",
   "execution_count": 6,
   "metadata": {},
   "outputs": [],
   "source": [
    "x = process_csv(sample_path, labels)\n",
    "\n",
    "\n",
    "def write_yolov5(val_list, path):\n",
    "    f = open(path + \"/\" + val_list[0][0], \"a\")\n",
    "    for annotation in val_list:\n",
    "        string = \" \".join(annotation[1])\n",
    "        f.write(string)\n",
    "        f.write(\"\\n\")\n",
    "    f.close()\n",
    "\n",
    "\n",
    "write_yolov5(x, \"/dataset_yolov5\")"
   ]
  },
  {
   "cell_type": "code",
   "execution_count": 7,
   "metadata": {},
   "outputs": [
    {
     "name": "stderr",
     "output_type": "stream",
     "text": [
      "Loading…:   0%|                       | 107/24974 [00:00<00:46, 533.45it/s]"
     ]
    },
    {
     "name": "stdout",
     "output_type": "stream",
     "text": [
      "ERROR: Class couldn't found for c3d7d9f3a19dddf5a177289bae84d77c.txt. Assigning -1.\n",
      "ERROR: Class couldn't found for 0342cd0fcf5b6797f0fd7ee7b34324a1.txt. Assigning -1.\n",
      "ERROR: Class couldn't found for de2c9c8f6c499ba795201979c954a5d7.txt. Assigning -1.\n"
     ]
    },
    {
     "name": "stderr",
     "output_type": "stream",
     "text": [
      "Loading…:   1%|▏                      | 236/24974 [00:00<00:41, 599.34it/s]"
     ]
    },
    {
     "name": "stdout",
     "output_type": "stream",
     "text": [
      "ERROR: Class couldn't found for f8220f6346d39e36444e6d296e862ef7.txt. Assigning -1.\n",
      "ERROR: Class couldn't found for f05220c8430c425475a6800d6df6dc9e.txt. Assigning -1.\n",
      "ERROR: Class couldn't found for 5bb8deecc1a2032cd090a58b5fcf3797.txt. Assigning -1.\n"
     ]
    },
    {
     "name": "stderr",
     "output_type": "stream",
     "text": [
      "Loading…:   1%|▎                      | 353/24974 [00:00<00:46, 526.77it/s]"
     ]
    },
    {
     "name": "stdout",
     "output_type": "stream",
     "text": [
      "ERROR: Class couldn't found for e9a887a2f545f70ac664dd32694689b9.txt. Assigning -1.\n",
      "ERROR: Class couldn't found for e9a887a2f545f70ac664dd32694689b9.txt. Assigning -1.\n",
      "ERROR: Class couldn't found for 6bd77ba1c9264d5f3c584c18309cf0d3.txt. Assigning -1.\n",
      "ERROR: Class couldn't found for 2e02e2acb08f83ba65c2478f9d47f48d.txt. Assigning -1.\n",
      "ERROR: Class couldn't found for d333ebee718bee530ddf127b7347507e.txt. Assigning -1.\n"
     ]
    },
    {
     "name": "stderr",
     "output_type": "stream",
     "text": [
      "Loading…:   2%|▎                      | 407/24974 [00:00<00:49, 495.37it/s]"
     ]
    },
    {
     "name": "stdout",
     "output_type": "stream",
     "text": [
      "ERROR: Class couldn't found for ca189933a381d7c10e841051bea64aa3.txt. Assigning -1.\n",
      "ERROR: Class couldn't found for 21623a68bfff203b8b99aaf420e99af5.txt. Assigning -1.\n",
      "ERROR: Class couldn't found for 14578c179c218daff21f5f8e8c3bb21c.txt. Assigning -1.\n",
      "ERROR: Class couldn't found for 98d578a5e44f4bd7736f7d08c18fdbe3.txt. Assigning -1.\n"
     ]
    },
    {
     "name": "stderr",
     "output_type": "stream",
     "text": [
      "Loading…:   2%|▌                      | 559/24974 [00:01<00:50, 486.08it/s]"
     ]
    },
    {
     "name": "stdout",
     "output_type": "stream",
     "text": [
      "ERROR: Class couldn't found for b334a0f39f5ac9e65e915af6f56ef1d3.txt. Assigning -1.\n",
      "ERROR: Class couldn't found for 622ae85e6bc5dcf6c574a74a3a8f5345.txt. Assigning -1.\n",
      "ERROR: Class couldn't found for 88e97732a7952ed9d0c4212a0193a1b4.txt. Assigning -1.\n",
      "ERROR: Class couldn't found for 88e97732a7952ed9d0c4212a0193a1b4.txt. Assigning -1.\n",
      "ERROR: Class couldn't found for faee1b1d495bab59346bb1831ffaf6b5.txt. Assigning -1.\n",
      "ERROR: Class couldn't found for 13655700bfa3ebbe9fd178329da56b37.txt. Assigning -1.\n",
      "ERROR: Class couldn't found for 13655700bfa3ebbe9fd178329da56b37.txt. Assigning -1.\n",
      "ERROR: Class couldn't found for 13655700bfa3ebbe9fd178329da56b37.txt. Assigning -1.\n",
      "ERROR: Class couldn't found for 13655700bfa3ebbe9fd178329da56b37.txt. Assigning -1.\n",
      "ERROR: Class couldn't found for d8cdb84705aea7729351ac2faf71d52b.txt. Assigning -1.\n",
      "ERROR: Class couldn't found for 9678cadf70d80b8f7f1f8defe759a3ee.txt. Assigning -1.\n"
     ]
    },
    {
     "name": "stderr",
     "output_type": "stream",
     "text": [
      "Loading…:   3%|▌                      | 674/24974 [00:01<00:47, 511.50it/s]"
     ]
    },
    {
     "name": "stdout",
     "output_type": "stream",
     "text": [
      "ERROR: Class couldn't found for 541182e6055e04dd8b1dc46e02b1e8d9.txt. Assigning -1.\n",
      "ERROR: Class couldn't found for 43ac22ad69707921389e9965a37eb9b0.txt. Assigning -1.\n",
      "ERROR: Class couldn't found for a93deac8d712d731042d0619c4a8f674.txt. Assigning -1.\n",
      "ERROR: Class couldn't found for 7481a347f5ae0e556ccc7430dc1b8f9b.txt. Assigning -1.\n"
     ]
    },
    {
     "name": "stderr",
     "output_type": "stream",
     "text": [
      "Loading…:   3%|▊                      | 840/24974 [00:01<00:45, 529.96it/s]"
     ]
    },
    {
     "name": "stdout",
     "output_type": "stream",
     "text": [
      "ERROR: Class couldn't found for edbe50d820fe97856c77c4885d8e3760.txt. Assigning -1.\n",
      "ERROR: Class couldn't found for edbe50d820fe97856c77c4885d8e3760.txt. Assigning -1.\n",
      "ERROR: Class couldn't found for 6cf90b0eab0b1176ca1512641deb7152.txt. Assigning -1.\n",
      "ERROR: Class couldn't found for 6cf90b0eab0b1176ca1512641deb7152.txt. Assigning -1.\n",
      "ERROR: Class couldn't found for 6cf90b0eab0b1176ca1512641deb7152.txt. Assigning -1.\n",
      "ERROR: Class couldn't found for 6cf90b0eab0b1176ca1512641deb7152.txt. Assigning -1.\n",
      "ERROR: Class couldn't found for 6cf90b0eab0b1176ca1512641deb7152.txt. Assigning -1.\n",
      "ERROR: Class couldn't found for aad24d739ebfcddd6586e042b0af0c25.txt. Assigning -1.\n",
      "ERROR: Class couldn't found for 52e4840ab936432db849235559f0cc5f.txt. Assigning -1.\n",
      "ERROR: Class couldn't found for 02a0a447a3bcc9cf947e149f881eaf9a.txt. Assigning -1.\n",
      "ERROR: Class couldn't found for 4470de22f144b75f7046b7b3b8429342.txt. Assigning -1.\n",
      "ERROR: Class couldn't found for 65c58154b196150d73d8f62469628568.txt. Assigning -1.\n"
     ]
    },
    {
     "name": "stderr",
     "output_type": "stream",
     "text": [
      "Loading…:   4%|▉                      | 951/24974 [00:01<00:44, 541.97it/s]"
     ]
    },
    {
     "name": "stdout",
     "output_type": "stream",
     "text": [
      "ERROR: Class couldn't found for 6e7134ad14215d612caa1861c5345fc2.txt. Assigning -1.\n",
      "ERROR: Class couldn't found for 36b71d91d5fe3a3006f571b429f5cb8a.txt. Assigning -1.\n",
      "ERROR: Class couldn't found for d272d7440e4ec235be93fe39049e809b.txt. Assigning -1.\n"
     ]
    },
    {
     "name": "stderr",
     "output_type": "stream",
     "text": [
      "Loading…:   4%|▉                     | 1077/24974 [00:02<00:41, 572.66it/s]"
     ]
    },
    {
     "name": "stdout",
     "output_type": "stream",
     "text": [
      "ERROR: Class couldn't found for a2176a8253bdd200363ca3aa661c6491.txt. Assigning -1.\n",
      "ERROR: Class couldn't found for a2176a8253bdd200363ca3aa661c6491.txt. Assigning -1.\n",
      "ERROR: Class couldn't found for 5c3be435880b1371782b04f35d9b8ddf.txt. Assigning -1.\n",
      "ERROR: Class couldn't found for 5c3be435880b1371782b04f35d9b8ddf.txt. Assigning -1.\n",
      "ERROR: Class couldn't found for 5c3be435880b1371782b04f35d9b8ddf.txt. Assigning -1.\n",
      "ERROR: Class couldn't found for d85addf49db3867a94ff05dcb91b6dd1.txt. Assigning -1.\n",
      "ERROR: Class couldn't found for cb979fd68fc0ab019db6808648b6c8be.txt. Assigning -1.\n",
      "ERROR: Class couldn't found for ab12b1881404ec3a29de9097bc2b91be.txt. Assigning -1.\n"
     ]
    },
    {
     "name": "stderr",
     "output_type": "stream",
     "text": [
      "Loading…:   5%|█                     | 1249/24974 [00:02<00:42, 555.99it/s]"
     ]
    },
    {
     "name": "stdout",
     "output_type": "stream",
     "text": [
      "ERROR: Class couldn't found for dd2926fd0b1cb16fc150859058b5c5cd.txt. Assigning -1.\n",
      "ERROR: Class couldn't found for dd2926fd0b1cb16fc150859058b5c5cd.txt. Assigning -1.\n"
     ]
    },
    {
     "name": "stderr",
     "output_type": "stream",
     "text": [
      "Loading…:   5%|█▏                    | 1305/24974 [00:02<00:46, 504.73it/s]"
     ]
    },
    {
     "name": "stdout",
     "output_type": "stream",
     "text": [
      "ERROR: Class couldn't found for c6e9285f0b68069189e6e243b5d36348.txt. Assigning -1.\n",
      "ERROR: Class couldn't found for 3a38ac9cdb66929f9537f9a3a5599c76.txt. Assigning -1.\n",
      "ERROR: Class couldn't found for d3bb7e234d752428218e9b1e31314f22.txt. Assigning -1.\n",
      "ERROR: Class couldn't found for 35167217d653a08809efcfe997d852f2.txt. Assigning -1.\n",
      "ERROR: Class couldn't found for 35167217d653a08809efcfe997d852f2.txt. Assigning -1.\n"
     ]
    },
    {
     "name": "stderr",
     "output_type": "stream",
     "text": [
      "Loading…:   6%|█▎                    | 1466/24974 [00:02<00:45, 512.79it/s]"
     ]
    },
    {
     "name": "stdout",
     "output_type": "stream",
     "text": [
      "ERROR: Class couldn't found for d8d13dba3934e95c4f64599e25a404a0.txt. Assigning -1.\n",
      "ERROR: Class couldn't found for 1dd7836b2eeee0e63858b222f9f3c1ba.txt. Assigning -1.\n",
      "ERROR: Class couldn't found for 1dd7836b2eeee0e63858b222f9f3c1ba.txt. Assigning -1.\n",
      "ERROR: Class couldn't found for 1dd7836b2eeee0e63858b222f9f3c1ba.txt. Assigning -1.\n",
      "ERROR: Class couldn't found for b94563a403b6f4799a1a256ccb15d96e.txt. Assigning -1.\n",
      "ERROR: Class couldn't found for b94563a403b6f4799a1a256ccb15d96e.txt. Assigning -1.\n",
      "ERROR: Class couldn't found for 0de3278f07e4c79bd97f109791189fee.txt. Assigning -1.\n"
     ]
    },
    {
     "name": "stderr",
     "output_type": "stream",
     "text": [
      "Loading…:   6%|█▍                    | 1573/24974 [00:02<00:45, 518.23it/s]"
     ]
    },
    {
     "name": "stdout",
     "output_type": "stream",
     "text": [
      "ERROR: Class couldn't found for 731fa268317bde9b1c5ede30c850391f.txt. Assigning -1.\n",
      "ERROR: Class couldn't found for 7577f52aaf0dec9917db881e34773434.txt. Assigning -1.\n",
      "ERROR: Class couldn't found for 9a82f53f32d9e1269933e394ea48fae6.txt. Assigning -1.\n",
      "ERROR: Class couldn't found for 9a82f53f32d9e1269933e394ea48fae6.txt. Assigning -1.\n"
     ]
    },
    {
     "name": "stderr",
     "output_type": "stream",
     "text": [
      "Loading…:   7%|█▍                    | 1692/24974 [00:03<00:42, 551.73it/s]"
     ]
    },
    {
     "name": "stdout",
     "output_type": "stream",
     "text": [
      "ERROR: Class couldn't found for d0f66e34541e03934ac2cc2f90a23dec.txt. Assigning -1.\n",
      "ERROR: Class couldn't found for d0f66e34541e03934ac2cc2f90a23dec.txt. Assigning -1.\n",
      "ERROR: Class couldn't found for d1b40060c98839be71fa4a85a7e20632.txt. Assigning -1.\n",
      "ERROR: Class couldn't found for d1b40060c98839be71fa4a85a7e20632.txt. Assigning -1.\n",
      "ERROR: Class couldn't found for 495953807ed2508911aaa586a4da5645.txt. Assigning -1.\n",
      "ERROR: Class couldn't found for d1eeb52fdd817c9a686a8767062c5afd.txt. Assigning -1.\n",
      "ERROR: Class couldn't found for d1eeb52fdd817c9a686a8767062c5afd.txt. Assigning -1.\n",
      "ERROR: Class couldn't found for d1eeb52fdd817c9a686a8767062c5afd.txt. Assigning -1.\n",
      "ERROR: Class couldn't found for d1eeb52fdd817c9a686a8767062c5afd.txt. Assigning -1.\n",
      "ERROR: Class couldn't found for 91bf92c8b78bb7458ea654a933eba8eb.txt. Assigning -1.\n",
      "ERROR: Class couldn't found for 91bf92c8b78bb7458ea654a933eba8eb.txt. Assigning -1.\n"
     ]
    },
    {
     "name": "stderr",
     "output_type": "stream",
     "text": [
      "Loading…:   7%|█▌                    | 1808/24974 [00:03<00:42, 539.66it/s]"
     ]
    },
    {
     "name": "stdout",
     "output_type": "stream",
     "text": [
      "ERROR: Class couldn't found for 4a6b0a99c9e8c0b93ec1b6d646573b60.txt. Assigning -1.\n",
      "ERROR: Class couldn't found for 86d9600ddd952feb41884db05cabaf6d.txt. Assigning -1.\n",
      "ERROR: Class couldn't found for cd32967317f874f9bec235edfb219620.txt. Assigning -1.\n",
      "ERROR: Class couldn't found for 52a25cfa491f4e8657ebe8e105b44d3f.txt. Assigning -1.\n",
      "ERROR: Class couldn't found for 5d5adb44204f61dcc95ef649f5a0c46a.txt. Assigning -1.\n",
      "ERROR: Class couldn't found for 5d5adb44204f61dcc95ef649f5a0c46a.txt. Assigning -1.\n",
      "ERROR: Class couldn't found for e7c6b2484ecfeb5fbe6315fb23725ed1.txt. Assigning -1.\n",
      "ERROR: Class couldn't found for e7c6b2484ecfeb5fbe6315fb23725ed1.txt. Assigning -1.\n"
     ]
    },
    {
     "name": "stderr",
     "output_type": "stream",
     "text": [
      "Loading…:   8%|█▋                    | 1918/24974 [00:03<00:44, 517.89it/s]"
     ]
    },
    {
     "name": "stdout",
     "output_type": "stream",
     "text": [
      "ERROR: Class couldn't found for ac486dceed95eea97128e3952aa28b16.txt. Assigning -1.\n",
      "ERROR: Class couldn't found for 112a93ecfe72d7c847f63cfda01c979e.txt. Assigning -1.\n",
      "ERROR: Class couldn't found for 7df8e19b446e5b1e328e9c4af204eab5.txt. Assigning -1.\n",
      "ERROR: Class couldn't found for 7df8e19b446e5b1e328e9c4af204eab5.txt. Assigning -1.\n",
      "ERROR: Class couldn't found for 7df8e19b446e5b1e328e9c4af204eab5.txt. Assigning -1.\n",
      "ERROR: Class couldn't found for ec3d3d25c88822071e83589d2847bd9c.txt. Assigning -1.\n"
     ]
    },
    {
     "name": "stderr",
     "output_type": "stream",
     "text": [
      "Loading…:   8%|█▊                    | 2026/24974 [00:03<00:46, 495.66it/s]"
     ]
    },
    {
     "name": "stdout",
     "output_type": "stream",
     "text": [
      "ERROR: Class couldn't found for d74f414660bb9359b9291072a222d864.txt. Assigning -1.\n",
      "ERROR: Class couldn't found for 82e7ee16c2c028f2f3243fb8428da6c5.txt. Assigning -1.\n",
      "ERROR: Class couldn't found for 9033eb1a83a32e527aee69820869af41.txt. Assigning -1.\n",
      "ERROR: Class couldn't found for 8abfc70cac3eefb7dca10c0c92fb56d4.txt. Assigning -1.\n",
      "ERROR: Class couldn't found for 1e9d9cd9fc4f2abcfd3b5eccc3a098db.txt. Assigning -1.\n"
     ]
    },
    {
     "name": "stderr",
     "output_type": "stream",
     "text": [
      "Loading…:   9%|█▊                    | 2124/24974 [00:04<00:50, 451.20it/s]"
     ]
    },
    {
     "name": "stdout",
     "output_type": "stream",
     "text": [
      "ERROR: Class couldn't found for 8c4af2bef3c662c5595303c58cd88b1a.txt. Assigning -1.\n",
      "ERROR: Class couldn't found for 56fe85f4d7956c612cd11874963ee8f2.txt. Assigning -1.\n",
      "ERROR: Class couldn't found for bfd706d79fb661e45304ab8895398336.txt. Assigning -1.\n",
      "ERROR: Class couldn't found for 243b331f851e2115fd94731227145f72.txt. Assigning -1.\n",
      "ERROR: Class couldn't found for 2b93424b3f7b87b115d8d3a4c9fa7331.txt. Assigning -1.\n",
      "ERROR: Class couldn't found for 474b30d07407af279300f6d7798e9408.txt. Assigning -1.\n",
      "ERROR: Class couldn't found for 474b30d07407af279300f6d7798e9408.txt. Assigning -1.\n",
      "ERROR: Class couldn't found for 474b30d07407af279300f6d7798e9408.txt. Assigning -1.\n",
      "ERROR: Class couldn't found for 6b0797015a22a932bcad157f1b12a360.txt. Assigning -1.\n",
      "ERROR: Class couldn't found for 6b0797015a22a932bcad157f1b12a360.txt. Assigning -1.\n"
     ]
    },
    {
     "name": "stderr",
     "output_type": "stream",
     "text": [
      "Loading…:   9%|█▉                    | 2265/24974 [00:04<00:52, 433.73it/s]"
     ]
    },
    {
     "name": "stdout",
     "output_type": "stream",
     "text": [
      "ERROR: Class couldn't found for 0c89178dabe059809cf3599d439ab238.txt. Assigning -1.\n",
      "ERROR: Class couldn't found for 42633192078ec94a0837cc8b618568dd.txt. Assigning -1.\n",
      "ERROR: Class couldn't found for 3cdc2e4478d732ff5700789522affa14.txt. Assigning -1.\n"
     ]
    },
    {
     "name": "stderr",
     "output_type": "stream",
     "text": [
      "Loading…:   9%|██                    | 2357/24974 [00:04<00:53, 419.32it/s]"
     ]
    },
    {
     "name": "stdout",
     "output_type": "stream",
     "text": [
      "ERROR: Class couldn't found for 6ecca03fc7d34ba417d4a50367e27113.txt. Assigning -1.\n",
      "ERROR: Class couldn't found for d2aea4b05eb6afae5f5f666606234855.txt. Assigning -1.\n",
      "ERROR: Class couldn't found for ba9e00edc2069dad9658c4174633c89a.txt. Assigning -1.\n",
      "ERROR: Class couldn't found for ba9e00edc2069dad9658c4174633c89a.txt. Assigning -1.\n",
      "ERROR: Class couldn't found for ba9e00edc2069dad9658c4174633c89a.txt. Assigning -1.\n",
      "ERROR: Class couldn't found for e2f84a65d00b500adf98c471d1def736.txt. Assigning -1.\n",
      "ERROR: Class couldn't found for b3cd0bbbcde6ee932a6fc8cbf7378c97.txt. Assigning -1.\n"
     ]
    },
    {
     "name": "stderr",
     "output_type": "stream",
     "text": [
      "Loading…:  10%|██▏                   | 2516/24974 [00:04<00:45, 488.26it/s]"
     ]
    },
    {
     "name": "stdout",
     "output_type": "stream",
     "text": [
      "ERROR: Class couldn't found for 260837672bcd9d2c1aaa6b17b7408588.txt. Assigning -1.\n",
      "ERROR: Class couldn't found for 71ff2eb35326d7bba63f744defa956fc.txt. Assigning -1.\n",
      "ERROR: Class couldn't found for 9e6f2d27637dc259b5bafcf4155b043c.txt. Assigning -1.\n",
      "ERROR: Class couldn't found for 1460beb77315c837123045d2241d2176.txt. Assigning -1.\n",
      "ERROR: Class couldn't found for fba3a9cd1c8a1d8d1c2abe4b6cbdaf07.txt. Assigning -1.\n",
      "ERROR: Class couldn't found for fba3a9cd1c8a1d8d1c2abe4b6cbdaf07.txt. Assigning -1.\n",
      "ERROR: Class couldn't found for fba3a9cd1c8a1d8d1c2abe4b6cbdaf07.txt. Assigning -1.\n",
      "ERROR: Class couldn't found for fba3a9cd1c8a1d8d1c2abe4b6cbdaf07.txt. Assigning -1.\n",
      "ERROR: Class couldn't found for fba3a9cd1c8a1d8d1c2abe4b6cbdaf07.txt. Assigning -1.\n",
      "ERROR: Class couldn't found for fba3a9cd1c8a1d8d1c2abe4b6cbdaf07.txt. Assigning -1.\n",
      "ERROR: Class couldn't found for 979d7985a8cfbb3eefd4bf4591e2574e.txt. Assigning -1.\n",
      "ERROR: Class couldn't found for ff9a53e7837591e2ae3af96eb4f99a60.txt. Assigning -1.\n",
      "ERROR: Class couldn't found for 0aabc8662d9235cfae6bd41ef661fd3d.txt. Assigning -1.\n"
     ]
    },
    {
     "name": "stderr",
     "output_type": "stream",
     "text": [
      "Loading…:  11%|██▎                   | 2640/24974 [00:05<00:40, 544.83it/s]"
     ]
    },
    {
     "name": "stdout",
     "output_type": "stream",
     "text": [
      "ERROR: Class couldn't found for 313d6f38ab74d109dddb5efd382aeacb.txt. Assigning -1.\n",
      "ERROR: Class couldn't found for c8586ee0b3ae19fbafe5e23e50d60022.txt. Assigning -1.\n",
      "ERROR: Class couldn't found for c8586ee0b3ae19fbafe5e23e50d60022.txt. Assigning -1.\n",
      "ERROR: Class couldn't found for c8586ee0b3ae19fbafe5e23e50d60022.txt. Assigning -1.\n",
      "ERROR: Class couldn't found for 6cda9c7f7259ed4e2a7cab4da2f4c99f.txt. Assigning -1.\n"
     ]
    },
    {
     "name": "stderr",
     "output_type": "stream",
     "text": [
      "Loading…:  11%|██▍                   | 2746/24974 [00:05<00:45, 493.28it/s]"
     ]
    },
    {
     "name": "stdout",
     "output_type": "stream",
     "text": [
      "ERROR: Class couldn't found for 7190818a15f730216c24eab8bc99eedf.txt. Assigning -1.\n",
      "ERROR: Class couldn't found for 823c9af8be1f3874b2ae0d2c8bf0c453.txt. Assigning -1.\n",
      "ERROR: Class couldn't found for f99333415e9973babeef062ee1bb6435.txt. Assigning -1.\n",
      "ERROR: Class couldn't found for a760e795abd3028cb7d930d873b907fd.txt. Assigning -1.\n",
      "ERROR: Class couldn't found for 46912ff20942d832a6ba0340dd205004.txt. Assigning -1.\n",
      "ERROR: Class couldn't found for 87d6abe95a8d5bdfcee066a0c7da6ae1.txt. Assigning -1.\n"
     ]
    },
    {
     "name": "stderr",
     "output_type": "stream",
     "text": [
      "Loading…:  11%|██▌                   | 2845/24974 [00:05<00:46, 472.95it/s]"
     ]
    },
    {
     "name": "stdout",
     "output_type": "stream",
     "text": [
      "ERROR: Class couldn't found for f8ab62cd0fd0c551e9ddfb9d49e4292a.txt. Assigning -1.\n",
      "ERROR: Class couldn't found for 28be4300bb59cc0ef31846ac672fde0a.txt. Assigning -1.\n",
      "ERROR: Class couldn't found for a62d9d51253844d92e22d3a849e87529.txt. Assigning -1.\n",
      "ERROR: Class couldn't found for 8917f535f801aab85c50411aeb6998af.txt. Assigning -1.\n",
      "ERROR: Class couldn't found for a1b8f34128157a04d4037e807c3a1732.txt. Assigning -1.\n",
      "ERROR: Class couldn't found for ef19784da74b13844516daa204f88c3a.txt. Assigning -1.\n",
      "ERROR: Class couldn't found for ef19784da74b13844516daa204f88c3a.txt. Assigning -1.\n",
      "ERROR: Class couldn't found for ef19784da74b13844516daa204f88c3a.txt. Assigning -1.\n"
     ]
    },
    {
     "name": "stderr",
     "output_type": "stream",
     "text": [
      "Loading…:  12%|██▋                   | 3006/24974 [00:05<00:45, 486.39it/s]"
     ]
    },
    {
     "name": "stdout",
     "output_type": "stream",
     "text": [
      "ERROR: Class couldn't found for 4c0e968349d2e97187b6698e4a53d24a.txt. Assigning -1.\n",
      "ERROR: Class couldn't found for 4c0e968349d2e97187b6698e4a53d24a.txt. Assigning -1.\n",
      "ERROR: Class couldn't found for 8a94f0b9831dee6c3ec09eeb4cedfa33.txt. Assigning -1.\n",
      "ERROR: Class couldn't found for 8a94f0b9831dee6c3ec09eeb4cedfa33.txt. Assigning -1.\n",
      "ERROR: Class couldn't found for 868fc3895a13ec6252ab11ec9af87e31.txt. Assigning -1.\n",
      "ERROR: Class couldn't found for 65f370043bf9e28b03a96f3015278125.txt. Assigning -1.\n",
      "ERROR: Class couldn't found for 46f5095e70f8eb74dca0f75382ac3df9.txt. Assigning -1.\n",
      "ERROR: Class couldn't found for 46f5095e70f8eb74dca0f75382ac3df9.txt. Assigning -1.\n"
     ]
    },
    {
     "name": "stderr",
     "output_type": "stream",
     "text": [
      "Loading…:  12%|██▋                   | 3056/24974 [00:06<00:45, 479.53it/s]"
     ]
    },
    {
     "name": "stdout",
     "output_type": "stream",
     "text": [
      "ERROR: Class couldn't found for 98d5ff1696cbb6a17df5e7cc3474ff29.txt. Assigning -1.\n",
      "ERROR: Class couldn't found for 5e1a5e93ebe5c7408172fb45eba1f889.txt. Assigning -1.\n",
      "ERROR: Class couldn't found for 3d924e0253034b8eda1ece516f3eeabe.txt. Assigning -1.\n"
     ]
    },
    {
     "name": "stderr",
     "output_type": "stream",
     "text": [
      "Loading…:  13%|██▊                   | 3164/24974 [00:06<00:44, 493.08it/s]"
     ]
    },
    {
     "name": "stdout",
     "output_type": "stream",
     "text": [
      "ERROR: Class couldn't found for fd9e633970a6146442e5f2ca3c1d729e.txt. Assigning -1.\n",
      "ERROR: Class couldn't found for 80f29961ef10bf10a84266f29ca5eb79.txt. Assigning -1.\n",
      "ERROR: Class couldn't found for 880702b657161f0ad1440299e06622f8.txt. Assigning -1.\n"
     ]
    },
    {
     "name": "stderr",
     "output_type": "stream",
     "text": [
      "Loading…:  13%|██▉                   | 3314/24974 [00:06<00:44, 483.57it/s]"
     ]
    },
    {
     "name": "stdout",
     "output_type": "stream",
     "text": [
      "ERROR: Class couldn't found for c1c10502e81680283d71d63e546a6933.txt. Assigning -1.\n",
      "ERROR: Class couldn't found for b1d6440651e51b5492a1d9df0ebfadac.txt. Assigning -1.\n",
      "ERROR: Class couldn't found for b05e7dde7ecfd62b603c9abf941b6a91.txt. Assigning -1.\n",
      "ERROR: Class couldn't found for b05e7dde7ecfd62b603c9abf941b6a91.txt. Assigning -1.\n"
     ]
    },
    {
     "name": "stderr",
     "output_type": "stream",
     "text": [
      "Loading…:  14%|███                   | 3426/24974 [00:06<00:42, 509.38it/s]"
     ]
    },
    {
     "name": "stdout",
     "output_type": "stream",
     "text": [
      "ERROR: Class couldn't found for c5e30f2ef7507137a229deec6a069e81.txt. Assigning -1.\n",
      "ERROR: Class couldn't found for f02c72983b6f21bb0d5a24c027b93c2a.txt. Assigning -1.\n",
      "ERROR: Class couldn't found for ca9db6533e9d8b7e72fe5194059d662c.txt. Assigning -1.\n",
      "ERROR: Class couldn't found for 498db8f9c966c8365bb344a41bc46178.txt. Assigning -1.\n",
      "ERROR: Class couldn't found for 77cfc2ea463fc44cdeebde622d855dcf.txt. Assigning -1.\n"
     ]
    },
    {
     "name": "stderr",
     "output_type": "stream",
     "text": [
      "Loading…:  14%|███▏                  | 3583/24974 [00:07<00:45, 471.60it/s]"
     ]
    },
    {
     "name": "stdout",
     "output_type": "stream",
     "text": [
      "ERROR: Class couldn't found for c1db991ae624074fbc75fbc3fa3df66d.txt. Assigning -1.\n",
      "ERROR: Class couldn't found for 4946c629937cdc214316e8500e75dac2.txt. Assigning -1.\n",
      "ERROR: Class couldn't found for eda6f937704ac719d702d235e12b1de3.txt. Assigning -1.\n",
      "ERROR: Class couldn't found for 1476dc2d38fbf657963a4c04d0ddea7d.txt. Assigning -1.\n",
      "ERROR: Class couldn't found for 337737e4126a78391414cbee492033c6.txt. Assigning -1.\n",
      "ERROR: Class couldn't found for 337737e4126a78391414cbee492033c6.txt. Assigning -1.\n",
      "ERROR: Class couldn't found for 337737e4126a78391414cbee492033c6.txt. Assigning -1.\n",
      "ERROR: Class couldn't found for 337737e4126a78391414cbee492033c6.txt. Assigning -1.\n",
      "ERROR: Class couldn't found for 337737e4126a78391414cbee492033c6.txt. Assigning -1.\n",
      "ERROR: Class couldn't found for e206ae1807d06b136ae4346bad2909b0.txt. Assigning -1.\n"
     ]
    },
    {
     "name": "stderr",
     "output_type": "stream",
     "text": [
      "Loading…:  15%|███▎                  | 3727/24974 [00:07<00:46, 461.80it/s]"
     ]
    },
    {
     "name": "stdout",
     "output_type": "stream",
     "text": [
      "ERROR: Class couldn't found for 7f747367b59c251e3f4b2a494e0b05ad.txt. Assigning -1.\n",
      "ERROR: Class couldn't found for 7f747367b59c251e3f4b2a494e0b05ad.txt. Assigning -1.\n",
      "ERROR: Class couldn't found for 3188ece78f03d23e705854be5b6c60f5.txt. Assigning -1.\n",
      "ERROR: Class couldn't found for 657753a46a3cd4af410351aaf97800f8.txt. Assigning -1.\n",
      "ERROR: Class couldn't found for b0846f75cb959e19f2799c4d0b1e4cb0.txt. Assigning -1.\n",
      "ERROR: Class couldn't found for fa7aa2e4a58d111102a11aac33848e49.txt. Assigning -1.\n"
     ]
    },
    {
     "name": "stderr",
     "output_type": "stream",
     "text": [
      "Loading…:  15%|███▎                  | 3830/24974 [00:07<00:44, 477.51it/s]"
     ]
    },
    {
     "name": "stdout",
     "output_type": "stream",
     "text": [
      "ERROR: Class couldn't found for cc606af3b4de7c0029b710285516c9c6.txt. Assigning -1.\n",
      "ERROR: Class couldn't found for 886556720e69fce73c6795cbd4f4d2d5.txt. Assigning -1.\n",
      "ERROR: Class couldn't found for ccf9179378b51dcaf5620de11361333b.txt. Assigning -1.\n",
      "ERROR: Class couldn't found for fd85592a7c9389960d55183799c681ea.txt. Assigning -1.\n"
     ]
    },
    {
     "name": "stderr",
     "output_type": "stream",
     "text": [
      "Loading…:  16%|███▍                  | 3952/24974 [00:07<00:38, 541.57it/s]"
     ]
    },
    {
     "name": "stdout",
     "output_type": "stream",
     "text": [
      "ERROR: Class couldn't found for 0e4565973f0416377207cc2dafa2bf75.txt. Assigning -1.\n",
      "ERROR: Class couldn't found for 0e4565973f0416377207cc2dafa2bf75.txt. Assigning -1.\n",
      "ERROR: Class couldn't found for 3abdd7efc2dc6fee39afbbdaec846db8.txt. Assigning -1.\n",
      "ERROR: Class couldn't found for bb10b0e9be67b1845aa28e04d412434e.txt. Assigning -1.\n",
      "ERROR: Class couldn't found for 1ae769322be67d8f0dc4a5c30bd5f6a4.txt. Assigning -1.\n"
     ]
    },
    {
     "name": "stderr",
     "output_type": "stream",
     "text": [
      "Loading…:  16%|███▌                  | 4059/24974 [00:08<00:41, 502.27it/s]"
     ]
    },
    {
     "name": "stdout",
     "output_type": "stream",
     "text": [
      "ERROR: Class couldn't found for 272374e8a02c245b8bdd9076becb06d9.txt. Assigning -1.\n",
      "ERROR: Class couldn't found for 8b465bcad131ad0573c51492b8760133.txt. Assigning -1.\n",
      "ERROR: Class couldn't found for 8b465bcad131ad0573c51492b8760133.txt. Assigning -1.\n",
      "ERROR: Class couldn't found for 106a9f3b5e00e5610717b3918d743119.txt. Assigning -1.\n",
      "ERROR: Class couldn't found for d4b56de20e2a2c99755e05608a172c41.txt. Assigning -1.\n",
      "ERROR: Class couldn't found for e96f7b6cccc082494bb84ba2f3de64ff.txt. Assigning -1.\n",
      "ERROR: Class couldn't found for e96f7b6cccc082494bb84ba2f3de64ff.txt. Assigning -1.\n"
     ]
    },
    {
     "name": "stderr",
     "output_type": "stream",
     "text": [
      "Loading…:  17%|███▋                  | 4208/24974 [00:08<00:45, 458.92it/s]"
     ]
    },
    {
     "name": "stdout",
     "output_type": "stream",
     "text": [
      "ERROR: Class couldn't found for ff599f61162e64d830f6a764f6c16e24.txt. Assigning -1.\n",
      "ERROR: Class couldn't found for 7f058180ed8c94a7220b6132de4374d0.txt. Assigning -1.\n"
     ]
    },
    {
     "name": "stderr",
     "output_type": "stream",
     "text": [
      "Loading…:  17%|███▊                  | 4357/24974 [00:08<00:44, 468.14it/s]"
     ]
    },
    {
     "name": "stdout",
     "output_type": "stream",
     "text": [
      "ERROR: Class couldn't found for 3740e3cc645bd8b8c982480ba3ccb32f.txt. Assigning -1.\n",
      "ERROR: Class couldn't found for 357050fb78fcb79153f4872856edb94f.txt. Assigning -1.\n",
      "ERROR: Class couldn't found for 1d121588a6e0b9652e30fc26537d6242.txt. Assigning -1.\n",
      "ERROR: Class couldn't found for 1d121588a6e0b9652e30fc26537d6242.txt. Assigning -1.\n",
      "ERROR: Class couldn't found for e03dbb3eb08e80dfd398af92c926d994.txt. Assigning -1.\n",
      "ERROR: Class couldn't found for e03dbb3eb08e80dfd398af92c926d994.txt. Assigning -1.\n"
     ]
    },
    {
     "name": "stderr",
     "output_type": "stream",
     "text": [
      "Loading…:  18%|████                  | 4550/24974 [00:09<00:43, 466.81it/s]"
     ]
    },
    {
     "name": "stdout",
     "output_type": "stream",
     "text": [
      "ERROR: Class couldn't found for 35eb2079998a196d132a35e17d729c7b.txt. Assigning -1.\n",
      "ERROR: Class couldn't found for 0fc99214d382cd65e4c79f629be76c7f.txt. Assigning -1.\n",
      "ERROR: Class couldn't found for 4620aef6ea307ace5f85d3ea1761cf1d.txt. Assigning -1.\n",
      "ERROR: Class couldn't found for 212a20b84f2ef4f866178ad20f2d6cb5.txt. Assigning -1.\n",
      "ERROR: Class couldn't found for 212a20b84f2ef4f866178ad20f2d6cb5.txt. Assigning -1.\n",
      "ERROR: Class couldn't found for 212a20b84f2ef4f866178ad20f2d6cb5.txt. Assigning -1.\n",
      "ERROR: Class couldn't found for d5a167fe48277c8ad1563bba40625278.txt. Assigning -1.\n"
     ]
    },
    {
     "name": "stderr",
     "output_type": "stream",
     "text": [
      "Loading…:  19%|████                  | 4644/24974 [00:09<00:57, 352.18it/s]"
     ]
    },
    {
     "name": "stdout",
     "output_type": "stream",
     "text": [
      "ERROR: Class couldn't found for 2eb582334f76ab97f3c3da84af2eb1e0.txt. Assigning -1.\n",
      "ERROR: Class couldn't found for 2749676af45204621355543f01a4b10c.txt. Assigning -1.\n",
      "ERROR: Class couldn't found for 2749676af45204621355543f01a4b10c.txt. Assigning -1.\n"
     ]
    },
    {
     "name": "stderr",
     "output_type": "stream",
     "text": [
      "Loading…:  19%|████▏                 | 4723/24974 [00:09<00:58, 348.85it/s]"
     ]
    },
    {
     "name": "stdout",
     "output_type": "stream",
     "text": [
      "ERROR: Class couldn't found for 9f5603e32592faeee23c3a717deb42a4.txt. Assigning -1.\n",
      "ERROR: Class couldn't found for 3afdfe74da6e88959d6acf55065726ce.txt. Assigning -1.\n",
      "ERROR: Class couldn't found for 5b1d168da2cc5d691d9f8d1be9e51a94.txt. Assigning -1.\n",
      "ERROR: Class couldn't found for 483246e33f8f19fda917bcf4f0f807a3.txt. Assigning -1.\n"
     ]
    },
    {
     "name": "stderr",
     "output_type": "stream",
     "text": [
      "Loading…:  19%|████▏                 | 4808/24974 [00:09<00:59, 336.84it/s]"
     ]
    },
    {
     "name": "stdout",
     "output_type": "stream",
     "text": [
      "ERROR: Class couldn't found for 428a594521821932cb9371da1472494a.txt. Assigning -1.\n",
      "ERROR: Class couldn't found for e602defdb24696e55a42bbb0bc1c80f2.txt. Assigning -1.\n",
      "ERROR: Class couldn't found for 1b20755e2dab61ef4e4a85784e3e7b72.txt. Assigning -1.\n",
      "ERROR: Class couldn't found for a6059a0ef457e8d341256a26e88ba428.txt. Assigning -1.\n",
      "ERROR: Class couldn't found for 3b26bb4a510a022b97e281f4fe26e4eb.txt. Assigning -1.\n",
      "ERROR: Class couldn't found for 3b26bb4a510a022b97e281f4fe26e4eb.txt. Assigning -1.\n"
     ]
    },
    {
     "name": "stderr",
     "output_type": "stream",
     "text": [
      "Loading…:  20%|████▎                 | 4884/24974 [00:10<00:59, 339.27it/s]"
     ]
    },
    {
     "name": "stdout",
     "output_type": "stream",
     "text": [
      "ERROR: Class couldn't found for 47117f415e0ec3c14f79e4e601bca422.txt. Assigning -1.\n",
      "ERROR: Class couldn't found for be3882d54ebd572a1c673adc48c60d43.txt. Assigning -1.\n",
      "ERROR: Class couldn't found for be3882d54ebd572a1c673adc48c60d43.txt. Assigning -1.\n",
      "ERROR: Class couldn't found for f7c769327d8e6052cded77c25acd8018.txt. Assigning -1.\n"
     ]
    },
    {
     "name": "stderr",
     "output_type": "stream",
     "text": [
      "Loading…:  20%|████▍                 | 5005/24974 [00:10<01:03, 312.98it/s]"
     ]
    },
    {
     "name": "stdout",
     "output_type": "stream",
     "text": [
      "ERROR: Class couldn't found for 9b13385ec810dbe1192dd3605bfa77ae.txt. Assigning -1.\n",
      "ERROR: Class couldn't found for 9b13385ec810dbe1192dd3605bfa77ae.txt. Assigning -1.\n",
      "ERROR: Class couldn't found for 9b13385ec810dbe1192dd3605bfa77ae.txt. Assigning -1.\n",
      "ERROR: Class couldn't found for ea5916b20d98001aded53a165a7e1b13.txt. Assigning -1.\n",
      "ERROR: Class couldn't found for a5ba9565fed61d090c95f7431da0a844.txt. Assigning -1.\n",
      "ERROR: Class couldn't found for fe843ce3b09d8ab5d2749a27724efeb1.txt. Assigning -1.\n",
      "ERROR: Class couldn't found for fe843ce3b09d8ab5d2749a27724efeb1.txt. Assigning -1.\n",
      "ERROR: Class couldn't found for fe843ce3b09d8ab5d2749a27724efeb1.txt. Assigning -1.\n"
     ]
    },
    {
     "name": "stderr",
     "output_type": "stream",
     "text": [
      "Loading…:  20%|████▍                 | 5039/24974 [00:10<01:17, 255.98it/s]"
     ]
    },
    {
     "name": "stdout",
     "output_type": "stream",
     "text": [
      "ERROR: Class couldn't found for 34179c5724fd9cea8740475c44e0f83c.txt. Assigning -1.\n",
      "ERROR: Class couldn't found for f2e84e164522d33aaf95efbcfcef80cc.txt. Assigning -1.\n",
      "ERROR: Class couldn't found for 6ff6d0a855abce768efa6424ecba0d32.txt. Assigning -1.\n",
      "ERROR: Class couldn't found for eeb9b1d6d67c77f774310599e9eeb485.txt. Assigning -1.\n"
     ]
    },
    {
     "name": "stderr",
     "output_type": "stream",
     "text": [
      "Loading…:  21%|████▌                 | 5166/24974 [00:11<01:13, 270.75it/s]"
     ]
    },
    {
     "name": "stdout",
     "output_type": "stream",
     "text": [
      "ERROR: Class couldn't found for 1b3fd03bc48fe64a27a195d167e8eca6.txt. Assigning -1.\n",
      "ERROR: Class couldn't found for 10946ac1f135dd1271d2080dc75410fa.txt. Assigning -1.\n",
      "ERROR: Class couldn't found for a4433fb34e6dc31a1d9cea3e912cf7de.txt. Assigning -1.\n",
      "ERROR: Class couldn't found for a9a3f5ade1a9967e9f74724a2c3df2b1.txt. Assigning -1.\n"
     ]
    },
    {
     "name": "stderr",
     "output_type": "stream",
     "text": [
      "Loading…:  21%|████▌                 | 5211/24974 [00:11<01:05, 301.48it/s]"
     ]
    },
    {
     "name": "stdout",
     "output_type": "stream",
     "text": [
      "ERROR: Class couldn't found for 7dd682d6033443e84a1b43743d7b6ef2.txt. Assigning -1.\n",
      "ERROR: Class couldn't found for 5c87f63ab534725930b42972c9894437.txt. Assigning -1.\n",
      "ERROR: Class couldn't found for a3f7e34e2e69ed160ad8954d32c4f089.txt. Assigning -1.\n",
      "ERROR: Class couldn't found for 8ad82769e405961305d3bd4d472f4790.txt. Assigning -1.\n",
      "ERROR: Class couldn't found for adf7421f79e9bcf6518c0450aed857fc.txt. Assigning -1.\n"
     ]
    },
    {
     "name": "stderr",
     "output_type": "stream",
     "text": [
      "Loading…:  21%|████▋                 | 5334/24974 [00:12<01:58, 165.38it/s]"
     ]
    },
    {
     "name": "stdout",
     "output_type": "stream",
     "text": [
      "ERROR: Class couldn't found for 1e5dad435f954b1123e2ccf10d86aa4b.txt. Assigning -1.\n",
      "ERROR: Class couldn't found for 83dc23eaf76ab3133c5ec17a7d32f2ce.txt. Assigning -1.\n",
      "ERROR: Class couldn't found for e42bf87d0d4f427c8fb86b8b23fdf340.txt. Assigning -1.\n"
     ]
    },
    {
     "name": "stderr",
     "output_type": "stream",
     "text": [
      "Loading…:  22%|████▊                 | 5410/24974 [00:12<01:24, 231.11it/s]"
     ]
    },
    {
     "name": "stdout",
     "output_type": "stream",
     "text": [
      "ERROR: Class couldn't found for 709d6addf1b2ad1fa61d06a99a6a622a.txt. Assigning -1.\n",
      "ERROR: Class couldn't found for b10d5ca1cebf9551442cb33f44f72bdb.txt. Assigning -1.\n",
      "ERROR: Class couldn't found for 89d8edca57cabaef80fa8821fde068de.txt. Assigning -1.\n",
      "ERROR: Class couldn't found for 89d8edca57cabaef80fa8821fde068de.txt. Assigning -1.\n"
     ]
    },
    {
     "name": "stderr",
     "output_type": "stream",
     "text": [
      "Loading…:  22%|████▊                 | 5513/24974 [00:12<01:05, 295.34it/s]"
     ]
    },
    {
     "name": "stdout",
     "output_type": "stream",
     "text": [
      "ERROR: Class couldn't found for 06e1a045924708851620c1366b0e813a.txt. Assigning -1.\n",
      "ERROR: Class couldn't found for b7480ef6415a0acb71e3e63f16245bbe.txt. Assigning -1.\n",
      "ERROR: Class couldn't found for ff0c19d378c93075862b6c5a7c54079b.txt. Assigning -1.\n"
     ]
    },
    {
     "name": "stderr",
     "output_type": "stream",
     "text": [
      "Loading…:  22%|████▉                 | 5614/24974 [00:13<01:03, 303.25it/s]"
     ]
    },
    {
     "name": "stdout",
     "output_type": "stream",
     "text": [
      "ERROR: Class couldn't found for b2aaf290484d93f64d59c82d52cfc9d8.txt. Assigning -1.\n",
      "ERROR: Class couldn't found for 70691bc04821b3121e5e2a84bff1a4f4.txt. Assigning -1.\n",
      "ERROR: Class couldn't found for 70691bc04821b3121e5e2a84bff1a4f4.txt. Assigning -1.\n",
      "ERROR: Class couldn't found for 345cfddfa31f7681f816d8f5373cdcae.txt. Assigning -1.\n",
      "ERROR: Class couldn't found for d018f39ee4bc4cc37e57a3f32b647be6.txt. Assigning -1.\n"
     ]
    },
    {
     "name": "stderr",
     "output_type": "stream",
     "text": [
      "Loading…:  23%|█████                 | 5731/24974 [00:13<00:56, 342.48it/s]"
     ]
    },
    {
     "name": "stdout",
     "output_type": "stream",
     "text": [
      "ERROR: Class couldn't found for 4e8406154355f9b44adee48d69cbc4dc.txt. Assigning -1.\n",
      "ERROR: Class couldn't found for ba3e00620d5f978d17fa48a273b3b726.txt. Assigning -1.\n",
      "ERROR: Class couldn't found for ba3e00620d5f978d17fa48a273b3b726.txt. Assigning -1.\n"
     ]
    },
    {
     "name": "stderr",
     "output_type": "stream",
     "text": [
      "Loading…:  23%|█████                 | 5799/24974 [00:13<01:07, 284.49it/s]"
     ]
    },
    {
     "name": "stdout",
     "output_type": "stream",
     "text": [
      "ERROR: Class couldn't found for 76bb2735ffbf23f399c89aae4319449d.txt. Assigning -1.\n",
      "ERROR: Class couldn't found for f94043cdeb742f704f40cd135737d6d1.txt. Assigning -1.\n",
      "ERROR: Class couldn't found for 6d6a069657cd224dbf5087b340653c7e.txt. Assigning -1.\n",
      "ERROR: Class couldn't found for 6d6a069657cd224dbf5087b340653c7e.txt. Assigning -1.\n"
     ]
    },
    {
     "name": "stderr",
     "output_type": "stream",
     "text": [
      "Loading…:  23%|█████▏                | 5842/24974 [00:13<01:01, 312.63it/s]"
     ]
    },
    {
     "name": "stdout",
     "output_type": "stream",
     "text": [
      "ERROR: Class couldn't found for b688a4da9fd5963b017799a873df1b66.txt. Assigning -1.\n",
      "ERROR: Class couldn't found for b688a4da9fd5963b017799a873df1b66.txt. Assigning -1.\n",
      "ERROR: Class couldn't found for 11997c2c5f926eb922524fbcf93e62d4.txt. Assigning -1.\n"
     ]
    },
    {
     "name": "stderr",
     "output_type": "stream",
     "text": [
      "Loading…:  24%|█████▏                | 5910/24974 [00:14<01:14, 256.35it/s]"
     ]
    },
    {
     "name": "stdout",
     "output_type": "stream",
     "text": [
      "ERROR: Class couldn't found for 9fac367784eb8584ef2b20d6e42e0236.txt. Assigning -1.\n",
      "ERROR: Class couldn't found for 3841f596820f959b65d21407c2c11ded.txt. Assigning -1.\n",
      "ERROR: Class couldn't found for aa2a12b7e4960a8365d033d4905607fd.txt. Assigning -1.\n",
      "ERROR: Class couldn't found for 9899a5d806a344905a8a53d7c2cea532.txt. Assigning -1.\n"
     ]
    },
    {
     "name": "stderr",
     "output_type": "stream",
     "text": [
      "Loading…:  24%|█████▎                | 6007/24974 [00:14<01:17, 244.79it/s]"
     ]
    },
    {
     "name": "stdout",
     "output_type": "stream",
     "text": [
      "ERROR: Class couldn't found for 44e2cb87f216acbfca9a97357c448bbe.txt. Assigning -1.\n",
      "ERROR: Class couldn't found for b0241c4c0fedcdd345b35119df1d2fb5.txt. Assigning -1.\n",
      "ERROR: Class couldn't found for b0241c4c0fedcdd345b35119df1d2fb5.txt. Assigning -1.\n",
      "ERROR: Class couldn't found for b0241c4c0fedcdd345b35119df1d2fb5.txt. Assigning -1.\n",
      "ERROR: Class couldn't found for b0241c4c0fedcdd345b35119df1d2fb5.txt. Assigning -1.\n",
      "ERROR: Class couldn't found for b0241c4c0fedcdd345b35119df1d2fb5.txt. Assigning -1.\n",
      "ERROR: Class couldn't found for b0241c4c0fedcdd345b35119df1d2fb5.txt. Assigning -1.\n",
      "ERROR: Class couldn't found for 0e0e72c6072ca0eaeb8ea6e95af0c63c.txt. Assigning -1.\n",
      "ERROR: Class couldn't found for 558802a293bb7c6d70e735445e8fea44.txt. Assigning -1.\n"
     ]
    },
    {
     "name": "stderr",
     "output_type": "stream",
     "text": [
      "Loading…:  24%|█████▍                | 6111/24974 [00:15<01:29, 209.72it/s]"
     ]
    },
    {
     "name": "stdout",
     "output_type": "stream",
     "text": [
      "ERROR: Class couldn't found for 8f0f7e1b40218654447f78e21e976988.txt. Assigning -1.\n",
      "ERROR: Class couldn't found for fe285de6f399dbbd58ebb3a74b7d25f2.txt. Assigning -1.\n"
     ]
    },
    {
     "name": "stderr",
     "output_type": "stream",
     "text": [
      "Loading…:  25%|█████▍                | 6220/24974 [00:15<01:23, 224.26it/s]"
     ]
    },
    {
     "name": "stdout",
     "output_type": "stream",
     "text": [
      "ERROR: Class couldn't found for a4d70fb1c271d0441e1ee4988da57ba6.txt. Assigning -1.\n",
      "ERROR: Class couldn't found for 1147ff5a41547c17ec39fe244595ead1.txt. Assigning -1.\n",
      "ERROR: Class couldn't found for 1147ff5a41547c17ec39fe244595ead1.txt. Assigning -1.\n",
      "ERROR: Class couldn't found for 576b06f0b3235632db82329a04b60b32.txt. Assigning -1.\n"
     ]
    },
    {
     "name": "stderr",
     "output_type": "stream",
     "text": [
      "Loading…:  25%|█████▌                | 6256/24974 [00:16<01:14, 251.88it/s]"
     ]
    },
    {
     "name": "stdout",
     "output_type": "stream",
     "text": [
      "ERROR: Class couldn't found for c5eb9e844fb62e46acd2f468a4de8999.txt. Assigning -1.\n"
     ]
    },
    {
     "name": "stderr",
     "output_type": "stream",
     "text": [
      "Loading…:  26%|█████▌                | 6370/24974 [00:16<01:02, 296.70it/s]"
     ]
    },
    {
     "name": "stdout",
     "output_type": "stream",
     "text": [
      "ERROR: Class couldn't found for ea34ee681e736747bc51bbdcbafc88e5.txt. Assigning -1.\n",
      "ERROR: Class couldn't found for 3cf486093fee15a748aad473a346a221.txt. Assigning -1.\n",
      "ERROR: Class couldn't found for c8a0318ba6a61d1e962d3e2c36d637d0.txt. Assigning -1.\n",
      "ERROR: Class couldn't found for 6d6d821a69fd92e292bf5f316492e746.txt. Assigning -1.\n",
      "ERROR: Class couldn't found for 40adef3eb56e6aa31dc3cf3bd19010eb.txt. Assigning -1.\n"
     ]
    },
    {
     "name": "stderr",
     "output_type": "stream",
     "text": [
      "Loading…:  26%|█████▋                | 6483/24974 [00:16<00:58, 317.06it/s]"
     ]
    },
    {
     "name": "stdout",
     "output_type": "stream",
     "text": [
      "ERROR: Class couldn't found for b04e348466ce613c05a8c74c42b41ac5.txt. Assigning -1.\n",
      "ERROR: Class couldn't found for 4a82b877decc45035b34b21292869cf2.txt. Assigning -1.\n",
      "ERROR: Class couldn't found for 0532dc747d0cc600e17d8d9eadb2fadb.txt. Assigning -1.\n",
      "ERROR: Class couldn't found for 2832a5527832dced7c68c6057976e538.txt. Assigning -1.\n",
      "ERROR: Class couldn't found for e3f73cd8750a02fa981b147bf87c8796.txt. Assigning -1.\n",
      "ERROR: Class couldn't found for e4f09838b340386a4cce4c807715d1b5.txt. Assigning -1.\n"
     ]
    },
    {
     "name": "stderr",
     "output_type": "stream",
     "text": [
      "Loading…:  26%|█████▊                | 6606/24974 [00:17<00:49, 368.71it/s]"
     ]
    },
    {
     "name": "stdout",
     "output_type": "stream",
     "text": [
      "ERROR: Class couldn't found for ccdcf7806e3a6e749cce7ed17e717088.txt. Assigning -1.\n",
      "ERROR: Class couldn't found for ccdcf7806e3a6e749cce7ed17e717088.txt. Assigning -1.\n",
      "ERROR: Class couldn't found for 880c8b0f44a8b0746d919afe08b8371d.txt. Assigning -1.\n",
      "ERROR: Class couldn't found for f2d668df537b3215f6619e845c5700e9.txt. Assigning -1.\n"
     ]
    },
    {
     "name": "stderr",
     "output_type": "stream",
     "text": [
      "Loading…:  27%|█████▉                | 6682/24974 [00:17<00:52, 350.98it/s]"
     ]
    },
    {
     "name": "stdout",
     "output_type": "stream",
     "text": [
      "ERROR: Class couldn't found for 41c4686671c4addc705083ce557f367b.txt. Assigning -1.\n",
      "ERROR: Class couldn't found for 086447973ba9c4441178c29391ea5f3e.txt. Assigning -1.\n"
     ]
    },
    {
     "name": "stderr",
     "output_type": "stream",
     "text": [
      "Loading…:  27%|█████▉                | 6755/24974 [00:17<00:52, 349.34it/s]"
     ]
    },
    {
     "name": "stdout",
     "output_type": "stream",
     "text": [
      "ERROR: Class couldn't found for 9c9049cc5dacfcb3bf130ccf13412b08.txt. Assigning -1.\n",
      "ERROR: Class couldn't found for 901e625ff498ffee02279b8c879004cd.txt. Assigning -1.\n",
      "ERROR: Class couldn't found for 54335bf00daba3b0947ba8a6f81b8de0.txt. Assigning -1.\n"
     ]
    },
    {
     "name": "stderr",
     "output_type": "stream",
     "text": [
      "Loading…:  27%|██████                | 6824/24974 [00:17<00:58, 308.54it/s]"
     ]
    },
    {
     "name": "stdout",
     "output_type": "stream",
     "text": [
      "ERROR: Class couldn't found for 0e97ddb317e77ec788f7a4d7d3ccb078.txt. Assigning -1.\n",
      "ERROR: Class couldn't found for 5921ef6456285ce9fe1e726333b599d7.txt. Assigning -1.\n",
      "ERROR: Class couldn't found for a27bde6908b43b6830e424766d03e067.txt. Assigning -1.\n",
      "ERROR: Class couldn't found for a27bde6908b43b6830e424766d03e067.txt. Assigning -1.\n"
     ]
    },
    {
     "name": "stderr",
     "output_type": "stream",
     "text": [
      "Loading…:  28%|██████                | 6906/24974 [00:17<00:52, 347.35it/s]"
     ]
    },
    {
     "name": "stdout",
     "output_type": "stream",
     "text": [
      "ERROR: Class couldn't found for bb3cbfe7795624518951743f6c762103.txt. Assigning -1.\n",
      "ERROR: Class couldn't found for 49a7de628ea30f05181417d965de13b9.txt. Assigning -1.\n",
      "ERROR: Class couldn't found for 4dd16eb1416e800c4b2ff1a6dfecb24b.txt. Assigning -1.\n",
      "ERROR: Class couldn't found for 235fb4fd0040b04b80898fca2d9b3924.txt. Assigning -1.\n"
     ]
    },
    {
     "name": "stderr",
     "output_type": "stream",
     "text": [
      "Loading…:  28%|██████▏               | 6991/24974 [00:18<00:48, 371.16it/s]"
     ]
    },
    {
     "name": "stdout",
     "output_type": "stream",
     "text": [
      "ERROR: Class couldn't found for d383aa27c0688180d6dada395ad7b8fd.txt. Assigning -1.\n",
      "ERROR: Class couldn't found for 71072ad474c458f26f81cb11c696e8af.txt. Assigning -1.\n",
      "ERROR: Class couldn't found for 85bfea4efb9ca1369dc7a191001f46ab.txt. Assigning -1.\n"
     ]
    },
    {
     "name": "stderr",
     "output_type": "stream",
     "text": [
      "Loading…:  28%|██████▏               | 7066/24974 [00:18<00:50, 354.21it/s]"
     ]
    },
    {
     "name": "stdout",
     "output_type": "stream",
     "text": [
      "ERROR: Class couldn't found for b5675050c0f4285d5057bfeafbbcf352.txt. Assigning -1.\n",
      "ERROR: Class couldn't found for c7f6f2b306628d613571c8737d18a532.txt. Assigning -1.\n",
      "ERROR: Class couldn't found for f4635941ef6416dfb09cd33d2de89ae8.txt. Assigning -1.\n",
      "ERROR: Class couldn't found for f4635941ef6416dfb09cd33d2de89ae8.txt. Assigning -1.\n"
     ]
    },
    {
     "name": "stderr",
     "output_type": "stream",
     "text": [
      "Loading…:  29%|██████▎               | 7143/24974 [00:18<00:49, 360.81it/s]"
     ]
    },
    {
     "name": "stdout",
     "output_type": "stream",
     "text": [
      "ERROR: Class couldn't found for 5b0c23a8e8f057da23ff975073ef18c8.txt. Assigning -1.\n",
      "ERROR: Class couldn't found for 7de02921f3fadde6de7428deca708fb8.txt. Assigning -1.\n"
     ]
    },
    {
     "name": "stderr",
     "output_type": "stream",
     "text": [
      "Loading…:  29%|██████▍               | 7300/24974 [00:19<00:51, 343.53it/s]"
     ]
    },
    {
     "name": "stdout",
     "output_type": "stream",
     "text": [
      "ERROR: Class couldn't found for 41099cd9ff87ec37c8e860e817fb6b3a.txt. Assigning -1.\n",
      "ERROR: Class couldn't found for 23d2d94391258606119e6b5b991447b5.txt. Assigning -1.\n",
      "ERROR: Class couldn't found for 59196d7ebbc1118deb5ca6442af638ff.txt. Assigning -1.\n",
      "ERROR: Class couldn't found for 8ab06289dcbd2639e118476c59760ccb.txt. Assigning -1.\n",
      "ERROR: Class couldn't found for 305bbc52fc6effbdf72af507631542a2.txt. Assigning -1.\n",
      "ERROR: Class couldn't found for af8e47969fdcdf4bf94b526e7bf7fc7f.txt. Assigning -1.\n"
     ]
    },
    {
     "name": "stderr",
     "output_type": "stream",
     "text": [
      "Loading…:  30%|██████▌               | 7471/24974 [00:19<00:46, 377.11it/s]"
     ]
    },
    {
     "name": "stdout",
     "output_type": "stream",
     "text": [
      "ERROR: Class couldn't found for e5a2ad78a9d590636005f632c2bb8149.txt. Assigning -1.\n",
      "ERROR: Class couldn't found for 218490b130106de86b5df2b092ae12b2.txt. Assigning -1.\n",
      "ERROR: Class couldn't found for 2417989147f99dd624f0a8d982867cf9.txt. Assigning -1.\n",
      "ERROR: Class couldn't found for 4693f89d4de0434f99661b5f3f9feaad.txt. Assigning -1.\n",
      "ERROR: Class couldn't found for b8935b308e66cbe0a1e4fc8590635ef2.txt. Assigning -1.\n"
     ]
    },
    {
     "name": "stderr",
     "output_type": "stream",
     "text": [
      "Loading…:  31%|██████▋               | 7625/24974 [00:19<00:41, 421.23it/s]"
     ]
    },
    {
     "name": "stdout",
     "output_type": "stream",
     "text": [
      "ERROR: Class couldn't found for ad01943c5241fed3fa1ade44e4261a9a.txt. Assigning -1.\n",
      "ERROR: Class couldn't found for 7a82526e8abb1da9155b494ee907f161.txt. Assigning -1.\n",
      "ERROR: Class couldn't found for 7a82526e8abb1da9155b494ee907f161.txt. Assigning -1.\n",
      "ERROR: Class couldn't found for fc3ae7e77a07f89604abecfd7760033d.txt. Assigning -1.\n"
     ]
    },
    {
     "name": "stderr",
     "output_type": "stream",
     "text": [
      "Loading…:  31%|██████▊               | 7766/24974 [00:20<00:40, 427.81it/s]"
     ]
    },
    {
     "name": "stdout",
     "output_type": "stream",
     "text": [
      "ERROR: Class couldn't found for 90a1b239ca789c7598d3ac715a5cd910.txt. Assigning -1.\n",
      "ERROR: Class couldn't found for 3c7b81c34ceff1f22018986d5b79fb97.txt. Assigning -1.\n",
      "ERROR: Class couldn't found for d362b9037f76453ff71787ec00fb2610.txt. Assigning -1.\n",
      "ERROR: Class couldn't found for b6353140333c243c7eb92749d099a6ea.txt. Assigning -1.\n",
      "ERROR: Class couldn't found for 02de1a52b8b989ec20a0c38ebee2069a.txt. Assigning -1.\n",
      "ERROR: Class couldn't found for 91b68f2eae6edaa97285be8d702d917e.txt. Assigning -1.\n",
      "ERROR: Class couldn't found for bd253278b78faf9a26988582cd25c401.txt. Assigning -1.\n"
     ]
    },
    {
     "name": "stderr",
     "output_type": "stream",
     "text": [
      "Loading…:  32%|██████▉               | 7903/24974 [00:20<00:41, 409.10it/s]"
     ]
    },
    {
     "name": "stdout",
     "output_type": "stream",
     "text": [
      "ERROR: Class couldn't found for 4bb7e0595ee17be8fb51c906f38a6044.txt. Assigning -1.\n",
      "ERROR: Class couldn't found for b00de06f133ef42c45993f00bfc18a52.txt. Assigning -1.\n"
     ]
    },
    {
     "name": "stderr",
     "output_type": "stream",
     "text": [
      "Loading…:  32%|███████               | 8034/24974 [00:20<00:41, 410.47it/s]"
     ]
    },
    {
     "name": "stdout",
     "output_type": "stream",
     "text": [
      "ERROR: Class couldn't found for 106641eb1cbca3d7c605f62439ad8cba.txt. Assigning -1.\n",
      "ERROR: Class couldn't found for ca17be3319563ec2c723f2481c73bef1.txt. Assigning -1.\n",
      "ERROR: Class couldn't found for ca17be3319563ec2c723f2481c73bef1.txt. Assigning -1.\n",
      "ERROR: Class couldn't found for ca17be3319563ec2c723f2481c73bef1.txt. Assigning -1.\n",
      "ERROR: Class couldn't found for ca17be3319563ec2c723f2481c73bef1.txt. Assigning -1.\n",
      "ERROR: Class couldn't found for c4ea8a760fc5a31a69b5890f105c05c4.txt. Assigning -1.\n",
      "ERROR: Class couldn't found for 1b4e14d0629f8b45de82671dc7a867a8.txt. Assigning -1.\n"
     ]
    },
    {
     "name": "stderr",
     "output_type": "stream",
     "text": [
      "Loading…:  33%|███████▏              | 8118/24974 [00:21<00:43, 385.00it/s]"
     ]
    },
    {
     "name": "stdout",
     "output_type": "stream",
     "text": [
      "ERROR: Class couldn't found for 41cf04bc19595ae9e44d21a58eb52ca9.txt. Assigning -1.\n",
      "ERROR: Class couldn't found for 884a86a4728957bf2bd9e86b3ccefe09.txt. Assigning -1.\n"
     ]
    },
    {
     "name": "stderr",
     "output_type": "stream",
     "text": [
      "Loading…:  33%|███████▏              | 8205/24974 [00:21<00:41, 400.86it/s]"
     ]
    },
    {
     "name": "stdout",
     "output_type": "stream",
     "text": [
      "ERROR: Class couldn't found for c764a7be4cb3d79ac145cba2aae60460.txt. Assigning -1.\n",
      "ERROR: Class couldn't found for bea1279beb295a740f5b19c208712385.txt. Assigning -1.\n",
      "ERROR: Class couldn't found for 14a82fc5c47ca86a649bb3818d0a8ae7.txt. Assigning -1.\n"
     ]
    },
    {
     "name": "stderr",
     "output_type": "stream",
     "text": [
      "Loading…:  33%|███████▎              | 8284/24974 [00:21<00:47, 352.43it/s]"
     ]
    },
    {
     "name": "stdout",
     "output_type": "stream",
     "text": [
      "ERROR: Class couldn't found for 2f56ac388e73d9ff6665c43949ccd1cb.txt. Assigning -1.\n",
      "ERROR: Class couldn't found for 4a72b3aca22bfe0e4a924ed961b312c5.txt. Assigning -1.\n",
      "ERROR: Class couldn't found for d9e7f4365c3a9ff07e0abae47709d668.txt. Assigning -1.\n",
      "ERROR: Class couldn't found for 4fd398c7fac27a4ffbfbf20c165e584c.txt. Assigning -1.\n"
     ]
    },
    {
     "name": "stderr",
     "output_type": "stream",
     "text": [
      "Loading…:  34%|███████▍              | 8381/24974 [00:21<00:40, 414.16it/s]"
     ]
    },
    {
     "name": "stdout",
     "output_type": "stream",
     "text": [
      "ERROR: Class couldn't found for 413efa63014cbd9ce178be3b4e5f2484.txt. Assigning -1.\n",
      "ERROR: Class couldn't found for f2a67b8abe4eafa36cc02df9450c3d7a.txt. Assigning -1.\n",
      "ERROR: Class couldn't found for e6cba5ad2ba44e424a21efb9c3e4824f.txt. Assigning -1.\n",
      "ERROR: Class couldn't found for 6220352f3726aa521cf8dcb45bc895bc.txt. Assigning -1.\n",
      "ERROR: Class couldn't found for 6220352f3726aa521cf8dcb45bc895bc.txt. Assigning -1.\n"
     ]
    },
    {
     "name": "stderr",
     "output_type": "stream",
     "text": [
      "Loading…:  34%|███████▍              | 8476/24974 [00:21<00:37, 439.19it/s]"
     ]
    },
    {
     "name": "stdout",
     "output_type": "stream",
     "text": [
      "ERROR: Class couldn't found for 1487c4975b3b64bc3c9c02e000478e5e.txt. Assigning -1.\n",
      "ERROR: Class couldn't found for 59f035be5d37c7afbaeb908f9a43dcf5.txt. Assigning -1.\n",
      "ERROR: Class couldn't found for 59f035be5d37c7afbaeb908f9a43dcf5.txt. Assigning -1.\n",
      "ERROR: Class couldn't found for 59f035be5d37c7afbaeb908f9a43dcf5.txt. Assigning -1.\n",
      "ERROR: Class couldn't found for eff11744300d027ad21e82fe97af02ae.txt. Assigning -1.\n",
      "ERROR: Class couldn't found for f52dc055dc1da80ff06fad9ae79f625c.txt. Assigning -1.\n"
     ]
    },
    {
     "name": "stderr",
     "output_type": "stream",
     "text": [
      "Loading…:  35%|███████▌              | 8621/24974 [00:22<00:35, 458.97it/s]"
     ]
    },
    {
     "name": "stdout",
     "output_type": "stream",
     "text": [
      "ERROR: Class couldn't found for 176707378b3c4c36c7c0f17a15045043.txt. Assigning -1.\n",
      "ERROR: Class couldn't found for de89773b613272ac16366a90042b7a87.txt. Assigning -1.\n",
      "ERROR: Class couldn't found for de89773b613272ac16366a90042b7a87.txt. Assigning -1.\n",
      "ERROR: Class couldn't found for 16e4a57d063220912cb1acbf0413fcb5.txt. Assigning -1.\n",
      "ERROR: Class couldn't found for 16e4a57d063220912cb1acbf0413fcb5.txt. Assigning -1.\n",
      "ERROR: Class couldn't found for 21abac7e0d86195ba8b6537e85339e41.txt. Assigning -1.\n",
      "ERROR: Class couldn't found for ad83aa209affbf92aeab543de7bd9940.txt. Assigning -1.\n",
      "ERROR: Class couldn't found for 784ea70046ca12a61d061fc183509859.txt. Assigning -1.\n"
     ]
    },
    {
     "name": "stderr",
     "output_type": "stream",
     "text": [
      "Loading…:  35%|███████▋              | 8778/24974 [00:22<00:33, 477.89it/s]"
     ]
    },
    {
     "name": "stdout",
     "output_type": "stream",
     "text": [
      "ERROR: Class couldn't found for 6c2722cfeeff4048507e47ad8f5535e8.txt. Assigning -1.\n",
      "ERROR: Class couldn't found for 6c2722cfeeff4048507e47ad8f5535e8.txt. Assigning -1.\n",
      "ERROR: Class couldn't found for 6c2722cfeeff4048507e47ad8f5535e8.txt. Assigning -1.\n",
      "ERROR: Class couldn't found for 8753b1f182c5ec7ed470558f1e22d1d0.txt. Assigning -1.\n",
      "ERROR: Class couldn't found for f4ae63386f6da88acec21553f625d297.txt. Assigning -1.\n",
      "ERROR: Class couldn't found for f4ae63386f6da88acec21553f625d297.txt. Assigning -1.\n",
      "ERROR: Class couldn't found for f4ae63386f6da88acec21553f625d297.txt. Assigning -1.\n",
      "ERROR: Class couldn't found for f4ae63386f6da88acec21553f625d297.txt. Assigning -1.\n",
      "ERROR: Class couldn't found for bcad8b144b3f4536cb468a83844a992d.txt. Assigning -1.\n",
      "ERROR: Class couldn't found for 6bf104c4a35c57165dbbf9f28fd52828.txt. Assigning -1.\n",
      "ERROR: Class couldn't found for 2588fb3459f73eebb74824f3d4df191c.txt. Assigning -1.\n",
      "ERROR: Class couldn't found for 2588fb3459f73eebb74824f3d4df191c.txt. Assigning -1.\n",
      "ERROR: Class couldn't found for 2588fb3459f73eebb74824f3d4df191c.txt. Assigning -1.\n",
      "ERROR: Class couldn't found for 2476fd9c21aa414ff270ca52f9201ad6.txt. Assigning -1.\n"
     ]
    },
    {
     "name": "stderr",
     "output_type": "stream",
     "text": [
      "Loading…:  36%|███████▊              | 8893/24974 [00:22<00:31, 511.65it/s]"
     ]
    },
    {
     "name": "stdout",
     "output_type": "stream",
     "text": [
      "ERROR: Class couldn't found for f90630bcf3c5c472ee00a8ed8d7283df.txt. Assigning -1.\n",
      "ERROR: Class couldn't found for ecb1b7d96ee9afee52208660afefd939.txt. Assigning -1.\n",
      "ERROR: Class couldn't found for d9ff38b726302917b8b2b27a79151705.txt. Assigning -1.\n",
      "ERROR: Class couldn't found for 19a922eaed621cd734a87666d51296c4.txt. Assigning -1.\n",
      "ERROR: Class couldn't found for 64f8a6db0dcbfc94e03f064d2e8ec6bd.txt. Assigning -1.\n",
      "ERROR: Class couldn't found for e84640c4b7ae1ab6e0a6fd2c924fd3e4.txt. Assigning -1.\n",
      "ERROR: Class couldn't found for 222026594f4a04608dabbbeac9b73630.txt. Assigning -1.\n",
      "ERROR: Class couldn't found for faf69c6ffcf57d6975446608fc171934.txt. Assigning -1.\n"
     ]
    },
    {
     "name": "stderr",
     "output_type": "stream",
     "text": [
      "Loading…:  37%|████████              | 9129/24974 [00:23<00:30, 520.21it/s]"
     ]
    },
    {
     "name": "stdout",
     "output_type": "stream",
     "text": [
      "ERROR: Class couldn't found for bff9a5ab1134d46e0c4a2f69426a223e.txt. Assigning -1.\n",
      "ERROR: Class couldn't found for a0c6437583ca23777262e57e41a7f274.txt. Assigning -1.\n"
     ]
    },
    {
     "name": "stderr",
     "output_type": "stream",
     "text": [
      "Loading…:  37%|████████▏             | 9287/24974 [00:23<00:32, 485.35it/s]"
     ]
    },
    {
     "name": "stdout",
     "output_type": "stream",
     "text": [
      "ERROR: Class couldn't found for f3fcf144eec55a500ee6ae9773253e59.txt. Assigning -1.\n",
      "ERROR: Class couldn't found for c9ed2ba6d4c6e40e9d5ec72a7071556a.txt. Assigning -1.\n",
      "ERROR: Class couldn't found for c9ed2ba6d4c6e40e9d5ec72a7071556a.txt. Assigning -1.\n",
      "ERROR: Class couldn't found for be927c43ead0442b3518870f04fdb12a.txt. Assigning -1.\n",
      "ERROR: Class couldn't found for d0f8ea71e780adbd5650db48b96b4f5f.txt. Assigning -1.\n",
      "ERROR: Class couldn't found for 5cd7ba24c7d9dd491aa9d5d9e37707eb.txt. Assigning -1.\n",
      "ERROR: Class couldn't found for f5fc7539ee2695da3bb97fc596624ca1.txt. Assigning -1.\n",
      "ERROR: Class couldn't found for a87e9799c4b88ba0b8d69d33d8b3660e.txt. Assigning -1.\n",
      "ERROR: Class couldn't found for 44f7d0c40ccaaa288cdde9f0d1d853bb.txt. Assigning -1.\n",
      "ERROR: Class couldn't found for d088b8e97d5e72d0be4b60155cfa1d39.txt. Assigning -1.\n"
     ]
    },
    {
     "name": "stderr",
     "output_type": "stream",
     "text": [
      "Loading…:  37%|████████▏             | 9345/24974 [00:23<00:30, 511.28it/s]"
     ]
    },
    {
     "name": "stdout",
     "output_type": "stream",
     "text": [
      "ERROR: Class couldn't found for e49dbe57532cb414f00b34217b4efca1.txt. Assigning -1.\n",
      "ERROR: Class couldn't found for e4a1f32a4f2356dd61cc1272ea367fc9.txt. Assigning -1.\n",
      "ERROR: Class couldn't found for 63fae73a600278a692eb40710d001d0e.txt. Assigning -1.\n",
      "ERROR: Class couldn't found for 63fae73a600278a692eb40710d001d0e.txt. Assigning -1.\n",
      "ERROR: Class couldn't found for 35ce51615609f93762ddc22026e54fa0.txt. Assigning -1.\n"
     ]
    },
    {
     "name": "stderr",
     "output_type": "stream",
     "text": [
      "Loading…:  38%|████████▎             | 9494/24974 [00:24<00:33, 466.21it/s]"
     ]
    },
    {
     "name": "stdout",
     "output_type": "stream",
     "text": [
      "ERROR: Class couldn't found for a84d755f53cd37ba29c5a3b5e94b5318.txt. Assigning -1.\n",
      "ERROR: Class couldn't found for a5cc0692ee9dac929a52e47127f00458.txt. Assigning -1.\n",
      "ERROR: Class couldn't found for 1bddfaae624eebb8f4056600851fe9d9.txt. Assigning -1.\n",
      "ERROR: Class couldn't found for f4939b9bca096d0770415ceff03160aa.txt. Assigning -1.\n",
      "ERROR: Class couldn't found for f4939b9bca096d0770415ceff03160aa.txt. Assigning -1.\n",
      "ERROR: Class couldn't found for 0a925520d46afcc748af12455ef6df73.txt. Assigning -1.\n",
      "ERROR: Class couldn't found for 75943dc3b635dbdaffe06f7b83ecbf53.txt. Assigning -1.\n",
      "ERROR: Class couldn't found for c9319bc859b5e7be5dcad3b4ee649e4b.txt. Assigning -1.\n"
     ]
    },
    {
     "name": "stderr",
     "output_type": "stream",
     "text": [
      "Loading…:  38%|████████▍             | 9590/24974 [00:24<00:33, 454.62it/s]"
     ]
    },
    {
     "name": "stdout",
     "output_type": "stream",
     "text": [
      "ERROR: Class couldn't found for c1bba4af17bb44b51ed73ce48c868895.txt. Assigning -1.\n"
     ]
    },
    {
     "name": "stderr",
     "output_type": "stream",
     "text": [
      "Loading…:  39%|████████▍             | 9636/24974 [00:24<00:36, 419.57it/s]"
     ]
    },
    {
     "name": "stdout",
     "output_type": "stream",
     "text": [
      "ERROR: Class couldn't found for d8f9caa63d9012b89f09e188dd29bdbc.txt. Assigning -1.\n",
      "ERROR: Class couldn't found for 0486218ece790196ee7f7dbb5acf051c.txt. Assigning -1.\n",
      "ERROR: Class couldn't found for a493a5d661fdc82239aacc4433c896c1.txt. Assigning -1.\n",
      "ERROR: Class couldn't found for a493a5d661fdc82239aacc4433c896c1.txt. Assigning -1.\n",
      "ERROR: Class couldn't found for 7129019bd54db8dfedd3bb8449bdb8e5.txt. Assigning -1.\n",
      "ERROR: Class couldn't found for ec054833cf5df174755db9c1fb0e1688.txt. Assigning -1.\n",
      "ERROR: Class couldn't found for 541dc18598febc11e5a9913daf5abab2.txt. Assigning -1.\n"
     ]
    },
    {
     "name": "stderr",
     "output_type": "stream",
     "text": [
      "Loading…:  39%|████████▌             | 9779/24974 [00:24<00:43, 346.85it/s]"
     ]
    },
    {
     "name": "stdout",
     "output_type": "stream",
     "text": [
      "ERROR: Class couldn't found for 24c6a6aad8a359e889776ce9a3eafb2a.txt. Assigning -1.\n",
      "ERROR: Class couldn't found for b1facc725e2aaf112ad59d2da1fa3a20.txt. Assigning -1.\n",
      "ERROR: Class couldn't found for ef0084ae8d67a705057ab5b01b3a9bfd.txt. Assigning -1.\n",
      "ERROR: Class couldn't found for f0a221e13a28c96ff01715750c4d2d41.txt. Assigning -1.\n",
      "ERROR: Class couldn't found for f0a221e13a28c96ff01715750c4d2d41.txt. Assigning -1.\n"
     ]
    },
    {
     "name": "stderr",
     "output_type": "stream",
     "text": [
      "Loading…:  39%|████████▋             | 9816/24974 [00:25<00:48, 314.30it/s]"
     ]
    },
    {
     "name": "stdout",
     "output_type": "stream",
     "text": [
      "ERROR: Class couldn't found for 950b2d79e73b9a6a624b5c8ed0176681.txt. Assigning -1.\n"
     ]
    },
    {
     "name": "stderr",
     "output_type": "stream",
     "text": [
      "Loading…:  40%|████████▋             | 9919/24974 [00:25<00:51, 293.92it/s]"
     ]
    },
    {
     "name": "stdout",
     "output_type": "stream",
     "text": [
      "ERROR: Class couldn't found for c3f867e34393fbe6b2ea3caed95af72f.txt. Assigning -1.\n"
     ]
    },
    {
     "name": "stderr",
     "output_type": "stream",
     "text": [
      "Loading…:  40%|████████▊             | 9951/24974 [00:25<01:38, 151.76it/s]"
     ]
    },
    {
     "name": "stdout",
     "output_type": "stream",
     "text": [
      "ERROR: Class couldn't found for e3c5526c5724ff568a4944a5e224d36f.txt. Assigning -1.\n",
      "ERROR: Class couldn't found for 329ac60fdff3d4dd71df7ddbce76b5e3.txt. Assigning -1.\n",
      "ERROR: Class couldn't found for 329ac60fdff3d4dd71df7ddbce76b5e3.txt. Assigning -1.\n",
      "ERROR: Class couldn't found for eed2cd46faac2eb229e87939e20e7415.txt. Assigning -1.\n"
     ]
    },
    {
     "name": "stderr",
     "output_type": "stream",
     "text": [
      "Loading…:  41%|████████▌            | 10132/24974 [00:27<01:25, 174.01it/s]"
     ]
    },
    {
     "name": "stdout",
     "output_type": "stream",
     "text": [
      "ERROR: Class couldn't found for ec0944e297f6738310c257ed550659fb.txt. Assigning -1.\n",
      "ERROR: Class couldn't found for ec0944e297f6738310c257ed550659fb.txt. Assigning -1.\n",
      "ERROR: Class couldn't found for ec0944e297f6738310c257ed550659fb.txt. Assigning -1.\n",
      "ERROR: Class couldn't found for ec0944e297f6738310c257ed550659fb.txt. Assigning -1.\n",
      "ERROR: Class couldn't found for ec0944e297f6738310c257ed550659fb.txt. Assigning -1.\n",
      "ERROR: Class couldn't found for b240e84c765f65718f8b24cea942ee5e.txt. Assigning -1.\n"
     ]
    },
    {
     "name": "stderr",
     "output_type": "stream",
     "text": [
      "Loading…:  41%|████████▌            | 10177/24974 [00:27<01:25, 172.58it/s]"
     ]
    },
    {
     "name": "stdout",
     "output_type": "stream",
     "text": [
      "ERROR: Class couldn't found for fb463fbee4ac925a5b1056c0491dce11.txt. Assigning -1.\n",
      "ERROR: Class couldn't found for fce71b2194ac2e1e380a4da0fcd33a97.txt. Assigning -1.\n"
     ]
    },
    {
     "name": "stderr",
     "output_type": "stream",
     "text": [
      "Loading…:  41%|████████▋            | 10273/24974 [00:27<01:06, 222.37it/s]"
     ]
    },
    {
     "name": "stdout",
     "output_type": "stream",
     "text": [
      "ERROR: Class couldn't found for 41fee6b2ef22e9b926a0ae7bcbee4e9e.txt. Assigning -1.\n",
      "ERROR: Class couldn't found for 25ad84d8f137b5eacde3e7b5cdc5bd08.txt. Assigning -1.\n",
      "ERROR: Class couldn't found for 71495fc58e313ac3a5898f53613f42cc.txt. Assigning -1.\n",
      "ERROR: Class couldn't found for b6e55bdf028df4876e89711e85f474a5.txt. Assigning -1.\n"
     ]
    },
    {
     "name": "stderr",
     "output_type": "stream",
     "text": [
      "Loading…:  41%|████████▋            | 10326/24974 [00:28<01:05, 225.05it/s]"
     ]
    },
    {
     "name": "stdout",
     "output_type": "stream",
     "text": [
      "ERROR: Class couldn't found for 2903408534d6a321772a003e0f969367.txt. Assigning -1.\n"
     ]
    },
    {
     "name": "stderr",
     "output_type": "stream",
     "text": [
      "Loading…:  42%|████████▋            | 10384/24974 [00:28<01:02, 233.06it/s]"
     ]
    },
    {
     "name": "stdout",
     "output_type": "stream",
     "text": [
      "ERROR: Class couldn't found for 95291ad9a9f07ebeacc3b2ccff39bbe5.txt. Assigning -1.\n",
      "ERROR: Class couldn't found for 95291ad9a9f07ebeacc3b2ccff39bbe5.txt. Assigning -1.\n",
      "ERROR: Class couldn't found for a9cc82d3b2d04e846ba42812b6bffc1a.txt. Assigning -1.\n",
      "ERROR: Class couldn't found for 709847dbdf6a711a78916894b103c229.txt. Assigning -1.\n"
     ]
    },
    {
     "name": "stderr",
     "output_type": "stream",
     "text": [
      "Loading…:  42%|████████▊            | 10458/24974 [00:28<00:52, 275.44it/s]"
     ]
    },
    {
     "name": "stdout",
     "output_type": "stream",
     "text": [
      "ERROR: Class couldn't found for c18e43ef25bec90be5cb33c8560c4240.txt. Assigning -1.\n",
      "ERROR: Class couldn't found for 13624684b67212ff554b3be01151882a.txt. Assigning -1.\n"
     ]
    },
    {
     "name": "stderr",
     "output_type": "stream",
     "text": [
      "Loading…:  43%|████████▉            | 10639/24974 [00:29<01:03, 226.35it/s]"
     ]
    },
    {
     "name": "stdout",
     "output_type": "stream",
     "text": [
      "ERROR: Class couldn't found for a85b9de0152702c479a236791759f9da.txt. Assigning -1.\n",
      "ERROR: Class couldn't found for a85b9de0152702c479a236791759f9da.txt. Assigning -1.\n",
      "ERROR: Class couldn't found for 37a7c3377ce5c369885dc20fbf543f38.txt. Assigning -1.\n",
      "ERROR: Class couldn't found for d12752dbbe7a18213c5f7602a7c1191e.txt. Assigning -1.\n",
      "ERROR: Class couldn't found for cc73d27ba7e6b018f8e6ebd2cb5b6f80.txt. Assigning -1.\n",
      "ERROR: Class couldn't found for 79d33edc5d6837c3e2fa373184ea8701.txt. Assigning -1.\n"
     ]
    },
    {
     "name": "stderr",
     "output_type": "stream",
     "text": [
      "Loading…:  43%|█████████            | 10757/24974 [00:29<00:45, 313.76it/s]"
     ]
    },
    {
     "name": "stdout",
     "output_type": "stream",
     "text": [
      "ERROR: Class couldn't found for 3f280fae348ce033725a1f61ab37790f.txt. Assigning -1.\n"
     ]
    },
    {
     "name": "stderr",
     "output_type": "stream",
     "text": [
      "Loading…:  43%|█████████            | 10845/24974 [00:30<00:37, 378.54it/s]"
     ]
    },
    {
     "name": "stdout",
     "output_type": "stream",
     "text": [
      "ERROR: Class couldn't found for 5015de005735f9a6b67ae6d125087a8d.txt. Assigning -1.\n",
      "ERROR: Class couldn't found for 277bc08245f3584c39e0bd8d4dcce609.txt. Assigning -1.\n",
      "ERROR: Class couldn't found for 7343e75fb7dcd45b53a3f343f494e2e0.txt. Assigning -1.\n",
      "ERROR: Class couldn't found for 7343e75fb7dcd45b53a3f343f494e2e0.txt. Assigning -1.\n",
      "ERROR: Class couldn't found for 56856aab980a55164ebfd148f5a75be4.txt. Assigning -1.\n"
     ]
    },
    {
     "name": "stderr",
     "output_type": "stream",
     "text": [
      "Loading…:  44%|█████████▏           | 10988/24974 [00:30<00:31, 437.51it/s]"
     ]
    },
    {
     "name": "stdout",
     "output_type": "stream",
     "text": [
      "ERROR: Class couldn't found for 24e4acb5031dcb7aa92d54452760e0d8.txt. Assigning -1.\n",
      "ERROR: Class couldn't found for de89563f5f5f239ef90fbf7663fe7e7e.txt. Assigning -1.\n",
      "ERROR: Class couldn't found for be995b8c1f3041ba9794874da2ea59a9.txt. Assigning -1.\n",
      "ERROR: Class couldn't found for 409bbb90cad42da83908be6f0ebe5bcc.txt. Assigning -1.\n",
      "ERROR: Class couldn't found for 409bbb90cad42da83908be6f0ebe5bcc.txt. Assigning -1.\n",
      "ERROR: Class couldn't found for 2b7b2b9ebf0f64df2e32c30f54727fce.txt. Assigning -1.\n",
      "ERROR: Class couldn't found for 4a99bbde8200c149d7e3f89c3d3e1a0f.txt. Assigning -1.\n",
      "ERROR: Class couldn't found for 4a99bbde8200c149d7e3f89c3d3e1a0f.txt. Assigning -1.\n",
      "ERROR: Class couldn't found for 4a99bbde8200c149d7e3f89c3d3e1a0f.txt. Assigning -1.\n",
      "ERROR: Class couldn't found for 4a99bbde8200c149d7e3f89c3d3e1a0f.txt. Assigning -1.\n",
      "ERROR: Class couldn't found for 4a99bbde8200c149d7e3f89c3d3e1a0f.txt. Assigning -1.\n"
     ]
    },
    {
     "name": "stderr",
     "output_type": "stream",
     "text": [
      "Loading…:  44%|█████████▎           | 11082/24974 [00:30<00:31, 444.82it/s]"
     ]
    },
    {
     "name": "stdout",
     "output_type": "stream",
     "text": [
      "ERROR: Class couldn't found for 86deb9c35a196964e84fc128b4d896a0.txt. Assigning -1.\n",
      "ERROR: Class couldn't found for b1a15d52976e294930a12a42c9ee88cb.txt. Assigning -1.\n",
      "ERROR: Class couldn't found for 203490476a18e1b50f4ac9f2db117e29.txt. Assigning -1.\n",
      "ERROR: Class couldn't found for 203490476a18e1b50f4ac9f2db117e29.txt. Assigning -1.\n",
      "ERROR: Class couldn't found for ead1afa87fa7515593a6eb0c48001c38.txt. Assigning -1.\n",
      "ERROR: Class couldn't found for a31b273736db78346786fd1324d79047.txt. Assigning -1.\n"
     ]
    },
    {
     "name": "stderr",
     "output_type": "stream",
     "text": [
      "Loading…:  45%|█████████▍           | 11227/24974 [00:30<00:31, 441.68it/s]"
     ]
    },
    {
     "name": "stdout",
     "output_type": "stream",
     "text": [
      "ERROR: Class couldn't found for f1c9c0b0a61bfe711593ef80167ae7c9.txt. Assigning -1.\n",
      "ERROR: Class couldn't found for edcea0a12b6194c840659cf94fb72e95.txt. Assigning -1.\n",
      "ERROR: Class couldn't found for 35e08bf9454e9e5f5247aeadf5f87d93.txt. Assigning -1.\n",
      "ERROR: Class couldn't found for 082407a24495e53476c9e7f89d6efd60.txt. Assigning -1.\n"
     ]
    },
    {
     "name": "stderr",
     "output_type": "stream",
     "text": [
      "Loading…:  45%|█████████▌           | 11323/24974 [00:31<00:33, 412.60it/s]"
     ]
    },
    {
     "name": "stdout",
     "output_type": "stream",
     "text": [
      "ERROR: Class couldn't found for 886a8341a4058f84e59cce9a6c065cca.txt. Assigning -1.\n",
      "ERROR: Class couldn't found for 00ea3b9658576d41ec570bd558e81fe4.txt. Assigning -1.\n"
     ]
    },
    {
     "name": "stderr",
     "output_type": "stream",
     "text": [
      "Loading…:  46%|█████████▌           | 11424/24974 [00:31<00:29, 452.59it/s]"
     ]
    },
    {
     "name": "stdout",
     "output_type": "stream",
     "text": [
      "ERROR: Class couldn't found for d510a5943ad808f3909b579263906961.txt. Assigning -1.\n",
      "ERROR: Class couldn't found for 43b582ebb57b119a2702e4a7524ef836.txt. Assigning -1.\n",
      "ERROR: Class couldn't found for b2ea9b621efe6d6587c98b5d652708f5.txt. Assigning -1.\n",
      "ERROR: Class couldn't found for c1e5188eac6d7ef783d838d593eab7bd.txt. Assigning -1.\n",
      "ERROR: Class couldn't found for c1e5188eac6d7ef783d838d593eab7bd.txt. Assigning -1.\n",
      "ERROR: Class couldn't found for c1e5188eac6d7ef783d838d593eab7bd.txt. Assigning -1.\n",
      "ERROR: Class couldn't found for c1e5188eac6d7ef783d838d593eab7bd.txt. Assigning -1.\n",
      "ERROR: Class couldn't found for 6bb358c94d6ba1d8acd5f64aeb26d97f.txt. Assigning -1.\n",
      "ERROR: Class couldn't found for 37d339be6747e56cba1c54c315d47662.txt. Assigning -1.\n"
     ]
    },
    {
     "name": "stderr",
     "output_type": "stream",
     "text": [
      "Loading…:  47%|█████████▊           | 11659/24974 [00:31<00:31, 420.07it/s]"
     ]
    },
    {
     "name": "stdout",
     "output_type": "stream",
     "text": [
      "ERROR: Class couldn't found for 19ad15fec79a11e6fb6a6069809d5378.txt. Assigning -1.\n",
      "ERROR: Class couldn't found for 1e1ea3bed6e8cf2822457c839746dee4.txt. Assigning -1.\n",
      "ERROR: Class couldn't found for bbf1a09ec8457fe32455e93dd8194844.txt. Assigning -1.\n"
     ]
    },
    {
     "name": "stderr",
     "output_type": "stream",
     "text": [
      "Loading…:  47%|█████████▊           | 11702/24974 [00:31<00:32, 404.65it/s]"
     ]
    },
    {
     "name": "stdout",
     "output_type": "stream",
     "text": [
      "ERROR: Class couldn't found for 38a6d9d7db323b1edcf16a0f78cb6dba.txt. Assigning -1.\n",
      "ERROR: Class couldn't found for 38a6d9d7db323b1edcf16a0f78cb6dba.txt. Assigning -1.\n",
      "ERROR: Class couldn't found for 38a6d9d7db323b1edcf16a0f78cb6dba.txt. Assigning -1.\n",
      "ERROR: Class couldn't found for ebaeb734e9dc427bf28fcfaf17d2dd0d.txt. Assigning -1.\n",
      "ERROR: Class couldn't found for 2e4deaac6315bf9de0eb5a19e1dfe85e.txt. Assigning -1.\n",
      "ERROR: Class couldn't found for b0517f5b5dc41e808d39ff29ff84e4f7.txt. Assigning -1.\n",
      "ERROR: Class couldn't found for f1bed18929a7ef8eb9567eab67c0b81d.txt. Assigning -1.\n",
      "ERROR: Class couldn't found for f1bed18929a7ef8eb9567eab67c0b81d.txt. Assigning -1.\n",
      "ERROR: Class couldn't found for f1bed18929a7ef8eb9567eab67c0b81d.txt. Assigning -1.\n"
     ]
    },
    {
     "name": "stderr",
     "output_type": "stream",
     "text": [
      "Loading…:  47%|█████████▉           | 11777/24974 [00:32<00:58, 224.39it/s]"
     ]
    },
    {
     "name": "stdout",
     "output_type": "stream",
     "text": [
      "ERROR: Class couldn't found for d1174489eade653b363be3b8a2e1f0bb.txt. Assigning -1.\n",
      "ERROR: Class couldn't found for 50ca164ab8b8bcfa645053bb775a969f.txt. Assigning -1.\n"
     ]
    },
    {
     "name": "stderr",
     "output_type": "stream",
     "text": [
      "Loading…:  47%|█████████▉           | 11836/24974 [00:32<00:54, 240.98it/s]"
     ]
    },
    {
     "name": "stdout",
     "output_type": "stream",
     "text": [
      "ERROR: Class couldn't found for cbceaf09580de0e7917484281ff297f1.txt. Assigning -1.\n",
      "ERROR: Class couldn't found for 749ded677ce4c1cfe2a7746c9ee1ea27.txt. Assigning -1.\n",
      "ERROR: Class couldn't found for 3feaa3f76ca9e0fb6284feef60e3c88d.txt. Assigning -1.\n",
      "ERROR: Class couldn't found for 7065e03ff77bdcdf69d7cb310e3c290b.txt. Assigning -1.\n",
      "ERROR: Class couldn't found for 7065e03ff77bdcdf69d7cb310e3c290b.txt. Assigning -1.\n",
      "ERROR: Class couldn't found for 7065e03ff77bdcdf69d7cb310e3c290b.txt. Assigning -1.\n",
      "ERROR: Class couldn't found for 7065e03ff77bdcdf69d7cb310e3c290b.txt. Assigning -1.\n",
      "ERROR: Class couldn't found for 7065e03ff77bdcdf69d7cb310e3c290b.txt. Assigning -1.\n",
      "ERROR: Class couldn't found for 7065e03ff77bdcdf69d7cb310e3c290b.txt. Assigning -1.\n"
     ]
    },
    {
     "name": "stderr",
     "output_type": "stream",
     "text": [
      "Loading…:  48%|█████████▉           | 11864/24974 [00:33<01:15, 173.92it/s]"
     ]
    },
    {
     "name": "stdout",
     "output_type": "stream",
     "text": [
      "ERROR: Class couldn't found for b15c21d461162c0c36e558097fdd08a8.txt. Assigning -1.\n",
      "ERROR: Class couldn't found for 4b521d695e2a977997f7fa27cc0eceb3.txt. Assigning -1.\n",
      "ERROR: Class couldn't found for 107f5662ab7b9f361f8870008b557855.txt. Assigning -1.\n"
     ]
    },
    {
     "name": "stderr",
     "output_type": "stream",
     "text": [
      "Loading…:  48%|██████████           | 11922/24974 [00:33<01:04, 202.63it/s]"
     ]
    },
    {
     "name": "stdout",
     "output_type": "stream",
     "text": [
      "ERROR: Class couldn't found for 7e2b9038bbaf981856be85b0cfb1bb73.txt. Assigning -1.\n"
     ]
    },
    {
     "name": "stderr",
     "output_type": "stream",
     "text": [
      "Loading…:  48%|██████████           | 11970/24974 [00:33<01:01, 212.99it/s]"
     ]
    },
    {
     "name": "stdout",
     "output_type": "stream",
     "text": [
      "ERROR: Class couldn't found for 2984a2faf200570324199dbbf97ae91c.txt. Assigning -1.\n"
     ]
    },
    {
     "name": "stderr",
     "output_type": "stream",
     "text": [
      "Loading…:  48%|██████████           | 12017/24974 [00:33<01:07, 190.82it/s]"
     ]
    },
    {
     "name": "stdout",
     "output_type": "stream",
     "text": [
      "ERROR: Class couldn't found for f32aa69bd9b10f9fc9b1173b92be7080.txt. Assigning -1.\n",
      "ERROR: Class couldn't found for a5fb849aa290c5d31c301b2c23644142.txt. Assigning -1.\n"
     ]
    },
    {
     "name": "stderr",
     "output_type": "stream",
     "text": [
      "Loading…:  48%|██████████▏          | 12111/24974 [00:34<00:48, 264.44it/s]"
     ]
    },
    {
     "name": "stdout",
     "output_type": "stream",
     "text": [
      "ERROR: Class couldn't found for 7b766e15538ff64b945927cd25e8f049.txt. Assigning -1.\n",
      "ERROR: Class couldn't found for de6d963aeae26b156e27b9b5fc3d3d4a.txt. Assigning -1.\n",
      "ERROR: Class couldn't found for 5a26ea1ebc19551379a18579e9c68b75.txt. Assigning -1.\n"
     ]
    },
    {
     "name": "stderr",
     "output_type": "stream",
     "text": [
      "Loading…:  49%|██████████▎          | 12210/24974 [00:34<00:34, 366.30it/s]"
     ]
    },
    {
     "name": "stdout",
     "output_type": "stream",
     "text": [
      "ERROR: Class couldn't found for a4e3f3ba1d445a92fa7e21014b32a583.txt. Assigning -1.\n",
      "ERROR: Class couldn't found for 48a60004ea2293609fd311ffd6677403.txt. Assigning -1.\n",
      "ERROR: Class couldn't found for 166311e46b7871b753f56f30b8afc20d.txt. Assigning -1.\n"
     ]
    },
    {
     "name": "stderr",
     "output_type": "stream",
     "text": [
      "Loading…:  49%|██████████▎          | 12292/24974 [00:34<00:35, 355.18it/s]"
     ]
    },
    {
     "name": "stdout",
     "output_type": "stream",
     "text": [
      "ERROR: Class couldn't found for 7cb8de2cfae4e5d8c3b1b4ea53d6ce8f.txt. Assigning -1.\n",
      "ERROR: Class couldn't found for b6efd73c633dfeb8a8fa34c89611447c.txt. Assigning -1.\n",
      "ERROR: Class couldn't found for b6efd73c633dfeb8a8fa34c89611447c.txt. Assigning -1.\n",
      "ERROR: Class couldn't found for 1ed86930dc3a51938c9bdb64b91c55d3.txt. Assigning -1.\n",
      "ERROR: Class couldn't found for 1ed86930dc3a51938c9bdb64b91c55d3.txt. Assigning -1.\n",
      "ERROR: Class couldn't found for 1ed86930dc3a51938c9bdb64b91c55d3.txt. Assigning -1.\n",
      "ERROR: Class couldn't found for 1ed86930dc3a51938c9bdb64b91c55d3.txt. Assigning -1.\n",
      "ERROR: Class couldn't found for ea99c3a66108ea6ac8fe2177cab8cfcd.txt. Assigning -1.\n",
      "ERROR: Class couldn't found for d7fd2d075084d55ad53d3163c4428129.txt. Assigning -1.\n",
      "ERROR: Class couldn't found for 289421e0c62404fb9f293e6ea786b4ff.txt. Assigning -1.\n"
     ]
    },
    {
     "name": "stderr",
     "output_type": "stream",
     "text": [
      "Loading…:  50%|██████████▍          | 12367/24974 [00:34<00:35, 354.44it/s]"
     ]
    },
    {
     "name": "stdout",
     "output_type": "stream",
     "text": [
      "ERROR: Class couldn't found for f350035a5f3b8e38e9f3a5cbe178082b.txt. Assigning -1.\n",
      "ERROR: Class couldn't found for f87f37e7e75ba63091cc17a409c2ba6a.txt. Assigning -1.\n",
      "ERROR: Class couldn't found for ae1e08baaa652a69012689492aec44c6.txt. Assigning -1.\n",
      "ERROR: Class couldn't found for aeea6bbccf83f5e80241237bffce1957.txt. Assigning -1.\n"
     ]
    },
    {
     "name": "stderr",
     "output_type": "stream",
     "text": [
      "Loading…:  50%|██████████▍          | 12474/24974 [00:34<00:28, 445.04it/s]"
     ]
    },
    {
     "name": "stdout",
     "output_type": "stream",
     "text": [
      "ERROR: Class couldn't found for 37f6a8154ea9c161078cb845ca9a1e80.txt. Assigning -1.\n",
      "ERROR: Class couldn't found for 37f6a8154ea9c161078cb845ca9a1e80.txt. Assigning -1.\n",
      "ERROR: Class couldn't found for 2b743eb725c1143c884bdd947b3b3677.txt. Assigning -1.\n",
      "ERROR: Class couldn't found for 382ad03a14a9be9451ac1e8d3435693c.txt. Assigning -1.\n",
      "ERROR: Class couldn't found for a0749430709597818899365e2fe2cb34.txt. Assigning -1.\n",
      "ERROR: Class couldn't found for bb697a3add01223ce239a4cf5d6501a5.txt. Assigning -1.\n"
     ]
    },
    {
     "name": "stderr",
     "output_type": "stream",
     "text": [
      "Loading…:  51%|██████████▌          | 12618/24974 [00:35<00:28, 428.33it/s]"
     ]
    },
    {
     "name": "stdout",
     "output_type": "stream",
     "text": [
      "ERROR: Class couldn't found for fc88510a9726bd3271900435f2dce3f1.txt. Assigning -1.\n",
      "ERROR: Class couldn't found for 41d75aab6982f22d5c49ee1d78102edf.txt. Assigning -1.\n",
      "ERROR: Class couldn't found for 41d75aab6982f22d5c49ee1d78102edf.txt. Assigning -1.\n",
      "ERROR: Class couldn't found for e79ffffe3775509bf145052e1967437f.txt. Assigning -1.\n"
     ]
    },
    {
     "name": "stderr",
     "output_type": "stream",
     "text": [
      "Loading…:  51%|██████████▋          | 12727/24974 [00:35<00:25, 480.42it/s]"
     ]
    },
    {
     "name": "stdout",
     "output_type": "stream",
     "text": [
      "ERROR: Class couldn't found for 14ebc79fed73196538866c301b582e59.txt. Assigning -1.\n",
      "ERROR: Class couldn't found for ac5cc17079fea869e19cf3b49511fd5d.txt. Assigning -1.\n",
      "ERROR: Class couldn't found for d8c10e7ea0efdf514bd94795d0416775.txt. Assigning -1.\n",
      "ERROR: Class couldn't found for d8c10e7ea0efdf514bd94795d0416775.txt. Assigning -1.\n",
      "ERROR: Class couldn't found for ca761611a8eac1de7a190bac65516225.txt. Assigning -1.\n",
      "ERROR: Class couldn't found for ca761611a8eac1de7a190bac65516225.txt. Assigning -1.\n",
      "ERROR: Class couldn't found for ca761611a8eac1de7a190bac65516225.txt. Assigning -1.\n",
      "ERROR: Class couldn't found for ca761611a8eac1de7a190bac65516225.txt. Assigning -1.\n",
      "ERROR: Class couldn't found for b4cbf28c736fa3e33ec91344c31a41b2.txt. Assigning -1.\n",
      "ERROR: Class couldn't found for 5e59a0cca54701174fa3f1c33c0e6a0e.txt. Assigning -1.\n"
     ]
    },
    {
     "name": "stderr",
     "output_type": "stream",
     "text": [
      "Loading…:  52%|██████████▊          | 12878/24974 [00:35<00:25, 465.36it/s]"
     ]
    },
    {
     "name": "stdout",
     "output_type": "stream",
     "text": [
      "ERROR: Class couldn't found for e7544cefae98208bc7d2a1fa0351bfdc.txt. Assigning -1.\n",
      "ERROR: Class couldn't found for 755e3de324e7e1e3d597a7af8642db09.txt. Assigning -1.\n",
      "ERROR: Class couldn't found for 5bb4b1b69ecd3f0f2da441f1db945fd4.txt. Assigning -1.\n"
     ]
    },
    {
     "name": "stderr",
     "output_type": "stream",
     "text": [
      "Loading…:  52%|██████████▉          | 12969/24974 [00:36<00:29, 412.09it/s]"
     ]
    },
    {
     "name": "stdout",
     "output_type": "stream",
     "text": [
      "ERROR: Class couldn't found for f817252829157a35dcace2491326008e.txt. Assigning -1.\n",
      "ERROR: Class couldn't found for 5e8557ca9842f801dd00ec13e22c19d9.txt. Assigning -1.\n",
      "ERROR: Class couldn't found for 642825e72956f0c8e21bc96ad2de8ecb.txt. Assigning -1.\n",
      "ERROR: Class couldn't found for 006e132e1de4098544e937d56a4cf3d3.txt. Assigning -1.\n"
     ]
    },
    {
     "name": "stderr",
     "output_type": "stream",
     "text": [
      "Loading…:  52%|██████████▉          | 13057/24974 [00:36<00:28, 413.07it/s]"
     ]
    },
    {
     "name": "stdout",
     "output_type": "stream",
     "text": [
      "ERROR: Class couldn't found for 44995d3e529652c030ed6bb442833f27.txt. Assigning -1.\n",
      "ERROR: Class couldn't found for 44995d3e529652c030ed6bb442833f27.txt. Assigning -1.\n",
      "ERROR: Class couldn't found for ae84d8058dce7961c1c251e0f3b96d7e.txt. Assigning -1.\n",
      "ERROR: Class couldn't found for ae84d8058dce7961c1c251e0f3b96d7e.txt. Assigning -1.\n"
     ]
    },
    {
     "name": "stderr",
     "output_type": "stream",
     "text": [
      "Loading…:  53%|███████████          | 13148/24974 [00:36<00:29, 398.72it/s]"
     ]
    },
    {
     "name": "stdout",
     "output_type": "stream",
     "text": [
      "ERROR: Class couldn't found for 74ca5d12a5943eafb9d3e7d31c3c51bb.txt. Assigning -1.\n",
      "ERROR: Class couldn't found for 2ba0b5407cf8d5e38fac3e2ff83e12c5.txt. Assigning -1.\n",
      "ERROR: Class couldn't found for ca12d92ccddeea8f34538394711284c0.txt. Assigning -1.\n",
      "ERROR: Class couldn't found for ca12d92ccddeea8f34538394711284c0.txt. Assigning -1.\n",
      "ERROR: Class couldn't found for ca12d92ccddeea8f34538394711284c0.txt. Assigning -1.\n",
      "ERROR: Class couldn't found for ca12d92ccddeea8f34538394711284c0.txt. Assigning -1.\n",
      "ERROR: Class couldn't found for 340a95162020f7a495e4fc2606a244ff.txt. Assigning -1.\n"
     ]
    },
    {
     "name": "stderr",
     "output_type": "stream",
     "text": [
      "Loading…:  53%|███████████          | 13189/24974 [00:36<00:35, 334.80it/s]"
     ]
    },
    {
     "name": "stdout",
     "output_type": "stream",
     "text": [
      "ERROR: Class couldn't found for 4d53e0e1ba8a40c976c0c3726e3f5324.txt. Assigning -1.\n",
      "ERROR: Class couldn't found for 4d53e0e1ba8a40c976c0c3726e3f5324.txt. Assigning -1.\n",
      "ERROR: Class couldn't found for 465d34d6bbfe2f2ba1f0f4fec2fe1622.txt. Assigning -1.\n"
     ]
    },
    {
     "name": "stderr",
     "output_type": "stream",
     "text": [
      "Loading…:  53%|███████████          | 13225/24974 [00:36<00:42, 278.02it/s]"
     ]
    },
    {
     "name": "stdout",
     "output_type": "stream",
     "text": [
      "ERROR: Class couldn't found for fcab72cfbffcfeded34d9af0fdd8441c.txt. Assigning -1.\n",
      "ERROR: Class couldn't found for fcab72cfbffcfeded34d9af0fdd8441c.txt. Assigning -1.\n",
      "ERROR: Class couldn't found for fcab72cfbffcfeded34d9af0fdd8441c.txt. Assigning -1.\n",
      "ERROR: Class couldn't found for 1c9caa2ec5e59d725ce174b366fdd838.txt. Assigning -1.\n",
      "ERROR: Class couldn't found for 9a4e10ea9aafaf10e0c77800ae9408cc.txt. Assigning -1.\n"
     ]
    },
    {
     "name": "stderr",
     "output_type": "stream",
     "text": [
      "Loading…:  53%|███████████▏         | 13256/24974 [00:37<00:48, 241.85it/s]"
     ]
    },
    {
     "name": "stdout",
     "output_type": "stream",
     "text": [
      "ERROR: Class couldn't found for c0d43da9703347e3ba77b7596b197043.txt. Assigning -1.\n"
     ]
    },
    {
     "name": "stderr",
     "output_type": "stream",
     "text": [
      "Loading…:  53%|███████████▏         | 13304/24974 [00:37<01:09, 168.53it/s]"
     ]
    },
    {
     "name": "stdout",
     "output_type": "stream",
     "text": [
      "ERROR: Class couldn't found for 5ccc4bd3ef35fa0d9864638304f77960.txt. Assigning -1.\n",
      "ERROR: Class couldn't found for 5ccc4bd3ef35fa0d9864638304f77960.txt. Assigning -1.\n"
     ]
    },
    {
     "name": "stderr",
     "output_type": "stream",
     "text": [
      "Loading…:  54%|███████████▎         | 13381/24974 [00:37<01:08, 168.17it/s]"
     ]
    },
    {
     "name": "stdout",
     "output_type": "stream",
     "text": [
      "ERROR: Class couldn't found for 416b618bf6a6b49312a45ce30fb0c223.txt. Assigning -1.\n"
     ]
    },
    {
     "name": "stderr",
     "output_type": "stream",
     "text": [
      "Loading…:  54%|███████████▊          | 13422/24974 [00:38<02:37, 73.47it/s]"
     ]
    },
    {
     "name": "stdout",
     "output_type": "stream",
     "text": [
      "ERROR: Class couldn't found for 31195cb267c35b187d00c8aead212490.txt. Assigning -1.\n"
     ]
    },
    {
     "name": "stderr",
     "output_type": "stream",
     "text": [
      "Loading…:  54%|███████████▊          | 13452/24974 [00:39<03:25, 56.14it/s]"
     ]
    },
    {
     "name": "stdout",
     "output_type": "stream",
     "text": [
      "ERROR: Class couldn't found for c1920883e164da48ed8da852b9567cab.txt. Assigning -1.\n"
     ]
    },
    {
     "name": "stderr",
     "output_type": "stream",
     "text": [
      "Loading…:  54%|███████████▊          | 13461/24974 [00:40<05:43, 33.47it/s]"
     ]
    },
    {
     "name": "stdout",
     "output_type": "stream",
     "text": [
      "ERROR: Class couldn't found for 0a5bde5a5627cf44fcca3918de05ab85.txt. Assigning -1.\n",
      "ERROR: Class couldn't found for 0a5bde5a5627cf44fcca3918de05ab85.txt. Assigning -1.\n"
     ]
    },
    {
     "name": "stderr",
     "output_type": "stream",
     "text": [
      "Loading…:  54%|███████████▉          | 13608/24974 [00:44<02:46, 68.28it/s]"
     ]
    },
    {
     "name": "stdout",
     "output_type": "stream",
     "text": [
      "ERROR: Class couldn't found for dc547f76854f7f38408bb8cc18ad6637.txt. Assigning -1.\n",
      "ERROR: Class couldn't found for f7d30a6e8bc4020113e6055280611af5.txt. Assigning -1.\n",
      "ERROR: Class couldn't found for cfd3b1bb70819c7d381edebe9a1817db.txt. Assigning -1.\n",
      "ERROR: Class couldn't found for 50352fe1d924e5d43eee1f16c98a13fd.txt. Assigning -1.\n",
      "ERROR: Class couldn't found for 139ffcb2142896135def46b446a651c2.txt. Assigning -1.\n"
     ]
    },
    {
     "name": "stderr",
     "output_type": "stream",
     "text": [
      "Loading…:  55%|███████████▌         | 13684/24974 [00:45<01:26, 131.17it/s]"
     ]
    },
    {
     "name": "stdout",
     "output_type": "stream",
     "text": [
      "ERROR: Class couldn't found for fc67d1a9e83b16dc3a7522f600e03ee1.txt. Assigning -1.\n",
      "ERROR: Class couldn't found for b2fc06e061e09a153b804e67e6009bb3.txt. Assigning -1.\n",
      "ERROR: Class couldn't found for 82e37182d4da5e4196ae5579f1f93e43.txt. Assigning -1.\n",
      "ERROR: Class couldn't found for 9268875b7d1181f86db58f72602098d2.txt. Assigning -1.\n",
      "ERROR: Class couldn't found for 273156b4ef78bc1a10f76c30c15d7c12.txt. Assigning -1.\n",
      "ERROR: Class couldn't found for 8abd58e7f3f7bdaf9b1b117cbbdbd07f.txt. Assigning -1.\n"
     ]
    },
    {
     "name": "stderr",
     "output_type": "stream",
     "text": [
      "Loading…:  55%|███████████▌         | 13795/24974 [00:45<00:43, 255.53it/s]"
     ]
    },
    {
     "name": "stdout",
     "output_type": "stream",
     "text": [
      "ERROR: Class couldn't found for 0be0124dd6e69b31f804a2e5aae56c54.txt. Assigning -1.\n",
      "ERROR: Class couldn't found for 0be0124dd6e69b31f804a2e5aae56c54.txt. Assigning -1.\n",
      "ERROR: Class couldn't found for c0012b9de811ea20ff99e03375a95790.txt. Assigning -1.\n",
      "ERROR: Class couldn't found for ef011b9a9a6da0bf62cd8dfa3a932d6c.txt. Assigning -1.\n",
      "ERROR: Class couldn't found for ef011b9a9a6da0bf62cd8dfa3a932d6c.txt. Assigning -1.\n",
      "ERROR: Class couldn't found for 7ce3f95f35a7cd94bf66778884cfef0a.txt. Assigning -1.\n",
      "ERROR: Class couldn't found for f5539543e37ef1d459897259ee2d30b5.txt. Assigning -1.\n",
      "ERROR: Class couldn't found for 14ab7e66a06adb9adb40b556fb50174c.txt. Assigning -1.\n"
     ]
    },
    {
     "name": "stderr",
     "output_type": "stream",
     "text": [
      "Loading…:  56%|███████████▋         | 13888/24974 [00:45<00:34, 318.65it/s]"
     ]
    },
    {
     "name": "stdout",
     "output_type": "stream",
     "text": [
      "ERROR: Class couldn't found for df095dd41a9217feb0a25a8c03dbd678.txt. Assigning -1.\n",
      "ERROR: Class couldn't found for eaa8484ce27e0b3ab9eb3ad63050ec5a.txt. Assigning -1.\n",
      "ERROR: Class couldn't found for 3fd0042801ee667a6a84839d94eb80df.txt. Assigning -1.\n",
      "ERROR: Class couldn't found for 0907b4d753abe49825d30aff54597919.txt. Assigning -1.\n",
      "ERROR: Class couldn't found for 0907b4d753abe49825d30aff54597919.txt. Assigning -1.\n",
      "ERROR: Class couldn't found for b175435831832b9ac96692ff7a0891be.txt. Assigning -1.\n",
      "ERROR: Class couldn't found for f0bf26c108c85b92dc548821ecdb7a3d.txt. Assigning -1.\n"
     ]
    },
    {
     "name": "stderr",
     "output_type": "stream",
     "text": [
      "Loading…:  56%|███████████▊         | 13981/24974 [00:46<00:45, 243.81it/s]"
     ]
    },
    {
     "name": "stdout",
     "output_type": "stream",
     "text": [
      "ERROR: Class couldn't found for c95ff6b5c77aa464648956b9066d78f6.txt. Assigning -1.\n",
      "ERROR: Class couldn't found for f95b291407f6f76fa47dec6ab2a04165.txt. Assigning -1.\n",
      "ERROR: Class couldn't found for f95b291407f6f76fa47dec6ab2a04165.txt. Assigning -1.\n",
      "ERROR: Class couldn't found for b5fc6c5bc11facac0bc307a2671a31e6.txt. Assigning -1.\n",
      "ERROR: Class couldn't found for 5d639b09d2526b6eb2bbf07f344f293d.txt. Assigning -1.\n"
     ]
    },
    {
     "name": "stderr",
     "output_type": "stream",
     "text": [
      "Loading…:  56%|███████████▊         | 14019/24974 [00:46<00:56, 194.05it/s]"
     ]
    },
    {
     "name": "stdout",
     "output_type": "stream",
     "text": [
      "ERROR: Class couldn't found for aff570efeb1c809543c6b9b4f06907bd.txt. Assigning -1.\n",
      "ERROR: Class couldn't found for 85a9e75a28cdc7e94b7ec11f860653cd.txt. Assigning -1.\n"
     ]
    },
    {
     "name": "stderr",
     "output_type": "stream",
     "text": [
      "Loading…:  57%|████████████▍         | 14188/24974 [00:53<06:43, 26.75it/s]"
     ]
    },
    {
     "name": "stdout",
     "output_type": "stream",
     "text": [
      "ERROR: Class couldn't found for e4e50366c4048b7a1f6112c5a165feb0.txt. Assigning -1.\n",
      "ERROR: Class couldn't found for 56dbdc9cce197ac42f9c60dadd6d8260.txt. Assigning -1.\n"
     ]
    },
    {
     "name": "stderr",
     "output_type": "stream",
     "text": [
      "Loading…:  57%|████████████▌         | 14314/24974 [00:59<02:19, 76.39it/s]"
     ]
    },
    {
     "name": "stdout",
     "output_type": "stream",
     "text": [
      "ERROR: Class couldn't found for c0af69978bea9f47e3016e55994ffdee.txt. Assigning -1.\n",
      "ERROR: Class couldn't found for 691bcfabb0af0f393527272f16d23a01.txt. Assigning -1.\n",
      "ERROR: Class couldn't found for 691bcfabb0af0f393527272f16d23a01.txt. Assigning -1.\n",
      "ERROR: Class couldn't found for 691bcfabb0af0f393527272f16d23a01.txt. Assigning -1.\n",
      "ERROR: Class couldn't found for a2a01578a468274b0e6a3d09ba568ca4.txt. Assigning -1.\n",
      "ERROR: Class couldn't found for a2c3a0c84c7db86b5d5701c789a12537.txt. Assigning -1.\n",
      "ERROR: Class couldn't found for a2c3a0c84c7db86b5d5701c789a12537.txt. Assigning -1.\n"
     ]
    },
    {
     "name": "stderr",
     "output_type": "stream",
     "text": [
      "Loading…:  58%|████████████         | 14418/24974 [00:59<00:58, 178.93it/s]"
     ]
    },
    {
     "name": "stdout",
     "output_type": "stream",
     "text": [
      "ERROR: Class couldn't found for c4925139227f59bb3bf5126a943f0ae7.txt. Assigning -1.\n",
      "ERROR: Class couldn't found for 1358981853e2c05af60adf21b18aceef.txt. Assigning -1.\n",
      "ERROR: Class couldn't found for 4c2a809b2304de8e9ca82d4082e6ac54.txt. Assigning -1.\n",
      "ERROR: Class couldn't found for 4c2a809b2304de8e9ca82d4082e6ac54.txt. Assigning -1.\n",
      "ERROR: Class couldn't found for 1c6ec37f4b58fa0779b63fdd7301e4ea.txt. Assigning -1.\n",
      "ERROR: Class couldn't found for 0cc8625196b073e0dd1ff11b93606e26.txt. Assigning -1.\n",
      "ERROR: Class couldn't found for 72b802346583b197a9cf1a328a269356.txt. Assigning -1.\n"
     ]
    },
    {
     "name": "stderr",
     "output_type": "stream",
     "text": [
      "Loading…:  58%|████████████▏        | 14527/24974 [00:59<00:33, 310.31it/s]"
     ]
    },
    {
     "name": "stdout",
     "output_type": "stream",
     "text": [
      "ERROR: Class couldn't found for 437c011ded91b1bcf59ea492c2560c56.txt. Assigning -1.\n",
      "ERROR: Class couldn't found for ba3818a11ae1f971a5cac291635b4582.txt. Assigning -1.\n",
      "ERROR: Class couldn't found for c79b24f53bf8c0f6d63848090da70e8f.txt. Assigning -1.\n",
      "ERROR: Class couldn't found for 30cadb1b2617be5ae396e6f0e49238be.txt. Assigning -1.\n"
     ]
    },
    {
     "name": "stderr",
     "output_type": "stream",
     "text": [
      "Loading…:  59%|████████████▎        | 14681/24974 [01:00<00:25, 411.00it/s]"
     ]
    },
    {
     "name": "stdout",
     "output_type": "stream",
     "text": [
      "ERROR: Class couldn't found for 777fc8c1edbb610ba7cedd18069907cb.txt. Assigning -1.\n",
      "ERROR: Class couldn't found for aaee5b973d7616f7a225e9e7557391fa.txt. Assigning -1.\n"
     ]
    },
    {
     "name": "stderr",
     "output_type": "stream",
     "text": [
      "Loading…:  59%|████████████▍        | 14779/24974 [01:00<00:22, 445.24it/s]"
     ]
    },
    {
     "name": "stdout",
     "output_type": "stream",
     "text": [
      "ERROR: Class couldn't found for 385ddbe198bba1049d5d282585d81e35.txt. Assigning -1.\n",
      "ERROR: Class couldn't found for 6ef844e1e8da46a4c6ef1e6aac1b3f4f.txt. Assigning -1.\n",
      "ERROR: Class couldn't found for 9bd801408b8ce7909832a5d48b2909f6.txt. Assigning -1.\n",
      "ERROR: Class couldn't found for 592e99067ff27ece7143b48c68a3e0a4.txt. Assigning -1.\n"
     ]
    },
    {
     "name": "stderr",
     "output_type": "stream",
     "text": [
      "Loading…:  60%|████████████▌        | 14930/24974 [01:00<00:23, 435.39it/s]"
     ]
    },
    {
     "name": "stdout",
     "output_type": "stream",
     "text": [
      "ERROR: Class couldn't found for e4fd60bf855d35e664052db2be92dc5d.txt. Assigning -1.\n",
      "ERROR: Class couldn't found for 8d6c86dec6b169a72461d5f1c1bb7b36.txt. Assigning -1.\n",
      "ERROR: Class couldn't found for e82744053d918031f75fa877ab9efae7.txt. Assigning -1.\n",
      "ERROR: Class couldn't found for eb2acdcdcc3c0454ca78ec6187fe82cc.txt. Assigning -1.\n"
     ]
    },
    {
     "name": "stderr",
     "output_type": "stream",
     "text": [
      "Loading…:  60%|████████████▋        | 15030/24974 [01:01<00:21, 456.93it/s]"
     ]
    },
    {
     "name": "stdout",
     "output_type": "stream",
     "text": [
      "ERROR: Class couldn't found for 811a0a53c932393b3dafabe15f44ea5d.txt. Assigning -1.\n",
      "ERROR: Class couldn't found for 658e5d336a597595f47690fc26b322d2.txt. Assigning -1.\n",
      "ERROR: Class couldn't found for f9b6a8b066cc01dd8654bd5548534e29.txt. Assigning -1.\n",
      "ERROR: Class couldn't found for 33cd225a8023d74be4e9e605f982755e.txt. Assigning -1.\n",
      "ERROR: Class couldn't found for 4d1f696c7ac2b40fb081e29b31c0ffbd.txt. Assigning -1.\n"
     ]
    },
    {
     "name": "stderr",
     "output_type": "stream",
     "text": [
      "Loading…:  61%|████████████▊        | 15172/24974 [01:01<00:22, 431.00it/s]"
     ]
    },
    {
     "name": "stdout",
     "output_type": "stream",
     "text": [
      "ERROR: Class couldn't found for dcb64a066414f6f7ab1c8376d93ef7a9.txt. Assigning -1.\n",
      "ERROR: Class couldn't found for dcb64a066414f6f7ab1c8376d93ef7a9.txt. Assigning -1.\n",
      "ERROR: Class couldn't found for 443b702147d61a0ff56af131ea32b7d9.txt. Assigning -1.\n",
      "ERROR: Class couldn't found for c3bb9bf301590cd99bd71d5224e0b806.txt. Assigning -1.\n",
      "ERROR: Class couldn't found for d868efe5a01c7ac803464e38dece4a0f.txt. Assigning -1.\n",
      "ERROR: Class couldn't found for d55cfdacea8948967e9bfcdc154e7a36.txt. Assigning -1.\n"
     ]
    },
    {
     "name": "stderr",
     "output_type": "stream",
     "text": [
      "Loading…:  61%|████████████▊        | 15217/24974 [01:01<00:28, 341.78it/s]"
     ]
    },
    {
     "name": "stdout",
     "output_type": "stream",
     "text": [
      "ERROR: Class couldn't found for d9ac4f9ade11248f52a53331ee635582.txt. Assigning -1.\n",
      "ERROR: Class couldn't found for 2fc9be9c799f7076c8a082473e5d48f0.txt. Assigning -1.\n"
     ]
    },
    {
     "name": "stderr",
     "output_type": "stream",
     "text": [
      "Loading…:  61%|████████████▊        | 15255/24974 [01:02<00:53, 181.31it/s]"
     ]
    },
    {
     "name": "stdout",
     "output_type": "stream",
     "text": [
      "ERROR: Class couldn't found for b8fc2878c9284410c78c3bc0f1cac631.txt. Assigning -1.\n",
      "ERROR: Class couldn't found for b8fc2878c9284410c78c3bc0f1cac631.txt. Assigning -1.\n"
     ]
    },
    {
     "name": "stderr",
     "output_type": "stream",
     "text": [
      "Loading…:  61%|████████████▊        | 15284/24974 [01:02<01:06, 146.58it/s]"
     ]
    },
    {
     "name": "stdout",
     "output_type": "stream",
     "text": [
      "ERROR: Class couldn't found for 069f4b0f4372225af23b1da06069ef3a.txt. Assigning -1.\n"
     ]
    },
    {
     "name": "stderr",
     "output_type": "stream",
     "text": [
      "Loading…:  61%|████████████▉        | 15326/24974 [01:02<01:25, 112.78it/s]"
     ]
    },
    {
     "name": "stdout",
     "output_type": "stream",
     "text": [
      "ERROR: Class couldn't found for 4429ec284dc61ae4b94a76382e89927e.txt. Assigning -1.\n",
      "ERROR: Class couldn't found for 01df2c628fb34c5393240760f8192615.txt. Assigning -1.\n"
     ]
    },
    {
     "name": "stderr",
     "output_type": "stream",
     "text": [
      "Loading…:  61%|████████████▉        | 15342/24974 [01:03<01:30, 105.89it/s]"
     ]
    },
    {
     "name": "stdout",
     "output_type": "stream",
     "text": [
      "ERROR: Class couldn't found for 9753d647227bf0294e9e26cf3cb0ca60.txt. Assigning -1.\n"
     ]
    },
    {
     "name": "stderr",
     "output_type": "stream",
     "text": [
      "Loading…:  62%|█████████████▌        | 15376/24974 [01:04<03:56, 40.56it/s]"
     ]
    },
    {
     "name": "stdout",
     "output_type": "stream",
     "text": [
      "ERROR: Class couldn't found for fa1d838a505ae6f8b9a53f410d1897f8.txt. Assigning -1.\n",
      "ERROR: Class couldn't found for 8d0a0da7456d02dc3caa925a74aacca9.txt. Assigning -1.\n"
     ]
    },
    {
     "name": "stderr",
     "output_type": "stream",
     "text": [
      "Loading…:  62%|█████████████▌        | 15385/24974 [01:05<03:36, 44.19it/s]"
     ]
    },
    {
     "name": "stdout",
     "output_type": "stream",
     "text": [
      "ERROR: Class couldn't found for 69905df943b3d68aa84f0af247acd8d7.txt. Assigning -1.\n"
     ]
    },
    {
     "name": "stderr",
     "output_type": "stream",
     "text": [
      "Loading…:  62%|█████████████▌        | 15459/24974 [01:09<08:05, 19.62it/s]"
     ]
    },
    {
     "name": "stdout",
     "output_type": "stream",
     "text": [
      "ERROR: Class couldn't found for a17260e5a0ea4d0d0500dbbd6c9e32ea.txt. Assigning -1.\n",
      "ERROR: Class couldn't found for a17260e5a0ea4d0d0500dbbd6c9e32ea.txt. Assigning -1.\n",
      "ERROR: Class couldn't found for a17260e5a0ea4d0d0500dbbd6c9e32ea.txt. Assigning -1.\n"
     ]
    },
    {
     "name": "stderr",
     "output_type": "stream",
     "text": [
      "Loading…:  62%|█████████████▋        | 15506/24974 [01:10<04:13, 37.37it/s]"
     ]
    },
    {
     "name": "stdout",
     "output_type": "stream",
     "text": [
      "ERROR: Class couldn't found for 6b674472b82bb903f5ac88191d7f1c26.txt. Assigning -1.\n",
      "ERROR: Class couldn't found for 1ee856480e5c626270bd6ccf68e59579.txt. Assigning -1.\n"
     ]
    },
    {
     "name": "stderr",
     "output_type": "stream",
     "text": [
      "Loading…:  62%|█████████████▋        | 15516/24974 [01:10<04:13, 37.31it/s]"
     ]
    },
    {
     "name": "stdout",
     "output_type": "stream",
     "text": [
      "ERROR: Class couldn't found for 08475b3ec23fc5d5a1476904b367946e.txt. Assigning -1.\n"
     ]
    },
    {
     "name": "stderr",
     "output_type": "stream",
     "text": [
      "Loading…:  62%|█████████████▋        | 15564/24974 [01:11<03:13, 48.64it/s]"
     ]
    },
    {
     "name": "stdout",
     "output_type": "stream",
     "text": [
      "ERROR: Class couldn't found for ce6c4510175465f2568566b8409e860a.txt. Assigning -1.\n",
      "ERROR: Class couldn't found for 0945691d8a56a78a873bda69d8a6a3ee.txt. Assigning -1.\n",
      "ERROR: Class couldn't found for 0945691d8a56a78a873bda69d8a6a3ee.txt. Assigning -1.\n",
      "ERROR: Class couldn't found for 0945691d8a56a78a873bda69d8a6a3ee.txt. Assigning -1.\n",
      "ERROR: Class couldn't found for 0945691d8a56a78a873bda69d8a6a3ee.txt. Assigning -1.\n"
     ]
    },
    {
     "name": "stderr",
     "output_type": "stream",
     "text": [
      "Loading…:  63%|█████████████▊        | 15630/24974 [01:12<02:42, 57.57it/s]"
     ]
    },
    {
     "name": "stdout",
     "output_type": "stream",
     "text": [
      "ERROR: Class couldn't found for b4c38a541109e51683e9d9f1aec42cbb.txt. Assigning -1.\n"
     ]
    },
    {
     "name": "stderr",
     "output_type": "stream",
     "text": [
      "Loading…:  63%|█████████████▎       | 15790/24974 [01:14<01:04, 142.17it/s]"
     ]
    },
    {
     "name": "stdout",
     "output_type": "stream",
     "text": [
      "ERROR: Class couldn't found for d8d0f3cbda711e52cce20473624225bd.txt. Assigning -1.\n",
      "ERROR: Class couldn't found for 8265a453e91bc97e1b3edbd069810cc4.txt. Assigning -1.\n",
      "ERROR: Class couldn't found for 454b46cc80842fed95bab20899a3e2dd.txt. Assigning -1.\n",
      "ERROR: Class couldn't found for 454b46cc80842fed95bab20899a3e2dd.txt. Assigning -1.\n",
      "ERROR: Class couldn't found for 454b46cc80842fed95bab20899a3e2dd.txt. Assigning -1.\n",
      "ERROR: Class couldn't found for 454b46cc80842fed95bab20899a3e2dd.txt. Assigning -1.\n",
      "ERROR: Class couldn't found for aff7c5a11c194b964fae2addd94c897b.txt. Assigning -1.\n"
     ]
    },
    {
     "name": "stderr",
     "output_type": "stream",
     "text": [
      "Loading…:  64%|█████████████▍       | 15918/24974 [01:15<00:31, 289.86it/s]"
     ]
    },
    {
     "name": "stdout",
     "output_type": "stream",
     "text": [
      "ERROR: Class couldn't found for 483438acc0246242fbb6fb9f469530f5.txt. Assigning -1.\n",
      "ERROR: Class couldn't found for 5914db6d85ec0dfeeec5994028cd3723.txt. Assigning -1.\n",
      "ERROR: Class couldn't found for 0a903e9386f4895d0b7604347095e5b0.txt. Assigning -1.\n"
     ]
    },
    {
     "name": "stderr",
     "output_type": "stream",
     "text": [
      "Loading…:  64%|█████████████▍       | 16016/24974 [01:15<00:23, 373.78it/s]"
     ]
    },
    {
     "name": "stdout",
     "output_type": "stream",
     "text": [
      "ERROR: Class couldn't found for 91bc930cd53850866a5a298d7ed12888.txt. Assigning -1.\n",
      "ERROR: Class couldn't found for 4c51caebbc6d6a9d74511863161d37aa.txt. Assigning -1.\n",
      "ERROR: Class couldn't found for b576a30c0a8f35ef23513c9ef6d00cb7.txt. Assigning -1.\n",
      "ERROR: Class couldn't found for 32078df9f525e211025d0cf8a50756f3.txt. Assigning -1.\n"
     ]
    },
    {
     "name": "stderr",
     "output_type": "stream",
     "text": [
      "Loading…:  64%|█████████████▌       | 16103/24974 [01:15<00:23, 384.97it/s]"
     ]
    },
    {
     "name": "stdout",
     "output_type": "stream",
     "text": [
      "ERROR: Class couldn't found for ecc5480a42da3d0293d1e8c113dfaf21.txt. Assigning -1.\n",
      "ERROR: Class couldn't found for 84c552a8ab14b48b25b25acd3afe0405.txt. Assigning -1.\n",
      "ERROR: Class couldn't found for 84c552a8ab14b48b25b25acd3afe0405.txt. Assigning -1.\n",
      "ERROR: Class couldn't found for 7665be06b8043c26c8b87962f441818b.txt. Assigning -1.\n",
      "ERROR: Class couldn't found for c4584bae9f0dfccb3cf516c0adccd513.txt. Assigning -1.\n",
      "ERROR: Class couldn't found for beea9bff18b01df95679f7de72116ce8.txt. Assigning -1.\n"
     ]
    },
    {
     "name": "stderr",
     "output_type": "stream",
     "text": [
      "Loading…:  65%|█████████████▌       | 16197/24974 [01:15<00:21, 414.83it/s]"
     ]
    },
    {
     "name": "stdout",
     "output_type": "stream",
     "text": [
      "ERROR: Class couldn't found for b4acac1ed25df6711277e830b5910213.txt. Assigning -1.\n",
      "ERROR: Class couldn't found for d14c45da53679eb88ad893897322182a.txt. Assigning -1.\n",
      "ERROR: Class couldn't found for 167b1610bc2c0a1b4b2e17c52cf2c88d.txt. Assigning -1.\n",
      "ERROR: Class couldn't found for 167b1610bc2c0a1b4b2e17c52cf2c88d.txt. Assigning -1.\n",
      "ERROR: Class couldn't found for 860da968e877db1b227582161e9a9ffd.txt. Assigning -1.\n",
      "ERROR: Class couldn't found for b2114cf0cf3154040c6d1118725448e2.txt. Assigning -1.\n"
     ]
    },
    {
     "name": "stderr",
     "output_type": "stream",
     "text": [
      "Loading…:  65%|█████████████▋       | 16287/24974 [01:15<00:20, 428.73it/s]"
     ]
    },
    {
     "name": "stdout",
     "output_type": "stream",
     "text": [
      "ERROR: Class couldn't found for b8c08e249b9da6ddd71b2c9a48ebd7f4.txt. Assigning -1.\n",
      "ERROR: Class couldn't found for 3374a263fd9247a2f7ef1006db8239ea.txt. Assigning -1.\n",
      "ERROR: Class couldn't found for 3374a263fd9247a2f7ef1006db8239ea.txt. Assigning -1.\n",
      "ERROR: Class couldn't found for c9e4ea7b102583ffae077077c946eede.txt. Assigning -1.\n",
      "ERROR: Class couldn't found for 9e7be2406e4428e07c52f82728bf7170.txt. Assigning -1.\n"
     ]
    },
    {
     "name": "stderr",
     "output_type": "stream",
     "text": [
      "Loading…:  66%|█████████████▊       | 16419/24974 [01:16<00:21, 403.57it/s]"
     ]
    },
    {
     "name": "stdout",
     "output_type": "stream",
     "text": [
      "ERROR: Class couldn't found for 5511cf70a99ba7f5217f5e3ba661fabc.txt. Assigning -1.\n",
      "ERROR: Class couldn't found for c97d77b9771d2268cc0362bdbd930738.txt. Assigning -1.\n",
      "ERROR: Class couldn't found for 81492b4e77f4382b35bd0f7f283d34f0.txt. Assigning -1.\n",
      "ERROR: Class couldn't found for ef66e815826b812ef675aa383432fce4.txt. Assigning -1.\n",
      "ERROR: Class couldn't found for ef66e815826b812ef675aa383432fce4.txt. Assigning -1.\n",
      "ERROR: Class couldn't found for 4c26a2ec349abe07d94d89ea32909f57.txt. Assigning -1.\n",
      "ERROR: Class couldn't found for 6b75ee8a902ace1c1598d6049028ca7f.txt. Assigning -1.\n",
      "ERROR: Class couldn't found for 6b75ee8a902ace1c1598d6049028ca7f.txt. Assigning -1.\n",
      "ERROR: Class couldn't found for 6b75ee8a902ace1c1598d6049028ca7f.txt. Assigning -1.\n",
      "ERROR: Class couldn't found for 9a8db950efb166ed1e705612abbe9a5f.txt. Assigning -1.\n",
      "ERROR: Class couldn't found for 5eb0a96f5a8b783830d31ea439991715.txt. Assigning -1.\n"
     ]
    },
    {
     "name": "stderr",
     "output_type": "stream",
     "text": [
      "Loading…:  66%|█████████████▊       | 16476/24974 [01:16<00:18, 450.15it/s]"
     ]
    },
    {
     "name": "stdout",
     "output_type": "stream",
     "text": [
      "ERROR: Class couldn't found for 113af19a4cccf4c12d8b7aa5d5df806d.txt. Assigning -1.\n",
      "ERROR: Class couldn't found for 81c4d1ac81445aad87db644b4dc8dfd4.txt. Assigning -1.\n"
     ]
    },
    {
     "name": "stderr",
     "output_type": "stream",
     "text": [
      "Loading…:  66%|█████████████▉       | 16558/24974 [01:16<00:35, 236.11it/s]"
     ]
    },
    {
     "name": "stdout",
     "output_type": "stream",
     "text": [
      "ERROR: Class couldn't found for 3825cf308a78ccffb326be0572042930.txt. Assigning -1.\n",
      "ERROR: Class couldn't found for 3825cf308a78ccffb326be0572042930.txt. Assigning -1.\n",
      "ERROR: Class couldn't found for 3825cf308a78ccffb326be0572042930.txt. Assigning -1.\n",
      "ERROR: Class couldn't found for 3825cf308a78ccffb326be0572042930.txt. Assigning -1.\n",
      "ERROR: Class couldn't found for ff2e1e018e722455d6eee1247d6081bc.txt. Assigning -1.\n",
      "ERROR: Class couldn't found for 6d6e66152f14a47a36215b6702d096e1.txt. Assigning -1.\n",
      "ERROR: Class couldn't found for dd41fc6565e5f786de1a80daa535d3eb.txt. Assigning -1.\n"
     ]
    },
    {
     "name": "stderr",
     "output_type": "stream",
     "text": [
      "Loading…:  67%|██████████████▋       | 16612/24974 [01:18<01:56, 71.69it/s]"
     ]
    },
    {
     "name": "stdout",
     "output_type": "stream",
     "text": [
      "ERROR: Class couldn't found for 1dbcbd25300e9e8f5a8c8448f2fd4230.txt. Assigning -1.\n"
     ]
    },
    {
     "name": "stderr",
     "output_type": "stream",
     "text": [
      "Loading…:  67%|██████████████▋       | 16643/24974 [01:19<02:27, 56.51it/s]"
     ]
    },
    {
     "name": "stdout",
     "output_type": "stream",
     "text": [
      "ERROR: Class couldn't found for 7f6214b5cd28d954708e64205a28fb6b.txt. Assigning -1.\n",
      "ERROR: Class couldn't found for d3ea0295607e84caca91a8288c47371c.txt. Assigning -1.\n",
      "ERROR: Class couldn't found for d3ea0295607e84caca91a8288c47371c.txt. Assigning -1.\n"
     ]
    },
    {
     "name": "stderr",
     "output_type": "stream",
     "text": [
      "Loading…:  67%|██████████████▋       | 16693/24974 [01:21<03:13, 42.79it/s]"
     ]
    },
    {
     "name": "stdout",
     "output_type": "stream",
     "text": [
      "ERROR: Class couldn't found for 4e261a5183c73dbb2335a17d887782eb.txt. Assigning -1.\n",
      "ERROR: Class couldn't found for 4e261a5183c73dbb2335a17d887782eb.txt. Assigning -1.\n",
      "ERROR: Class couldn't found for 4e261a5183c73dbb2335a17d887782eb.txt. Assigning -1.\n",
      "ERROR: Class couldn't found for 4e261a5183c73dbb2335a17d887782eb.txt. Assigning -1.\n",
      "ERROR: Class couldn't found for 4e261a5183c73dbb2335a17d887782eb.txt. Assigning -1.\n"
     ]
    },
    {
     "name": "stderr",
     "output_type": "stream",
     "text": [
      "Loading…:  67%|██████████████▋       | 16719/24974 [01:21<02:16, 60.43it/s]"
     ]
    },
    {
     "name": "stdout",
     "output_type": "stream",
     "text": [
      "ERROR: Class couldn't found for 58ef3ddf4c81db0d9cf0c009ad3fdc59.txt. Assigning -1.\n"
     ]
    },
    {
     "name": "stderr",
     "output_type": "stream",
     "text": [
      "Loading…:  67%|██████████████▋       | 16743/24974 [01:22<03:26, 39.80it/s]"
     ]
    },
    {
     "name": "stdout",
     "output_type": "stream",
     "text": [
      "ERROR: Class couldn't found for a37bc117addcd6ae23323a4c752dce3d.txt. Assigning -1.\n",
      "ERROR: Class couldn't found for c802b4c309a6104c00fa850a79a1ded4.txt. Assigning -1.\n",
      "ERROR: Class couldn't found for 0cc3bfac5ca69584b706bb2e869e0e4f.txt. Assigning -1.\n"
     ]
    },
    {
     "name": "stderr",
     "output_type": "stream",
     "text": [
      "Loading…:  67%|██████████████▊       | 16815/24974 [01:26<09:34, 14.20it/s]"
     ]
    },
    {
     "name": "stdout",
     "output_type": "stream",
     "text": [
      "ERROR: Class couldn't found for 283496926a0c98325067701d64dccaf6.txt. Assigning -1.\n",
      "ERROR: Class couldn't found for 283496926a0c98325067701d64dccaf6.txt. Assigning -1.\n",
      "ERROR: Class couldn't found for 283496926a0c98325067701d64dccaf6.txt. Assigning -1.\n",
      "ERROR: Class couldn't found for 283496926a0c98325067701d64dccaf6.txt. Assigning -1.\n",
      "ERROR: Class couldn't found for 283496926a0c98325067701d64dccaf6.txt. Assigning -1.\n"
     ]
    },
    {
     "name": "stderr",
     "output_type": "stream",
     "text": [
      "Loading…:  67%|██████████████▊       | 16851/24974 [01:28<08:10, 16.56it/s]"
     ]
    },
    {
     "name": "stdout",
     "output_type": "stream",
     "text": [
      "ERROR: Class couldn't found for 826129139a91747501cf91e8de07414f.txt. Assigning -1.\n"
     ]
    },
    {
     "name": "stderr",
     "output_type": "stream",
     "text": [
      "Loading…:  68%|██████████████▉       | 16911/24974 [01:29<02:28, 54.20it/s]"
     ]
    },
    {
     "name": "stdout",
     "output_type": "stream",
     "text": [
      "ERROR: Class couldn't found for 3cabda4bd920bb37e05bd97c26d4e481.txt. Assigning -1.\n"
     ]
    },
    {
     "name": "stderr",
     "output_type": "stream",
     "text": [
      "Loading…:  68%|██████████████▎      | 17073/24974 [01:29<00:36, 215.72it/s]"
     ]
    },
    {
     "name": "stdout",
     "output_type": "stream",
     "text": [
      "ERROR: Class couldn't found for 8f5ca772b956609e86dc312cf8ca73f3.txt. Assigning -1.\n",
      "ERROR: Class couldn't found for 29d6e6188f1bb0ad6309f892b9ed308c.txt. Assigning -1.\n",
      "ERROR: Class couldn't found for f50165f2a8be0a1b60d6381016025a4d.txt. Assigning -1.\n",
      "ERROR: Class couldn't found for f50165f2a8be0a1b60d6381016025a4d.txt. Assigning -1.\n",
      "ERROR: Class couldn't found for f50165f2a8be0a1b60d6381016025a4d.txt. Assigning -1.\n",
      "ERROR: Class couldn't found for f50165f2a8be0a1b60d6381016025a4d.txt. Assigning -1.\n",
      "ERROR: Class couldn't found for 89ade0337e43682a2df49b586aedcb61.txt. Assigning -1.\n",
      "ERROR: Class couldn't found for e008a65f91f364520dc889a6ae616c26.txt. Assigning -1.\n"
     ]
    },
    {
     "name": "stderr",
     "output_type": "stream",
     "text": [
      "Loading…:  69%|██████████████▍      | 17201/24974 [01:30<00:23, 325.11it/s]"
     ]
    },
    {
     "name": "stdout",
     "output_type": "stream",
     "text": [
      "ERROR: Class couldn't found for a69d7cbf47171464626e435f014eab78.txt. Assigning -1.\n",
      "ERROR: Class couldn't found for f378631752eeda0ce025bbb27ccfc1ed.txt. Assigning -1.\n",
      "ERROR: Class couldn't found for c28d5ec24687ac00f82b26e127e07542.txt. Assigning -1.\n",
      "ERROR: Class couldn't found for 80142e55581ca4e30e53731d3af6f4d8.txt. Assigning -1.\n",
      "ERROR: Class couldn't found for 80142e55581ca4e30e53731d3af6f4d8.txt. Assigning -1.\n",
      "ERROR: Class couldn't found for daa596fb92f7cde9717e0014ec4a92cb.txt. Assigning -1.\n",
      "ERROR: Class couldn't found for daa596fb92f7cde9717e0014ec4a92cb.txt. Assigning -1.\n",
      "ERROR: Class couldn't found for d69689fb33fd546b16ce976bfaca5247.txt. Assigning -1.\n"
     ]
    },
    {
     "name": "stderr",
     "output_type": "stream",
     "text": [
      "Loading…:  69%|██████████████▌      | 17290/24974 [01:30<00:21, 357.39it/s]"
     ]
    },
    {
     "name": "stdout",
     "output_type": "stream",
     "text": [
      "ERROR: Class couldn't found for 1939af7dacadea2d57211c96a5efb5e5.txt. Assigning -1.\n",
      "ERROR: Class couldn't found for c1e13d214cf55a5258247327532eb3a3.txt. Assigning -1.\n"
     ]
    },
    {
     "name": "stderr",
     "output_type": "stream",
     "text": [
      "Loading…:  70%|██████████████▌      | 17377/24974 [01:31<00:35, 212.80it/s]"
     ]
    },
    {
     "name": "stdout",
     "output_type": "stream",
     "text": [
      "ERROR: Class couldn't found for 2ea55079d66057257e62cdac0e3248a9.txt. Assigning -1.\n",
      "ERROR: Class couldn't found for 2ea55079d66057257e62cdac0e3248a9.txt. Assigning -1.\n",
      "ERROR: Class couldn't found for e62679ee27e3e172eedeb295aaf54602.txt. Assigning -1.\n",
      "ERROR: Class couldn't found for 122d7ee3c1a2931db985f9249a41d004.txt. Assigning -1.\n",
      "ERROR: Class couldn't found for 20dba5a7731b7ba8cd2f5839c60aec01.txt. Assigning -1.\n",
      "ERROR: Class couldn't found for f6f0b4aa3bb01c21ce5522782ba99fef.txt. Assigning -1.\n"
     ]
    },
    {
     "name": "stderr",
     "output_type": "stream",
     "text": [
      "Loading…:  70%|██████████████▋      | 17463/24974 [01:31<00:26, 287.32it/s]"
     ]
    },
    {
     "name": "stdout",
     "output_type": "stream",
     "text": [
      "ERROR: Class couldn't found for e124cd2c26080b8a51afdd5fc8fcb9b1.txt. Assigning -1.\n",
      "ERROR: Class couldn't found for bf48edf1ec1e23afbe78c24fcaffd049.txt. Assigning -1.\n",
      "ERROR: Class couldn't found for e032f331772271c4a5d0fb26b8888bf0.txt. Assigning -1.\n",
      "ERROR: Class couldn't found for e032f331772271c4a5d0fb26b8888bf0.txt. Assigning -1.\n",
      "ERROR: Class couldn't found for ea09954610444c4bedb46b091ffd07da.txt. Assigning -1.\n",
      "ERROR: Class couldn't found for 050649a0b9c4835b54d6ea6a8471119d.txt. Assigning -1.\n",
      "ERROR: Class couldn't found for decd49932bb1943353d22aa5d5ea4781.txt. Assigning -1.\n",
      "ERROR: Class couldn't found for decd49932bb1943353d22aa5d5ea4781.txt. Assigning -1.\n",
      "ERROR: Class couldn't found for decd49932bb1943353d22aa5d5ea4781.txt. Assigning -1.\n"
     ]
    },
    {
     "name": "stderr",
     "output_type": "stream",
     "text": [
      "Loading…:  70%|██████████████▊      | 17601/24974 [01:31<00:19, 387.02it/s]"
     ]
    },
    {
     "name": "stdout",
     "output_type": "stream",
     "text": [
      "ERROR: Class couldn't found for 58bd058f8809b419f68fc81c63f0ec13.txt. Assigning -1.\n",
      "ERROR: Class couldn't found for 401dda36d60b46fce5ea452b3dcace06.txt. Assigning -1.\n",
      "ERROR: Class couldn't found for bac5d4b978650fc1946d99a4acf201c3.txt. Assigning -1.\n",
      "ERROR: Class couldn't found for 190c70f694dd83a3d1bc98de87c45e55.txt. Assigning -1.\n",
      "ERROR: Class couldn't found for 7171b5af900f342c806d0a6da92b7e1a.txt. Assigning -1.\n",
      "ERROR: Class couldn't found for 7171b5af900f342c806d0a6da92b7e1a.txt. Assigning -1.\n"
     ]
    },
    {
     "name": "stderr",
     "output_type": "stream",
     "text": [
      "Loading…:  71%|██████████████▉      | 17694/24974 [01:31<00:17, 418.47it/s]"
     ]
    },
    {
     "name": "stdout",
     "output_type": "stream",
     "text": [
      "ERROR: Class couldn't found for 600180f30ac242e770d2662e5da735ff.txt. Assigning -1.\n",
      "ERROR: Class couldn't found for 600180f30ac242e770d2662e5da735ff.txt. Assigning -1.\n",
      "ERROR: Class couldn't found for 600180f30ac242e770d2662e5da735ff.txt. Assigning -1.\n",
      "ERROR: Class couldn't found for 600180f30ac242e770d2662e5da735ff.txt. Assigning -1.\n",
      "ERROR: Class couldn't found for 600180f30ac242e770d2662e5da735ff.txt. Assigning -1.\n",
      "ERROR: Class couldn't found for bb9f3c6d7ec09f03715a845cb972afe4.txt. Assigning -1.\n",
      "ERROR: Class couldn't found for e79eb005f8fcc12aa68027cc365300cc.txt. Assigning -1.\n",
      "ERROR: Class couldn't found for 956744c9c647c90f4675ec9b85850da7.txt. Assigning -1.\n"
     ]
    },
    {
     "name": "stderr",
     "output_type": "stream",
     "text": [
      "Loading…:  71%|███████████████      | 17843/24974 [01:32<00:15, 470.85it/s]"
     ]
    },
    {
     "name": "stdout",
     "output_type": "stream",
     "text": [
      "ERROR: Class couldn't found for db3ab2edf860a43f4690906fba556377.txt. Assigning -1.\n",
      "ERROR: Class couldn't found for 6de38f10ae70c02efe1e09ef7e4ca8ee.txt. Assigning -1.\n",
      "ERROR: Class couldn't found for 477a0c6215d08e8b446d43912545248c.txt. Assigning -1.\n",
      "ERROR: Class couldn't found for 0a48e8e9fdcd83da019b3992a9bc9f99.txt. Assigning -1.\n",
      "ERROR: Class couldn't found for 0a48e8e9fdcd83da019b3992a9bc9f99.txt. Assigning -1.\n"
     ]
    },
    {
     "name": "stderr",
     "output_type": "stream",
     "text": [
      "Loading…:  72%|███████████████      | 17944/24974 [01:32<00:15, 439.75it/s]"
     ]
    },
    {
     "name": "stdout",
     "output_type": "stream",
     "text": [
      "ERROR: Class couldn't found for b6a6dfbc70f3df8bb0db2f5db0496eac.txt. Assigning -1.\n",
      "ERROR: Class couldn't found for f9622fb9017b3b1fec168b8e2318f813.txt. Assigning -1.\n",
      "ERROR: Class couldn't found for d81b1453bc7115fec4177aafbe3e59be.txt. Assigning -1.\n",
      "ERROR: Class couldn't found for d81b1453bc7115fec4177aafbe3e59be.txt. Assigning -1.\n",
      "ERROR: Class couldn't found for d81b1453bc7115fec4177aafbe3e59be.txt. Assigning -1.\n",
      "ERROR: Class couldn't found for d81b1453bc7115fec4177aafbe3e59be.txt. Assigning -1.\n",
      "ERROR: Class couldn't found for 189007a6df849c12e9e91c3cb58206f8.txt. Assigning -1.\n",
      "ERROR: Class couldn't found for ce93ddee54a5a34acc4e91eaff8b0e3a.txt. Assigning -1.\n",
      "ERROR: Class couldn't found for ce93ddee54a5a34acc4e91eaff8b0e3a.txt. Assigning -1.\n",
      "ERROR: Class couldn't found for 9346a1b3120b5c8192871bb23ee53df6.txt. Assigning -1.\n"
     ]
    },
    {
     "name": "stderr",
     "output_type": "stream",
     "text": [
      "Loading…:  72%|███████████████▏     | 18034/24974 [01:32<00:17, 406.67it/s]"
     ]
    },
    {
     "name": "stdout",
     "output_type": "stream",
     "text": [
      "ERROR: Class couldn't found for dad0534a41bc103e34177380efa50886.txt. Assigning -1.\n",
      "ERROR: Class couldn't found for cd529a50a081a29b541c956c12d264bd.txt. Assigning -1.\n"
     ]
    },
    {
     "name": "stderr",
     "output_type": "stream",
     "text": [
      "Loading…:  73%|███████████████▎     | 18160/24974 [01:32<00:16, 407.45it/s]"
     ]
    },
    {
     "name": "stdout",
     "output_type": "stream",
     "text": [
      "ERROR: Class couldn't found for e4584898b9717de1a3235ddadbb5f0c7.txt. Assigning -1.\n",
      "ERROR: Class couldn't found for 966b7cd71ff114949ae1a6441cff1afd.txt. Assigning -1.\n",
      "ERROR: Class couldn't found for 3daa40f3e800085f62904be48def763d.txt. Assigning -1.\n"
     ]
    },
    {
     "name": "stderr",
     "output_type": "stream",
     "text": [
      "Loading…:  73%|███████████████▎     | 18260/24974 [01:33<00:15, 434.23it/s]"
     ]
    },
    {
     "name": "stdout",
     "output_type": "stream",
     "text": [
      "ERROR: Class couldn't found for 0e7f9b24b81211548e2f325bfaf16504.txt. Assigning -1.\n",
      "ERROR: Class couldn't found for 0e7f9b24b81211548e2f325bfaf16504.txt. Assigning -1.\n",
      "ERROR: Class couldn't found for ed871ca4827cbc1c5d2821a2bbb43d2a.txt. Assigning -1.\n",
      "ERROR: Class couldn't found for ed871ca4827cbc1c5d2821a2bbb43d2a.txt. Assigning -1.\n",
      "ERROR: Class couldn't found for a469c33890d2d981b03faff881332c58.txt. Assigning -1.\n",
      "ERROR: Class couldn't found for 35514d0cce2b8491d28b94675cf1fe52.txt. Assigning -1.\n"
     ]
    },
    {
     "name": "stderr",
     "output_type": "stream",
     "text": [
      "Loading…:  73%|███████████████▍     | 18345/24974 [01:33<00:16, 393.27it/s]"
     ]
    },
    {
     "name": "stdout",
     "output_type": "stream",
     "text": [
      "ERROR: Class couldn't found for d31c9d0c88dd551d46d1640a742682b8.txt. Assigning -1.\n",
      "ERROR: Class couldn't found for d31c9d0c88dd551d46d1640a742682b8.txt. Assigning -1.\n",
      "ERROR: Class couldn't found for 24f7340ccc71dcd748d14b556df4204b.txt. Assigning -1.\n",
      "ERROR: Class couldn't found for 24f7340ccc71dcd748d14b556df4204b.txt. Assigning -1.\n",
      "ERROR: Class couldn't found for 24f7340ccc71dcd748d14b556df4204b.txt. Assigning -1.\n",
      "ERROR: Class couldn't found for 24f7340ccc71dcd748d14b556df4204b.txt. Assigning -1.\n",
      "ERROR: Class couldn't found for 24f7340ccc71dcd748d14b556df4204b.txt. Assigning -1.\n",
      "ERROR: Class couldn't found for 24f7340ccc71dcd748d14b556df4204b.txt. Assigning -1.\n"
     ]
    },
    {
     "name": "stderr",
     "output_type": "stream",
     "text": [
      "Loading…:  74%|███████████████▍     | 18425/24974 [01:33<00:18, 360.78it/s]"
     ]
    },
    {
     "name": "stdout",
     "output_type": "stream",
     "text": [
      "ERROR: Class couldn't found for af94a7bc19ed54728135dbd4f58b6f30.txt. Assigning -1.\n",
      "ERROR: Class couldn't found for 06dfca9d58c81975c587ae5240449e4e.txt. Assigning -1.\n",
      "ERROR: Class couldn't found for 8b506352d1483463f10b65ebe3337095.txt. Assigning -1.\n"
     ]
    },
    {
     "name": "stderr",
     "output_type": "stream",
     "text": [
      "Loading…:  74%|███████████████▌     | 18534/24974 [01:34<00:19, 336.77it/s]"
     ]
    },
    {
     "name": "stdout",
     "output_type": "stream",
     "text": [
      "ERROR: Class couldn't found for 83a6c32c62afbe37a14d5a489b0d49cf.txt. Assigning -1.\n",
      "ERROR: Class couldn't found for 6103519421ce584bad60bb727d1e6403.txt. Assigning -1.\n",
      "ERROR: Class couldn't found for 23003765f2f9c85f3a3ffd790f6d9ff5.txt. Assigning -1.\n",
      "ERROR: Class couldn't found for 2d353ff4432d337f936442241beef6cf.txt. Assigning -1.\n"
     ]
    },
    {
     "name": "stderr",
     "output_type": "stream",
     "text": [
      "Loading…:  75%|███████████████▋     | 18619/24974 [01:34<00:16, 374.11it/s]"
     ]
    },
    {
     "name": "stdout",
     "output_type": "stream",
     "text": [
      "ERROR: Class couldn't found for f389425e662e4b5454cff532e53fff0a.txt. Assigning -1.\n",
      "ERROR: Class couldn't found for 2e07f198ceb265701077fd26bab5461b.txt. Assigning -1.\n",
      "ERROR: Class couldn't found for f85d61e4e4e920faf287c912796548f1.txt. Assigning -1.\n"
     ]
    },
    {
     "name": "stderr",
     "output_type": "stream",
     "text": [
      "Loading…:  75%|███████████████▊     | 18751/24974 [01:34<00:15, 397.05it/s]"
     ]
    },
    {
     "name": "stdout",
     "output_type": "stream",
     "text": [
      "ERROR: Class couldn't found for 0039eb1ff33d29c55f943e05730bb259.txt. Assigning -1.\n",
      "ERROR: Class couldn't found for aa9b510601b569279b3b06f07576b1c5.txt. Assigning -1.\n",
      "ERROR: Class couldn't found for ce3dc822fa1b1a1c09dd28406697fcb8.txt. Assigning -1.\n",
      "ERROR: Class couldn't found for c255eac014f013318586056f518ebb3c.txt. Assigning -1.\n",
      "ERROR: Class couldn't found for c0cd4d38b332d838155d86e46fd7956c.txt. Assigning -1.\n",
      "ERROR: Class couldn't found for 669f3afa7109433c6ed970a20afeab82.txt. Assigning -1.\n",
      "ERROR: Class couldn't found for 2495870f150c754a18a5e9e6d5c79a2a.txt. Assigning -1.\n",
      "ERROR: Class couldn't found for b3bdddddf4734f6d9dea87d3289a99f4.txt. Assigning -1.\n"
     ]
    },
    {
     "name": "stderr",
     "output_type": "stream",
     "text": [
      "Loading…:  75%|███████████████▊     | 18843/24974 [01:34<00:14, 424.27it/s]"
     ]
    },
    {
     "name": "stdout",
     "output_type": "stream",
     "text": [
      "ERROR: Class couldn't found for 0b4083f8edcc0cf990bd191b825f0653.txt. Assigning -1.\n",
      "ERROR: Class couldn't found for e7cb13e920b180e6bb2f1b0e39e21dc5.txt. Assigning -1.\n",
      "ERROR: Class couldn't found for dca17fa3fa169202393e26d9594df0ff.txt. Assigning -1.\n",
      "ERROR: Class couldn't found for 92c7dd43b52975ec56c7d4f618bc153c.txt. Assigning -1.\n",
      "ERROR: Class couldn't found for 92c7dd43b52975ec56c7d4f618bc153c.txt. Assigning -1.\n",
      "ERROR: Class couldn't found for 92c7dd43b52975ec56c7d4f618bc153c.txt. Assigning -1.\n",
      "ERROR: Class couldn't found for 8082e046855002cb6f0b09b399f72535.txt. Assigning -1.\n",
      "ERROR: Class couldn't found for cf69cb505222051018c267790696d6e4.txt. Assigning -1.\n",
      "ERROR: Class couldn't found for 0e33d93f5b97c0fb563262c5d0bbcb6f.txt. Assigning -1.\n"
     ]
    },
    {
     "name": "stderr",
     "output_type": "stream",
     "text": [
      "Loading…:  76%|███████████████▉     | 18928/24974 [01:34<00:15, 399.12it/s]"
     ]
    },
    {
     "name": "stdout",
     "output_type": "stream",
     "text": [
      "ERROR: Class couldn't found for 89ff0e4bd07b963cecfabad69e1e793e.txt. Assigning -1.\n",
      "ERROR: Class couldn't found for e4a1b98e6857de275c87f040cac421da.txt. Assigning -1.\n",
      "ERROR: Class couldn't found for 6073dfaa6e50eeb2ad6a870631058b90.txt. Assigning -1.\n",
      "ERROR: Class couldn't found for 58e0c80a6c733261dd0a921169970c55.txt. Assigning -1.\n"
     ]
    },
    {
     "name": "stderr",
     "output_type": "stream",
     "text": [
      "Loading…:  76%|████████████████     | 19048/24974 [01:35<00:16, 349.27it/s]"
     ]
    },
    {
     "name": "stdout",
     "output_type": "stream",
     "text": [
      "ERROR: Class couldn't found for c746cba404df94623ada760365d224eb.txt. Assigning -1.\n",
      "ERROR: Class couldn't found for 97052cf1191e1f4e13c4aea75419fff9.txt. Assigning -1.\n",
      "ERROR: Class couldn't found for 97052cf1191e1f4e13c4aea75419fff9.txt. Assigning -1.\n",
      "ERROR: Class couldn't found for e3030ca39360477eb3b547e3a7b3c416.txt. Assigning -1.\n",
      "ERROR: Class couldn't found for 30967f034fce7c28799cf11edfbb57a8.txt. Assigning -1.\n"
     ]
    },
    {
     "name": "stderr",
     "output_type": "stream",
     "text": [
      "Loading…:  77%|████████████████     | 19125/24974 [01:35<00:16, 359.34it/s]"
     ]
    },
    {
     "name": "stdout",
     "output_type": "stream",
     "text": [
      "ERROR: Class couldn't found for 1f9b2ea1be0c2426a23a39aa20115f63.txt. Assigning -1.\n"
     ]
    },
    {
     "name": "stderr",
     "output_type": "stream",
     "text": [
      "Loading…:  77%|████████████████▏    | 19209/24974 [01:35<00:15, 380.59it/s]"
     ]
    },
    {
     "name": "stdout",
     "output_type": "stream",
     "text": [
      "ERROR: Class couldn't found for 068accb6c55d222f930722a89949b52b.txt. Assigning -1.\n",
      "ERROR: Class couldn't found for f7b42ffd7e0f8478fc73822c8d2b2081.txt. Assigning -1.\n",
      "ERROR: Class couldn't found for c0ab1a7ee0f34d19da4b85bd51c08996.txt. Assigning -1.\n",
      "ERROR: Class couldn't found for 19c58816ebacbec2f12d82c2daa34d47.txt. Assigning -1.\n",
      "ERROR: Class couldn't found for c243e788a3aee92ffc7f0bbcc481b0d7.txt. Assigning -1.\n",
      "ERROR: Class couldn't found for c243e788a3aee92ffc7f0bbcc481b0d7.txt. Assigning -1.\n"
     ]
    },
    {
     "name": "stderr",
     "output_type": "stream",
     "text": [
      "Loading…:  77%|████████████████▏    | 19253/24974 [01:35<00:14, 396.10it/s]"
     ]
    },
    {
     "name": "stdout",
     "output_type": "stream",
     "text": [
      "ERROR: Class couldn't found for e321837ed6334f889a60e9a1256753e1.txt. Assigning -1.\n",
      "ERROR: Class couldn't found for e8fec697905aea7bbd2bc41093ba6044.txt. Assigning -1.\n"
     ]
    },
    {
     "name": "stderr",
     "output_type": "stream",
     "text": [
      "Loading…:  78%|████████████████▎    | 19402/24974 [01:36<00:20, 273.42it/s]"
     ]
    },
    {
     "name": "stdout",
     "output_type": "stream",
     "text": [
      "ERROR: Class couldn't found for 4315e966be804984e01340fa6646e3b5.txt. Assigning -1.\n",
      "ERROR: Class couldn't found for 4315e966be804984e01340fa6646e3b5.txt. Assigning -1.\n",
      "ERROR: Class couldn't found for 4315e966be804984e01340fa6646e3b5.txt. Assigning -1.\n",
      "ERROR: Class couldn't found for 4315e966be804984e01340fa6646e3b5.txt. Assigning -1.\n",
      "ERROR: Class couldn't found for 4315e966be804984e01340fa6646e3b5.txt. Assigning -1.\n",
      "ERROR: Class couldn't found for 4fde02cb27f00970f6c9ac932d01dde1.txt. Assigning -1.\n",
      "ERROR: Class couldn't found for 50615796b1fb0c3d14563bd7718df84b.txt. Assigning -1.\n",
      "ERROR: Class couldn't found for 50615796b1fb0c3d14563bd7718df84b.txt. Assigning -1.\n"
     ]
    },
    {
     "name": "stderr",
     "output_type": "stream",
     "text": [
      "Loading…:  78%|████████████████▎    | 19436/24974 [01:36<00:19, 286.70it/s]"
     ]
    },
    {
     "name": "stdout",
     "output_type": "stream",
     "text": [
      "ERROR: Class couldn't found for eac8b750c54274eff6a63be2a6aa3eeb.txt. Assigning -1.\n"
     ]
    },
    {
     "name": "stderr",
     "output_type": "stream",
     "text": [
      "Loading…:  78%|█████████████████▏    | 19497/24974 [01:37<00:58, 93.33it/s]"
     ]
    },
    {
     "name": "stdout",
     "output_type": "stream",
     "text": [
      "ERROR: Class couldn't found for e16e6dead4765dcce6229f52d83cdb08.txt. Assigning -1.\n"
     ]
    },
    {
     "name": "stderr",
     "output_type": "stream",
     "text": [
      "Loading…:  78%|█████████████████▏    | 19534/24974 [01:38<00:54, 99.97it/s]"
     ]
    },
    {
     "name": "stdout",
     "output_type": "stream",
     "text": [
      "ERROR: Class couldn't found for f3d9144042dd3ccb45ac9049e2378d7d.txt. Assigning -1.\n",
      "ERROR: Class couldn't found for 30db26b05240cfcfab200800b8516da8.txt. Assigning -1.\n"
     ]
    },
    {
     "name": "stderr",
     "output_type": "stream",
     "text": [
      "Loading…:  78%|█████████████████▏    | 19550/24974 [01:38<00:59, 91.40it/s]"
     ]
    },
    {
     "name": "stdout",
     "output_type": "stream",
     "text": [
      "ERROR: Class couldn't found for 9a84c4f2c9c85cfe50971b2d9cc4e943.txt. Assigning -1.\n"
     ]
    },
    {
     "name": "stderr",
     "output_type": "stream",
     "text": [
      "Loading…:  78%|█████████████████▎    | 19589/24974 [01:39<01:55, 46.61it/s]"
     ]
    },
    {
     "name": "stdout",
     "output_type": "stream",
     "text": [
      "ERROR: Class couldn't found for b94fab14b130fd15567b6ac0a9bb7ff6.txt. Assigning -1.\n",
      "ERROR: Class couldn't found for 7526de022eec8b28ed83b698c33ac633.txt. Assigning -1.\n"
     ]
    },
    {
     "name": "stderr",
     "output_type": "stream",
     "text": [
      "Loading…:  78%|█████████████████▎    | 19603/24974 [01:40<03:50, 23.26it/s]"
     ]
    },
    {
     "name": "stdout",
     "output_type": "stream",
     "text": [
      "ERROR: Class couldn't found for e2e27e986cd5cf2ab5f944dc6c18385d.txt. Assigning -1.\n"
     ]
    },
    {
     "name": "stderr",
     "output_type": "stream",
     "text": [
      "Loading…:  79%|█████████████████▎    | 19655/24974 [01:46<04:46, 18.55it/s]"
     ]
    },
    {
     "name": "stdout",
     "output_type": "stream",
     "text": [
      "ERROR: Class couldn't found for 3a6077c5a12f775d3e263d3ca0ffa896.txt. Assigning -1.\n"
     ]
    },
    {
     "name": "stderr",
     "output_type": "stream",
     "text": [
      "Loading…:  79%|█████████████████▎    | 19684/24974 [01:47<03:20, 26.42it/s]"
     ]
    },
    {
     "name": "stdout",
     "output_type": "stream",
     "text": [
      "ERROR: Class couldn't found for 4537c1d29ea545966483aca5b0d03f83.txt. Assigning -1.\n",
      "ERROR: Class couldn't found for bed8e265e5b125ad45ba4f01ffdcfed4.txt. Assigning -1.\n",
      "ERROR: Class couldn't found for 24262824e2a8b993b4ef0ca6a9bd6ec9.txt. Assigning -1.\n"
     ]
    },
    {
     "name": "stderr",
     "output_type": "stream",
     "text": [
      "Loading…:  79%|█████████████████▎    | 19707/24974 [01:47<02:30, 35.10it/s]"
     ]
    },
    {
     "name": "stdout",
     "output_type": "stream",
     "text": [
      "ERROR: Class couldn't found for 144932f26773da686efaa949ae6a42ed.txt. Assigning -1.\n",
      "ERROR: Class couldn't found for 144932f26773da686efaa949ae6a42ed.txt. Assigning -1.\n"
     ]
    },
    {
     "name": "stderr",
     "output_type": "stream",
     "text": [
      "Loading…:  79%|█████████████████▍    | 19736/24974 [01:48<01:41, 51.44it/s]"
     ]
    },
    {
     "name": "stdout",
     "output_type": "stream",
     "text": [
      "ERROR: Class couldn't found for dfffda54a58ef284215a49ba499a6e1d.txt. Assigning -1.\n"
     ]
    },
    {
     "name": "stderr",
     "output_type": "stream",
     "text": [
      "Loading…:  79%|█████████████████▍    | 19772/24974 [01:50<04:02, 21.47it/s]"
     ]
    },
    {
     "name": "stdout",
     "output_type": "stream",
     "text": [
      "ERROR: Class couldn't found for e4a9820c446fdd7e159f8b4f371b7eea.txt. Assigning -1.\n",
      "ERROR: Class couldn't found for e4a9820c446fdd7e159f8b4f371b7eea.txt. Assigning -1.\n",
      "ERROR: Class couldn't found for b9d4a2cddf00065c1eeff44c0ae41a06.txt. Assigning -1.\n"
     ]
    },
    {
     "name": "stderr",
     "output_type": "stream",
     "text": [
      "Loading…:  79%|█████████████████▍    | 19799/24974 [01:50<02:43, 31.60it/s]"
     ]
    },
    {
     "name": "stdout",
     "output_type": "stream",
     "text": [
      "ERROR: Class couldn't found for b0dd0bf087d47d4a0f36ea7b406d22c2.txt. Assigning -1.\n",
      "ERROR: Class couldn't found for e30322dd9222923f2965d8a71378791e.txt. Assigning -1.\n",
      "ERROR: Class couldn't found for e30322dd9222923f2965d8a71378791e.txt. Assigning -1.\n"
     ]
    },
    {
     "name": "stderr",
     "output_type": "stream",
     "text": [
      "Loading…:  80%|█████████████████▍    | 19865/24974 [01:52<01:46, 47.99it/s]"
     ]
    },
    {
     "name": "stdout",
     "output_type": "stream",
     "text": [
      "ERROR: Class couldn't found for cfb3af2bfa675a826d5081d49d951b18.txt. Assigning -1.\n"
     ]
    },
    {
     "name": "stderr",
     "output_type": "stream",
     "text": [
      "Loading…:  80%|█████████████████▌    | 19876/24974 [01:52<03:26, 24.72it/s]"
     ]
    },
    {
     "name": "stdout",
     "output_type": "stream",
     "text": [
      "ERROR: Class couldn't found for 557557d893df03c3355645a5cf8a513d.txt. Assigning -1.\n",
      "ERROR: Class couldn't found for 557557d893df03c3355645a5cf8a513d.txt. Assigning -1.\n",
      "ERROR: Class couldn't found for 557557d893df03c3355645a5cf8a513d.txt. Assigning -1.\n"
     ]
    },
    {
     "name": "stderr",
     "output_type": "stream",
     "text": [
      "Loading…:  80%|█████████████████▌    | 19883/24974 [01:53<05:26, 15.59it/s]"
     ]
    },
    {
     "name": "stdout",
     "output_type": "stream",
     "text": [
      "ERROR: Class couldn't found for 824da807b6b6eaf272ec05daae1a238b.txt. Assigning -1.\n"
     ]
    },
    {
     "name": "stderr",
     "output_type": "stream",
     "text": [
      "Loading…:  80%|█████████████████▌    | 19905/24974 [01:54<03:10, 26.65it/s]"
     ]
    },
    {
     "name": "stdout",
     "output_type": "stream",
     "text": [
      "ERROR: Class couldn't found for e5138601fec31aa6bf564e2ae7488d2b.txt. Assigning -1.\n"
     ]
    },
    {
     "name": "stderr",
     "output_type": "stream",
     "text": [
      "Loading…:  80%|█████████████████▌    | 19952/24974 [01:56<03:19, 25.21it/s]"
     ]
    },
    {
     "name": "stdout",
     "output_type": "stream",
     "text": [
      "ERROR: Class couldn't found for d743a093634c856c48d31d70b7b342cb.txt. Assigning -1.\n",
      "ERROR: Class couldn't found for 339c551030a17ffb3bd20ad931d3f9ad.txt. Assigning -1.\n"
     ]
    },
    {
     "name": "stderr",
     "output_type": "stream",
     "text": [
      "Loading…:  80%|█████████████████▌    | 19998/24974 [01:57<02:09, 38.42it/s]"
     ]
    },
    {
     "name": "stdout",
     "output_type": "stream",
     "text": [
      "ERROR: Class couldn't found for cd1467494b0536dd24b5b36f0c4267a6.txt. Assigning -1.\n",
      "ERROR: Class couldn't found for cd1467494b0536dd24b5b36f0c4267a6.txt. Assigning -1.\n"
     ]
    },
    {
     "name": "stderr",
     "output_type": "stream",
     "text": [
      "Loading…:  81%|█████████████████▋    | 20136/24974 [02:01<01:50, 43.77it/s]"
     ]
    },
    {
     "name": "stdout",
     "output_type": "stream",
     "text": [
      "ERROR: Class couldn't found for 611af10fc8f1ae92f3fd46e4f085b1a5.txt. Assigning -1.\n"
     ]
    },
    {
     "name": "stderr",
     "output_type": "stream",
     "text": [
      "Loading…:  81%|█████████████████▋    | 20149/24974 [02:02<02:01, 39.73it/s]"
     ]
    },
    {
     "name": "stdout",
     "output_type": "stream",
     "text": [
      "ERROR: Class couldn't found for 82672f33c5a36805991cc56672d9f4df.txt. Assigning -1.\n"
     ]
    },
    {
     "name": "stderr",
     "output_type": "stream",
     "text": [
      "Loading…:  81%|█████████████████▊    | 20170/24974 [02:02<01:40, 47.73it/s]"
     ]
    },
    {
     "name": "stdout",
     "output_type": "stream",
     "text": [
      "ERROR: Class couldn't found for 15e939dcb1d47fbe9aca6be737392780.txt. Assigning -1.\n"
     ]
    },
    {
     "name": "stderr",
     "output_type": "stream",
     "text": [
      "Loading…:  81%|█████████████████▊    | 20184/24974 [02:05<06:38, 12.01it/s]"
     ]
    },
    {
     "name": "stdout",
     "output_type": "stream",
     "text": [
      "ERROR: Class couldn't found for 7bf6669bd4a02490f3b0b0c6c38ab7ae.txt. Assigning -1.\n",
      "ERROR: Class couldn't found for 7bf6669bd4a02490f3b0b0c6c38ab7ae.txt. Assigning -1.\n",
      "ERROR: Class couldn't found for 7bf6669bd4a02490f3b0b0c6c38ab7ae.txt. Assigning -1.\n",
      "ERROR: Class couldn't found for 7bf6669bd4a02490f3b0b0c6c38ab7ae.txt. Assigning -1.\n",
      "ERROR: Class couldn't found for 4689b189a3e0f49b56641fe1e10bdd61.txt. Assigning -1.\n"
     ]
    },
    {
     "name": "stderr",
     "output_type": "stream",
     "text": [
      "Loading…:  81%|█████████████████▊    | 20206/24974 [02:07<05:21, 14.85it/s]"
     ]
    },
    {
     "name": "stdout",
     "output_type": "stream",
     "text": [
      "ERROR: Class couldn't found for 6a709bfaf2775636339e4304a715e449.txt. Assigning -1.\n",
      "ERROR: Class couldn't found for 57d13ef1fc8bd5b7f08f6e6e673088e6.txt. Assigning -1.\n"
     ]
    },
    {
     "name": "stderr",
     "output_type": "stream",
     "text": [
      "Loading…:  81%|█████████████████▊    | 20227/24974 [02:07<02:26, 32.42it/s]"
     ]
    },
    {
     "name": "stdout",
     "output_type": "stream",
     "text": [
      "ERROR: Class couldn't found for 88416f4b1d21323945658ece00a19828.txt. Assigning -1.\n",
      "ERROR: Class couldn't found for 72f14510e68cba5c26e71217c24dc2da.txt. Assigning -1.\n"
     ]
    },
    {
     "name": "stderr",
     "output_type": "stream",
     "text": [
      "Loading…:  81%|█████████████████▊    | 20264/24974 [02:09<04:36, 17.01it/s]"
     ]
    },
    {
     "name": "stdout",
     "output_type": "stream",
     "text": [
      "ERROR: Class couldn't found for f175df45eb485e655c2ab073b0f8cebb.txt. Assigning -1.\n"
     ]
    },
    {
     "name": "stderr",
     "output_type": "stream",
     "text": [
      "Loading…:  81%|█████████████████▉    | 20330/24974 [02:12<03:46, 20.50it/s]"
     ]
    },
    {
     "name": "stdout",
     "output_type": "stream",
     "text": [
      "ERROR: Class couldn't found for 68b6c92a04f0475aa5d24b891acf9790.txt. Assigning -1.\n"
     ]
    },
    {
     "name": "stderr",
     "output_type": "stream",
     "text": [
      "Loading…:  81%|█████████████████▉    | 20344/24974 [02:13<06:06, 12.63it/s]"
     ]
    },
    {
     "name": "stdout",
     "output_type": "stream",
     "text": [
      "ERROR: Class couldn't found for 6f5ce0e5b8a8396de930e6340acdf410.txt. Assigning -1.\n"
     ]
    },
    {
     "name": "stderr",
     "output_type": "stream",
     "text": [
      "Loading…:  82%|█████████████████▉    | 20369/24974 [02:14<03:15, 23.58it/s]"
     ]
    },
    {
     "name": "stdout",
     "output_type": "stream",
     "text": [
      "ERROR: Class couldn't found for d11473b9473498bf4860d1f9e5a2e880.txt. Assigning -1.\n"
     ]
    },
    {
     "name": "stderr",
     "output_type": "stream",
     "text": [
      "Loading…:  82%|█████████████████▏   | 20476/24974 [02:15<00:37, 118.42it/s]"
     ]
    },
    {
     "name": "stdout",
     "output_type": "stream",
     "text": [
      "ERROR: Class couldn't found for 425b573df86ab823baec2b81427d1980.txt. Assigning -1.\n",
      "ERROR: Class couldn't found for a8a721e21c4e9d44fa33c04b6bb24cac.txt. Assigning -1.\n",
      "ERROR: Class couldn't found for 249c9cdc8f2720ff3147fac237c9e08e.txt. Assigning -1.\n",
      "ERROR: Class couldn't found for cc8764bdfcef395ddf7e9894716e0f92.txt. Assigning -1.\n",
      "ERROR: Class couldn't found for cc8764bdfcef395ddf7e9894716e0f92.txt. Assigning -1.\n",
      "ERROR: Class couldn't found for 97f2db537b6bb31c220b6d1c7cc57026.txt. Assigning -1.\n",
      "ERROR: Class couldn't found for 97f2db537b6bb31c220b6d1c7cc57026.txt. Assigning -1.\n",
      "ERROR: Class couldn't found for 97f2db537b6bb31c220b6d1c7cc57026.txt. Assigning -1.\n",
      "ERROR: Class couldn't found for 97f2db537b6bb31c220b6d1c7cc57026.txt. Assigning -1.\n",
      "ERROR: Class couldn't found for 97f2db537b6bb31c220b6d1c7cc57026.txt. Assigning -1.\n",
      "ERROR: Class couldn't found for 97f2db537b6bb31c220b6d1c7cc57026.txt. Assigning -1.\n",
      "ERROR: Class couldn't found for f53ce5666764e4dc0401f9a6dd7467af.txt. Assigning -1.\n"
     ]
    },
    {
     "name": "stderr",
     "output_type": "stream",
     "text": [
      "Loading…:  82%|█████████████████▎   | 20546/24974 [02:16<00:28, 157.77it/s]"
     ]
    },
    {
     "name": "stdout",
     "output_type": "stream",
     "text": [
      "ERROR: Class couldn't found for db75d28f7f19cc9b2b6de09df4399948.txt. Assigning -1.\n",
      "ERROR: Class couldn't found for db75d28f7f19cc9b2b6de09df4399948.txt. Assigning -1.\n",
      "ERROR: Class couldn't found for eb679dbff2a5da035b295ccdc01564c5.txt. Assigning -1.\n"
     ]
    },
    {
     "name": "stderr",
     "output_type": "stream",
     "text": [
      "Loading…:  82%|██████████████████▏   | 20594/24974 [02:20<03:28, 20.98it/s]"
     ]
    },
    {
     "name": "stdout",
     "output_type": "stream",
     "text": [
      "ERROR: Class couldn't found for 6eaa47d0d60864520adf38823cd3b9e5.txt. Assigning -1.\n"
     ]
    },
    {
     "name": "stderr",
     "output_type": "stream",
     "text": [
      "Loading…:  83%|██████████████████▏   | 20610/24974 [02:21<03:37, 20.06it/s]"
     ]
    },
    {
     "name": "stdout",
     "output_type": "stream",
     "text": [
      "ERROR: Class couldn't found for 9acbab12228c1155b428cd05b98cf949.txt. Assigning -1.\n",
      "ERROR: Class couldn't found for c80c18e0ec910e23986698ad3bb3efa6.txt. Assigning -1.\n",
      "ERROR: Class couldn't found for 0264281592520685b7c6505d2819769f.txt. Assigning -1.\n",
      "ERROR: Class couldn't found for 0264281592520685b7c6505d2819769f.txt. Assigning -1.\n",
      "ERROR: Class couldn't found for 0264281592520685b7c6505d2819769f.txt. Assigning -1.\n",
      "ERROR: Class couldn't found for 0264281592520685b7c6505d2819769f.txt. Assigning -1.\n",
      "ERROR: Class couldn't found for 0264281592520685b7c6505d2819769f.txt. Assigning -1.\n",
      "ERROR: Class couldn't found for 0264281592520685b7c6505d2819769f.txt. Assigning -1.\n"
     ]
    },
    {
     "name": "stderr",
     "output_type": "stream",
     "text": [
      "Loading…:  83%|██████████████████▏   | 20631/24974 [02:21<03:20, 21.64it/s]"
     ]
    },
    {
     "name": "stdout",
     "output_type": "stream",
     "text": [
      "ERROR: Class couldn't found for 2d244b6566faf17e1d1d53593ebbcbd2.txt. Assigning -1.\n"
     ]
    },
    {
     "name": "stderr",
     "output_type": "stream",
     "text": [
      "Loading…:  83%|██████████████████▏   | 20665/24974 [02:22<02:23, 30.11it/s]"
     ]
    },
    {
     "name": "stdout",
     "output_type": "stream",
     "text": [
      "ERROR: Class couldn't found for c7082f49b9ecd8ed91403ca808d4dae9.txt. Assigning -1.\n"
     ]
    },
    {
     "name": "stderr",
     "output_type": "stream",
     "text": [
      "Loading…:  83%|██████████████████▏   | 20688/24974 [02:24<02:46, 25.77it/s]"
     ]
    },
    {
     "name": "stdout",
     "output_type": "stream",
     "text": [
      "ERROR: Class couldn't found for 8379c879e2dac34e9371f9a6ff9ef207.txt. Assigning -1.\n"
     ]
    },
    {
     "name": "stderr",
     "output_type": "stream",
     "text": [
      "Loading…:  83%|██████████████████▎   | 20745/24974 [02:27<05:43, 12.32it/s]"
     ]
    },
    {
     "name": "stdout",
     "output_type": "stream",
     "text": [
      "ERROR: Class couldn't found for 581f863af4ab05918dd4d348c2a25a0a.txt. Assigning -1.\n"
     ]
    },
    {
     "name": "stderr",
     "output_type": "stream",
     "text": [
      "Loading…:  83%|██████████████████▎   | 20774/24974 [02:28<02:33, 27.30it/s]"
     ]
    },
    {
     "name": "stdout",
     "output_type": "stream",
     "text": [
      "ERROR: Class couldn't found for bb24cb7aaf313f643d8e4a705bd41938.txt. Assigning -1.\n",
      "ERROR: Class couldn't found for 9f1fdac6d654ddeddd7a976b4108d00f.txt. Assigning -1.\n"
     ]
    },
    {
     "name": "stderr",
     "output_type": "stream",
     "text": [
      "Loading…:  83%|██████████████████▎   | 20791/24974 [02:30<05:53, 11.82it/s]"
     ]
    },
    {
     "name": "stdout",
     "output_type": "stream",
     "text": [
      "ERROR: Class couldn't found for 45cc31a13bd3cb50d04e49ab882434ff.txt. Assigning -1.\n",
      "ERROR: Class couldn't found for 45cc31a13bd3cb50d04e49ab882434ff.txt. Assigning -1.\n",
      "ERROR: Class couldn't found for 45cc31a13bd3cb50d04e49ab882434ff.txt. Assigning -1.\n"
     ]
    },
    {
     "name": "stderr",
     "output_type": "stream",
     "text": [
      "Loading…:  83%|██████████████████▎   | 20802/24974 [02:30<04:40, 14.85it/s]"
     ]
    },
    {
     "name": "stdout",
     "output_type": "stream",
     "text": [
      "ERROR: Class couldn't found for a4b19a1c235ba84018cfd13fd8518f4b.txt. Assigning -1.\n"
     ]
    },
    {
     "name": "stderr",
     "output_type": "stream",
     "text": [
      "Loading…:  83%|██████████████████▎   | 20817/24974 [02:32<05:07, 13.50it/s]"
     ]
    },
    {
     "name": "stdout",
     "output_type": "stream",
     "text": [
      "ERROR: Class couldn't found for ccf504dee10eb1fdc2930430c03734f1.txt. Assigning -1.\n"
     ]
    },
    {
     "name": "stderr",
     "output_type": "stream",
     "text": [
      "Loading…:  84%|█████████████████▋   | 20994/24974 [02:32<00:25, 157.95it/s]"
     ]
    },
    {
     "name": "stdout",
     "output_type": "stream",
     "text": [
      "ERROR: Class couldn't found for b410f26c3b6434283e01d848c3ceec37.txt. Assigning -1.\n",
      "ERROR: Class couldn't found for 929618fa13d09f04b1beaac9e773bfe7.txt. Assigning -1.\n",
      "ERROR: Class couldn't found for 6a61e86ce201f0a2162dc377c7f8794e.txt. Assigning -1.\n",
      "ERROR: Class couldn't found for 4b06bfe85bcd11899aa4cf47f8178acc.txt. Assigning -1.\n",
      "ERROR: Class couldn't found for 484f6a1ce7ceb60a206366d2ae177c6b.txt. Assigning -1.\n",
      "ERROR: Class couldn't found for 2ca46719fb3a5d666ef38e9cde3c22d1.txt. Assigning -1.\n",
      "ERROR: Class couldn't found for e3fbe0e7624cd9e0612d1cd729fb07f8.txt. Assigning -1.\n",
      "ERROR: Class couldn't found for e3fbe0e7624cd9e0612d1cd729fb07f8.txt. Assigning -1.\n",
      "ERROR: Class couldn't found for 0aea20a120972eac009a71afd0b0aa84.txt. Assigning -1.\n",
      "ERROR: Class couldn't found for 0aea20a120972eac009a71afd0b0aa84.txt. Assigning -1.\n"
     ]
    },
    {
     "name": "stderr",
     "output_type": "stream",
     "text": [
      "Loading…:  84%|█████████████████▋   | 21076/24974 [02:32<00:16, 234.38it/s]"
     ]
    },
    {
     "name": "stdout",
     "output_type": "stream",
     "text": [
      "ERROR: Class couldn't found for eca73eff4f78acf2b6cf317c8a8bb379.txt. Assigning -1.\n",
      "ERROR: Class couldn't found for 55c00ed91f9ea7670c99e0f3f064bae5.txt. Assigning -1.\n",
      "ERROR: Class couldn't found for acb301226db5702aa521237fbb41b060.txt. Assigning -1.\n"
     ]
    },
    {
     "name": "stderr",
     "output_type": "stream",
     "text": [
      "Loading…:  85%|█████████████████▊   | 21158/24974 [02:33<00:12, 299.78it/s]"
     ]
    },
    {
     "name": "stdout",
     "output_type": "stream",
     "text": [
      "ERROR: Class couldn't found for 7b86c07ef1d090d563c138036275fb6f.txt. Assigning -1.\n",
      "ERROR: Class couldn't found for 7b86c07ef1d090d563c138036275fb6f.txt. Assigning -1.\n",
      "ERROR: Class couldn't found for 7b86c07ef1d090d563c138036275fb6f.txt. Assigning -1.\n",
      "ERROR: Class couldn't found for 7b86c07ef1d090d563c138036275fb6f.txt. Assigning -1.\n",
      "ERROR: Class couldn't found for 7b86c07ef1d090d563c138036275fb6f.txt. Assigning -1.\n",
      "ERROR: Class couldn't found for 3d28c304ebff0e248fc185b534483c95.txt. Assigning -1.\n",
      "ERROR: Class couldn't found for 1cceb1871b3fa19e97e2a5e74a55af40.txt. Assigning -1.\n",
      "ERROR: Class couldn't found for 5801de527327747dd8aca2104e7d082e.txt. Assigning -1.\n",
      "ERROR: Class couldn't found for b0e532580967c62474eae5c737b420f4.txt. Assigning -1.\n",
      "ERROR: Class couldn't found for b0e532580967c62474eae5c737b420f4.txt. Assigning -1.\n"
     ]
    },
    {
     "name": "stderr",
     "output_type": "stream",
     "text": [
      "Loading…:  85%|█████████████████▊   | 21237/24974 [02:33<00:11, 331.18it/s]"
     ]
    },
    {
     "name": "stdout",
     "output_type": "stream",
     "text": [
      "ERROR: Class couldn't found for 702f6ab995fa458fab89d21be7ec42db.txt. Assigning -1.\n",
      "ERROR: Class couldn't found for b1825dc0a902d067d4186ea1226daa34.txt. Assigning -1.\n",
      "ERROR: Class couldn't found for a23f38c3097faee24d89b344b7001ed6.txt. Assigning -1.\n",
      "ERROR: Class couldn't found for a23f38c3097faee24d89b344b7001ed6.txt. Assigning -1.\n",
      "ERROR: Class couldn't found for a23f38c3097faee24d89b344b7001ed6.txt. Assigning -1.\n",
      "ERROR: Class couldn't found for a23f38c3097faee24d89b344b7001ed6.txt. Assigning -1.\n",
      "ERROR: Class couldn't found for cf8f60c88b3494a499646353699e829e.txt. Assigning -1.\n",
      "ERROR: Class couldn't found for c687642eba5cc7b0ebe4daf2d67cb44f.txt. Assigning -1.\n",
      "ERROR: Class couldn't found for c687642eba5cc7b0ebe4daf2d67cb44f.txt. Assigning -1.\n"
     ]
    },
    {
     "name": "stderr",
     "output_type": "stream",
     "text": [
      "Loading…:  85%|█████████████████▉   | 21312/24974 [02:33<00:11, 332.50it/s]"
     ]
    },
    {
     "name": "stdout",
     "output_type": "stream",
     "text": [
      "ERROR: Class couldn't found for 784e47730263a936790046c19acb8399.txt. Assigning -1.\n"
     ]
    },
    {
     "name": "stderr",
     "output_type": "stream",
     "text": [
      "Loading…:  86%|██████████████████   | 21426/24974 [02:33<00:10, 332.50it/s]"
     ]
    },
    {
     "name": "stdout",
     "output_type": "stream",
     "text": [
      "ERROR: Class couldn't found for 9c60571ee4de72cebcb301423b6db3a8.txt. Assigning -1.\n",
      "ERROR: Class couldn't found for 1392110093fede919197ad81ce09b4bf.txt. Assigning -1.\n",
      "ERROR: Class couldn't found for eced5cf0add1d0a5cbefa36609259e73.txt. Assigning -1.\n"
     ]
    },
    {
     "name": "stderr",
     "output_type": "stream",
     "text": [
      "Loading…:  86%|██████████████████   | 21540/24974 [02:34<00:09, 344.93it/s]"
     ]
    },
    {
     "name": "stdout",
     "output_type": "stream",
     "text": [
      "ERROR: Class couldn't found for 83fb33ad9af585b58b4e56c68aff3f54.txt. Assigning -1.\n",
      "ERROR: Class couldn't found for 75b2d522e0711a2af31e88b7397cafdf.txt. Assigning -1.\n",
      "ERROR: Class couldn't found for 4ddb87e40022991b36fd8d56813f6122.txt. Assigning -1.\n",
      "ERROR: Class couldn't found for 4ddb87e40022991b36fd8d56813f6122.txt. Assigning -1.\n"
     ]
    },
    {
     "name": "stderr",
     "output_type": "stream",
     "text": [
      "Loading…:  87%|██████████████████▏  | 21610/24974 [02:34<00:11, 298.20it/s]"
     ]
    },
    {
     "name": "stdout",
     "output_type": "stream",
     "text": [
      "ERROR: Class couldn't found for 0492eab93aadf15c417044d634c9310b.txt. Assigning -1.\n",
      "ERROR: Class couldn't found for d0810e589b2f20991278e767fa2e8989.txt. Assigning -1.\n",
      "ERROR: Class couldn't found for 33ed12c30f175f2621dc2a5532b7af6d.txt. Assigning -1.\n"
     ]
    },
    {
     "name": "stderr",
     "output_type": "stream",
     "text": [
      "Loading…:  87%|██████████████████▎  | 21769/24974 [02:34<00:08, 356.48it/s]"
     ]
    },
    {
     "name": "stdout",
     "output_type": "stream",
     "text": [
      "ERROR: Class couldn't found for cae89303f7e38b2215cc54fa7c584240.txt. Assigning -1.\n",
      "ERROR: Class couldn't found for cae89303f7e38b2215cc54fa7c584240.txt. Assigning -1.\n",
      "ERROR: Class couldn't found for 0ea039b21d161c5cda85b8f9c7bea556.txt. Assigning -1.\n",
      "ERROR: Class couldn't found for 989d50484ccbfcc0e9ab968ce55623d0.txt. Assigning -1.\n",
      "ERROR: Class couldn't found for dd6c88dab57fc75d1a2f38fcac7bbc91.txt. Assigning -1.\n"
     ]
    },
    {
     "name": "stderr",
     "output_type": "stream",
     "text": [
      "Loading…:  87%|██████████████████▎  | 21843/24974 [02:35<00:09, 319.42it/s]"
     ]
    },
    {
     "name": "stdout",
     "output_type": "stream",
     "text": [
      "ERROR: Class couldn't found for 50eadcda9af377c83f99c7450bce160e.txt. Assigning -1.\n",
      "ERROR: Class couldn't found for e218e57ab4fe2f096094dd98a2d783f0.txt. Assigning -1.\n",
      "ERROR: Class couldn't found for 06343ae4bc2051dc5993b723a30215a5.txt. Assigning -1.\n",
      "ERROR: Class couldn't found for c571096bec53416a05e546c11918d06e.txt. Assigning -1.\n",
      "ERROR: Class couldn't found for 157df7cb92ef37c49a0fd35319308846.txt. Assigning -1.\n"
     ]
    },
    {
     "name": "stderr",
     "output_type": "stream",
     "text": [
      "Loading…:  88%|██████████████████▍  | 21963/24974 [02:35<00:08, 353.65it/s]"
     ]
    },
    {
     "name": "stdout",
     "output_type": "stream",
     "text": [
      "ERROR: Class couldn't found for 6baa7aef70f559e99b5fee2bb8b783e0.txt. Assigning -1.\n",
      "ERROR: Class couldn't found for 08237133378d44a215de1bce970cd0fa.txt. Assigning -1.\n",
      "ERROR: Class couldn't found for 248a9e580e369e9bb76371e2b7b69dd8.txt. Assigning -1.\n",
      "ERROR: Class couldn't found for f3f0c3a541ee5d0b70b3f3da146c7cf3.txt. Assigning -1.\n"
     ]
    },
    {
     "name": "stderr",
     "output_type": "stream",
     "text": [
      "Loading…:  88%|██████████████████▌  | 22047/24974 [02:35<00:07, 379.12it/s]"
     ]
    },
    {
     "name": "stdout",
     "output_type": "stream",
     "text": [
      "ERROR: Class couldn't found for 0792df4688b66b74a22717473b1350ac.txt. Assigning -1.\n",
      "ERROR: Class couldn't found for 88f15ea1b57b414dfb8d39d536d9741d.txt. Assigning -1.\n",
      "ERROR: Class couldn't found for 613fe5b474daff6eebb8f9b4cff93dfe.txt. Assigning -1.\n",
      "ERROR: Class couldn't found for 316f645684535a1512fcc45b0b97aae6.txt. Assigning -1.\n"
     ]
    },
    {
     "name": "stderr",
     "output_type": "stream",
     "text": [
      "Loading…:  89%|██████████████████▌  | 22135/24974 [02:35<00:07, 391.84it/s]"
     ]
    },
    {
     "name": "stdout",
     "output_type": "stream",
     "text": [
      "ERROR: Class couldn't found for 6e1cffb08a8a7d00f9cd5c11e8773c14.txt. Assigning -1.\n",
      "ERROR: Class couldn't found for d3d3e529d330661b1799737a85fd44d7.txt. Assigning -1.\n",
      "ERROR: Class couldn't found for d3d3e529d330661b1799737a85fd44d7.txt. Assigning -1.\n",
      "ERROR: Class couldn't found for f2b284a32ae296a0fac8f275fba8cc88.txt. Assigning -1.\n",
      "ERROR: Class couldn't found for f2b284a32ae296a0fac8f275fba8cc88.txt. Assigning -1.\n",
      "ERROR: Class couldn't found for b686130c9af1873f2ff8a89577abeb88.txt. Assigning -1.\n",
      "ERROR: Class couldn't found for b686130c9af1873f2ff8a89577abeb88.txt. Assigning -1.\n"
     ]
    },
    {
     "name": "stderr",
     "output_type": "stream",
     "text": [
      "Loading…:  89%|██████████████████▋  | 22227/24974 [02:36<00:06, 410.00it/s]"
     ]
    },
    {
     "name": "stdout",
     "output_type": "stream",
     "text": [
      "ERROR: Class couldn't found for 1851e4c726cc02dd622410062696f6d3.txt. Assigning -1.\n",
      "ERROR: Class couldn't found for 6f17dda5dc5a3a26525e4115eb2edd31.txt. Assigning -1.\n",
      "ERROR: Class couldn't found for dba44cb17caceba2e0bf372be7b1fa48.txt. Assigning -1.\n",
      "ERROR: Class couldn't found for 729d9bed5ca2365e8a158823a166e4a5.txt. Assigning -1.\n",
      "ERROR: Class couldn't found for 15934ba312d538a4b01250bcecc64b35.txt. Assigning -1.\n",
      "ERROR: Class couldn't found for 0f7ebf920a66f19a58b55f62a1c3f988.txt. Assigning -1.\n"
     ]
    },
    {
     "name": "stderr",
     "output_type": "stream",
     "text": [
      "Loading…:  90%|██████████████████▊  | 22365/24974 [02:36<00:06, 401.63it/s]"
     ]
    },
    {
     "name": "stdout",
     "output_type": "stream",
     "text": [
      "ERROR: Class couldn't found for c3564e17ff541a6660f3e86c40533799.txt. Assigning -1.\n",
      "ERROR: Class couldn't found for 63f3e2a8d2f197179423069614ff079b.txt. Assigning -1.\n",
      "ERROR: Class couldn't found for 0fa0b4fe40111ce7e6a2be5778948070.txt. Assigning -1.\n",
      "ERROR: Class couldn't found for 8a9d99b08f31518fdff69290a7804439.txt. Assigning -1.\n"
     ]
    },
    {
     "name": "stderr",
     "output_type": "stream",
     "text": [
      "Loading…:  90%|██████████████████▊  | 22406/24974 [02:36<00:06, 370.46it/s]"
     ]
    },
    {
     "name": "stdout",
     "output_type": "stream",
     "text": [
      "ERROR: Class couldn't found for 722a70523719c134cbb3956b89c2eb41.txt. Assigning -1.\n",
      "ERROR: Class couldn't found for 453056e9296cab5a88d57913383e8ae7.txt. Assigning -1.\n",
      "ERROR: Class couldn't found for 12fa3b18bffa03bd851d1537a4cb8c85.txt. Assigning -1.\n",
      "ERROR: Class couldn't found for 12fa3b18bffa03bd851d1537a4cb8c85.txt. Assigning -1.\n",
      "ERROR: Class couldn't found for 12fa3b18bffa03bd851d1537a4cb8c85.txt. Assigning -1.\n",
      "ERROR: Class couldn't found for 12fa3b18bffa03bd851d1537a4cb8c85.txt. Assigning -1.\n"
     ]
    },
    {
     "name": "stderr",
     "output_type": "stream",
     "text": [
      "Loading…:  90%|██████████████████▉  | 22487/24974 [02:37<00:10, 238.17it/s]"
     ]
    },
    {
     "name": "stdout",
     "output_type": "stream",
     "text": [
      "ERROR: Class couldn't found for 80b54fa8f01c062ebdfe94392f91794b.txt. Assigning -1.\n",
      "ERROR: Class couldn't found for 80b54fa8f01c062ebdfe94392f91794b.txt. Assigning -1.\n",
      "ERROR: Class couldn't found for 4b69a5583772e352b07a694d711b8976.txt. Assigning -1.\n",
      "ERROR: Class couldn't found for 7d1b90350a65f17cf29a0cddbcacaa52.txt. Assigning -1.\n",
      "ERROR: Class couldn't found for 7d1b90350a65f17cf29a0cddbcacaa52.txt. Assigning -1.\n",
      "ERROR: Class couldn't found for 7d1b90350a65f17cf29a0cddbcacaa52.txt. Assigning -1.\n",
      "ERROR: Class couldn't found for 7d1b90350a65f17cf29a0cddbcacaa52.txt. Assigning -1.\n"
     ]
    },
    {
     "name": "stderr",
     "output_type": "stream",
     "text": [
      "Loading…:  91%|███████████████████  | 22610/24974 [02:37<00:07, 321.47it/s]"
     ]
    },
    {
     "name": "stdout",
     "output_type": "stream",
     "text": [
      "ERROR: Class couldn't found for 90fc7959d1d68955175c63f9438b3279.txt. Assigning -1.\n",
      "ERROR: Class couldn't found for f53b5286811f5597fc95b84fc7bd8c2b.txt. Assigning -1.\n",
      "ERROR: Class couldn't found for ed3e02e55fcee956795d6708e83936a7.txt. Assigning -1.\n"
     ]
    },
    {
     "name": "stderr",
     "output_type": "stream",
     "text": [
      "Loading…:  91%|███████████████████  | 22684/24974 [02:37<00:07, 323.89it/s]"
     ]
    },
    {
     "name": "stdout",
     "output_type": "stream",
     "text": [
      "ERROR: Class couldn't found for d246c38644a6458f955ee4a04739a624.txt. Assigning -1.\n",
      "ERROR: Class couldn't found for d246c38644a6458f955ee4a04739a624.txt. Assigning -1.\n",
      "ERROR: Class couldn't found for d246c38644a6458f955ee4a04739a624.txt. Assigning -1.\n",
      "ERROR: Class couldn't found for fdaf50fd9ecbfc397d7b055b2159670c.txt. Assigning -1.\n",
      "ERROR: Class couldn't found for 61a5f406d611fe7006a272f2188ed6ae.txt. Assigning -1.\n",
      "ERROR: Class couldn't found for edec4cbbe40bc50c97ecce1bb8e624fd.txt. Assigning -1.\n"
     ]
    },
    {
     "name": "stderr",
     "output_type": "stream",
     "text": [
      "Loading…:  91%|███████████████████▏ | 22796/24974 [02:37<00:06, 342.88it/s]"
     ]
    },
    {
     "name": "stdout",
     "output_type": "stream",
     "text": [
      "ERROR: Class couldn't found for b8e9e15d4242dddca75aebcc21b76e63.txt. Assigning -1.\n",
      "ERROR: Class couldn't found for 88501cfec646f1cb9fea7fed0ed91f5b.txt. Assigning -1.\n",
      "ERROR: Class couldn't found for 8c07709344a5d6f23d72c1503895cf7d.txt. Assigning -1.\n"
     ]
    },
    {
     "name": "stderr",
     "output_type": "stream",
     "text": [
      "Loading…:  92%|███████████████████▏ | 22890/24974 [02:38<00:05, 398.16it/s]"
     ]
    },
    {
     "name": "stdout",
     "output_type": "stream",
     "text": [
      "ERROR: Class couldn't found for c1e1e92bba5f731620820515d7c7104b.txt. Assigning -1.\n",
      "ERROR: Class couldn't found for dd55d3efc9113feb742ec778cba60aed.txt. Assigning -1.\n"
     ]
    },
    {
     "name": "stderr",
     "output_type": "stream",
     "text": [
      "Loading…:  92%|███████████████████▎ | 22969/24974 [02:38<00:05, 353.43it/s]"
     ]
    },
    {
     "name": "stdout",
     "output_type": "stream",
     "text": [
      "ERROR: Class couldn't found for 32bb887ce3caa8c477adb214d84e1d14.txt. Assigning -1.\n",
      "ERROR: Class couldn't found for 46229037b9cacdb1ff870f022b72876a.txt. Assigning -1.\n",
      "ERROR: Class couldn't found for dd09a8bf8db281070d32d3393eadb15c.txt. Assigning -1.\n",
      "ERROR: Class couldn't found for dd09a8bf8db281070d32d3393eadb15c.txt. Assigning -1.\n",
      "ERROR: Class couldn't found for 10fe9caf027d223b9877e3c0e1eb7e5b.txt. Assigning -1.\n",
      "ERROR: Class couldn't found for a38eabac960e7111b31f4c6e3978c160.txt. Assigning -1.\n",
      "ERROR: Class couldn't found for a38eabac960e7111b31f4c6e3978c160.txt. Assigning -1.\n",
      "ERROR: Class couldn't found for e2a791e24b77d46209b06552aecea6f8.txt. Assigning -1.\n"
     ]
    },
    {
     "name": "stderr",
     "output_type": "stream",
     "text": [
      "Loading…:  92%|███████████████████▎ | 23006/24974 [02:38<00:05, 347.23it/s]"
     ]
    },
    {
     "name": "stdout",
     "output_type": "stream",
     "text": [
      "ERROR: Class couldn't found for 3fb3dcf0ec353d246f82bf476c635e2c.txt. Assigning -1.\n",
      "ERROR: Class couldn't found for afd93436913e6fc21cd227a21cac88ab.txt. Assigning -1.\n",
      "ERROR: Class couldn't found for 529db3f1ac1fab1dc577c9609708e2e9.txt. Assigning -1.\n",
      "ERROR: Class couldn't found for a8a350a055a8c0d5885bc29fa8826683.txt. Assigning -1.\n",
      "ERROR: Class couldn't found for a8a350a055a8c0d5885bc29fa8826683.txt. Assigning -1.\n"
     ]
    },
    {
     "name": "stderr",
     "output_type": "stream",
     "text": [
      "Loading…:  93%|███████████████████▍ | 23128/24974 [02:38<00:05, 362.57it/s]"
     ]
    },
    {
     "name": "stdout",
     "output_type": "stream",
     "text": [
      "ERROR: Class couldn't found for c8ebbe68f039bce615bbd981bf2d2d9d.txt. Assigning -1.\n",
      "ERROR: Class couldn't found for 11e056eb45c891ad989adcf2c0a38b25.txt. Assigning -1.\n",
      "ERROR: Class couldn't found for 4dfa2ebcc5b61a40db757c13ae6e83a3.txt. Assigning -1.\n",
      "ERROR: Class couldn't found for 5bba8a1c87c20172c2e2d47e822b2e97.txt. Assigning -1.\n",
      "ERROR: Class couldn't found for 166e0f1f7e5bc9e56c0792f1f68ff9f4.txt. Assigning -1.\n",
      "ERROR: Class couldn't found for 166e0f1f7e5bc9e56c0792f1f68ff9f4.txt. Assigning -1.\n"
     ]
    },
    {
     "name": "stderr",
     "output_type": "stream",
     "text": [
      "Loading…:  93%|███████████████████▌ | 23259/24974 [02:39<00:04, 377.33it/s]"
     ]
    },
    {
     "name": "stdout",
     "output_type": "stream",
     "text": [
      "ERROR: Class couldn't found for 3fd7a82f417113171ef33134282a534b.txt. Assigning -1.\n",
      "ERROR: Class couldn't found for 3fd7a82f417113171ef33134282a534b.txt. Assigning -1.\n",
      "ERROR: Class couldn't found for d6b64d7725d061d7345517f4b66dc097.txt. Assigning -1.\n",
      "ERROR: Class couldn't found for 3bca190ef0f95bb21d71376689b03408.txt. Assigning -1.\n",
      "ERROR: Class couldn't found for 2d2984f2f81dcb50357f7ddcd4f32427.txt. Assigning -1.\n",
      "ERROR: Class couldn't found for b2ba8bd46a06b2a52612a80a2106faf4.txt. Assigning -1.\n"
     ]
    },
    {
     "name": "stderr",
     "output_type": "stream",
     "text": [
      "Loading…:  94%|███████████████████▋ | 23353/24974 [02:39<00:03, 407.98it/s]"
     ]
    },
    {
     "name": "stdout",
     "output_type": "stream",
     "text": [
      "ERROR: Class couldn't found for e638712d4565c65ef90d213741a1f225.txt. Assigning -1.\n",
      "ERROR: Class couldn't found for 2ee8c2a333c77e23909140ca75b65bc7.txt. Assigning -1.\n",
      "ERROR: Class couldn't found for 1dbc226d068678f3ba6e5dcd4a36b9de.txt. Assigning -1.\n",
      "ERROR: Class couldn't found for e6fb2138faf47a8a625984c5dc8ef6d8.txt. Assigning -1.\n",
      "ERROR: Class couldn't found for ff61e75d5dcad183ca1d8b4df4656eee.txt. Assigning -1.\n"
     ]
    },
    {
     "name": "stderr",
     "output_type": "stream",
     "text": [
      "Loading…:  94%|███████████████████▋ | 23444/24974 [02:39<00:04, 364.89it/s]"
     ]
    },
    {
     "name": "stdout",
     "output_type": "stream",
     "text": [
      "ERROR: Class couldn't found for 8ba584478dba78ced4d11a8738118da0.txt. Assigning -1.\n",
      "ERROR: Class couldn't found for d7b6639a31e05532aa0f93659de09e09.txt. Assigning -1.\n",
      "ERROR: Class couldn't found for 9b8fb531f78a285eb90df67764f0e868.txt. Assigning -1.\n",
      "ERROR: Class couldn't found for 9b8fb531f78a285eb90df67764f0e868.txt. Assigning -1.\n",
      "ERROR: Class couldn't found for bc9678e22eefd450397a1d6eb2c513f8.txt. Assigning -1.\n",
      "ERROR: Class couldn't found for 0ed12e2e5a381860a0ae76e1b1251baf.txt. Assigning -1.\n"
     ]
    },
    {
     "name": "stderr",
     "output_type": "stream",
     "text": [
      "Loading…:  94%|████████████████████▋ | 23511/24974 [02:45<00:53, 27.60it/s]"
     ]
    },
    {
     "name": "stdout",
     "output_type": "stream",
     "text": [
      "ERROR: Class couldn't found for 0d29e95ba56bf7961a46f1701287e8ef.txt. Assigning -1.\n"
     ]
    },
    {
     "name": "stderr",
     "output_type": "stream",
     "text": [
      "Loading…:  94%|████████████████████▊ | 23557/24974 [02:48<01:08, 20.55it/s]"
     ]
    },
    {
     "name": "stdout",
     "output_type": "stream",
     "text": [
      "ERROR: Class couldn't found for 3229452ab8dec761fcf2d940c45b22af.txt. Assigning -1.\n",
      "ERROR: Class couldn't found for 7c886842645a93e1df2b8d1db9678d87.txt. Assigning -1.\n"
     ]
    },
    {
     "name": "stderr",
     "output_type": "stream",
     "text": [
      "Loading…:  94%|████████████████████▊ | 23592/24974 [02:49<00:47, 29.01it/s]"
     ]
    },
    {
     "name": "stdout",
     "output_type": "stream",
     "text": [
      "ERROR: Class couldn't found for 4d472121617936101bfc7a972f67fb4c.txt. Assigning -1.\n",
      "ERROR: Class couldn't found for 08ac507ca4070bbf109feebe700c5053.txt. Assigning -1.\n",
      "ERROR: Class couldn't found for d7509e53d88c104ce34ff988f1c43f62.txt. Assigning -1.\n"
     ]
    },
    {
     "name": "stderr",
     "output_type": "stream",
     "text": [
      "Loading…:  95%|████████████████████▊ | 23603/24974 [02:49<00:50, 27.26it/s]"
     ]
    },
    {
     "name": "stdout",
     "output_type": "stream",
     "text": [
      "ERROR: Class couldn't found for c9147b2b1d1df710b6fa673b80939739.txt. Assigning -1.\n",
      "ERROR: Class couldn't found for c9147b2b1d1df710b6fa673b80939739.txt. Assigning -1.\n"
     ]
    },
    {
     "name": "stderr",
     "output_type": "stream",
     "text": [
      "Loading…:  95%|████████████████████▊ | 23610/24974 [02:50<01:25, 15.93it/s]"
     ]
    },
    {
     "name": "stdout",
     "output_type": "stream",
     "text": [
      "ERROR: Class couldn't found for 527ed955bce7108568e70957f725bf7d.txt. Assigning -1.\n",
      "ERROR: Class couldn't found for bffbba74038a6c921d81594bcae98409.txt. Assigning -1.\n",
      "ERROR: Class couldn't found for d64f66d33afc037ceb28378c22c1346c.txt. Assigning -1.\n",
      "ERROR: Class couldn't found for d64f66d33afc037ceb28378c22c1346c.txt. Assigning -1.\n",
      "ERROR: Class couldn't found for d64f66d33afc037ceb28378c22c1346c.txt. Assigning -1.\n"
     ]
    },
    {
     "name": "stderr",
     "output_type": "stream",
     "text": [
      "Loading…:  95%|████████████████████▊ | 23632/24974 [02:53<02:19,  9.64it/s]"
     ]
    },
    {
     "name": "stdout",
     "output_type": "stream",
     "text": [
      "ERROR: Class couldn't found for aee6a53c8783d0546a9e355a309b20f3.txt. Assigning -1.\n"
     ]
    },
    {
     "name": "stderr",
     "output_type": "stream",
     "text": [
      "Loading…:  95%|████████████████████▊ | 23658/24974 [02:57<03:49,  5.73it/s]"
     ]
    },
    {
     "name": "stdout",
     "output_type": "stream",
     "text": [
      "ERROR: Class couldn't found for 0452c8bd37594601465039eb424bf294.txt. Assigning -1.\n"
     ]
    },
    {
     "name": "stderr",
     "output_type": "stream",
     "text": [
      "Loading…:  95%|████████████████████▉ | 23715/24974 [02:59<00:41, 30.55it/s]"
     ]
    },
    {
     "name": "stdout",
     "output_type": "stream",
     "text": [
      "ERROR: Class couldn't found for f25bdd103c29d6136c9a684aea1b7df0.txt. Assigning -1.\n"
     ]
    },
    {
     "name": "stderr",
     "output_type": "stream",
     "text": [
      "Loading…:  95%|████████████████████▉ | 23752/24974 [03:01<00:57, 21.21it/s]"
     ]
    },
    {
     "name": "stdout",
     "output_type": "stream",
     "text": [
      "ERROR: Class couldn't found for c09a886e324eb20129071a1ed2f0f8d8.txt. Assigning -1.\n"
     ]
    },
    {
     "name": "stderr",
     "output_type": "stream",
     "text": [
      "Loading…:  95%|████████████████████▉ | 23776/24974 [03:03<01:02, 19.05it/s]"
     ]
    },
    {
     "name": "stdout",
     "output_type": "stream",
     "text": [
      "ERROR: Class couldn't found for 71ab0992e1c891f7408c9583f31478a3.txt. Assigning -1.\n"
     ]
    },
    {
     "name": "stderr",
     "output_type": "stream",
     "text": [
      "Loading…:  95%|████████████████████▉ | 23790/24974 [03:03<00:51, 23.01it/s]"
     ]
    },
    {
     "name": "stdout",
     "output_type": "stream",
     "text": [
      "ERROR: Class couldn't found for 31667cf713b52dc6ec2c8cb4401e2624.txt. Assigning -1.\n"
     ]
    },
    {
     "name": "stderr",
     "output_type": "stream",
     "text": [
      "Loading…:  96%|█████████████████████ | 23872/24974 [03:10<01:36, 11.43it/s]"
     ]
    },
    {
     "name": "stdout",
     "output_type": "stream",
     "text": [
      "ERROR: Class couldn't found for 18b0486748fa68b29171a0a732cd9712.txt. Assigning -1.\n",
      "ERROR: Class couldn't found for 18b0486748fa68b29171a0a732cd9712.txt. Assigning -1.\n"
     ]
    },
    {
     "name": "stderr",
     "output_type": "stream",
     "text": [
      "Loading…:  96%|█████████████████████ | 23881/24974 [03:11<01:57,  9.32it/s]"
     ]
    },
    {
     "name": "stdout",
     "output_type": "stream",
     "text": [
      "ERROR: Class couldn't found for f4e34362227890f50a8dc0a3216316be.txt. Assigning -1.\n"
     ]
    },
    {
     "name": "stderr",
     "output_type": "stream",
     "text": [
      "Loading…:  96%|█████████████████████ | 23911/24974 [03:12<00:42, 24.93it/s]"
     ]
    },
    {
     "name": "stdout",
     "output_type": "stream",
     "text": [
      "ERROR: Class couldn't found for a0255c1e1f3bd0f190867574e1c31f8b.txt. Assigning -1.\n",
      "ERROR: Class couldn't found for 908e66856682e53f213204a42faadf51.txt. Assigning -1.\n"
     ]
    },
    {
     "name": "stderr",
     "output_type": "stream",
     "text": [
      "Loading…:  96%|█████████████████████ | 23977/24974 [03:17<00:38, 25.91it/s]"
     ]
    },
    {
     "name": "stdout",
     "output_type": "stream",
     "text": [
      "ERROR: Class couldn't found for f58f7c3f2223c35ea1f0605f4810b9a6.txt. Assigning -1.\n"
     ]
    },
    {
     "name": "stderr",
     "output_type": "stream",
     "text": [
      "Loading…:  96%|█████████████████████▏| 23993/24974 [03:18<00:49, 19.75it/s]"
     ]
    },
    {
     "name": "stdout",
     "output_type": "stream",
     "text": [
      "ERROR: Class couldn't found for 9ede2ed28503941729d68ee257b06eb9.txt. Assigning -1.\n"
     ]
    },
    {
     "name": "stderr",
     "output_type": "stream",
     "text": [
      "Loading…:  96%|█████████████████████▏| 24023/24974 [03:19<00:21, 44.08it/s]"
     ]
    },
    {
     "name": "stdout",
     "output_type": "stream",
     "text": [
      "ERROR: Class couldn't found for c64bf2b89382311b074194137446bdb2.txt. Assigning -1.\n",
      "ERROR: Class couldn't found for 100e473b552bbabcb58ec877dcd71273.txt. Assigning -1.\n"
     ]
    },
    {
     "name": "stderr",
     "output_type": "stream",
     "text": [
      "Loading…:  96%|█████████████████████▏| 24046/24974 [03:19<00:16, 56.97it/s]"
     ]
    },
    {
     "name": "stdout",
     "output_type": "stream",
     "text": [
      "ERROR: Class couldn't found for 737f6fcfe6d6b6a5a85d0e380f32f1ac.txt. Assigning -1.\n",
      "ERROR: Class couldn't found for 737f6fcfe6d6b6a5a85d0e380f32f1ac.txt. Assigning -1.\n"
     ]
    },
    {
     "name": "stderr",
     "output_type": "stream",
     "text": [
      "Loading…:  97%|█████████████████████▎| 24139/24974 [03:21<00:15, 53.47it/s]"
     ]
    },
    {
     "name": "stdout",
     "output_type": "stream",
     "text": [
      "ERROR: Class couldn't found for 7e73f2dbdb0bed0e81ff29e811838eb5.txt. Assigning -1.\n"
     ]
    },
    {
     "name": "stderr",
     "output_type": "stream",
     "text": [
      "Loading…:  97%|█████████████████████▎| 24146/24974 [03:22<00:24, 34.42it/s]"
     ]
    },
    {
     "name": "stdout",
     "output_type": "stream",
     "text": [
      "ERROR: Class couldn't found for eb7eb69ad6583cf70d4aff744a368076.txt. Assigning -1.\n",
      "ERROR: Class couldn't found for eb7eb69ad6583cf70d4aff744a368076.txt. Assigning -1.\n"
     ]
    },
    {
     "name": "stderr",
     "output_type": "stream",
     "text": [
      "Loading…:  97%|████████████████████▍| 24243/24974 [03:23<00:06, 118.73it/s]"
     ]
    },
    {
     "name": "stdout",
     "output_type": "stream",
     "text": [
      "ERROR: Class couldn't found for 8b9b855666a59b0801538a25d2b1d8f2.txt. Assigning -1.\n",
      "ERROR: Class couldn't found for 43ac2907cb0521209a4fb0a2f057ef82.txt. Assigning -1.\n",
      "ERROR: Class couldn't found for 486ef27b5dd430a0f481c97c03953bf5.txt. Assigning -1.\n",
      "ERROR: Class couldn't found for a9e006a764c5f85dd49f88ff64cb3e2b.txt. Assigning -1.\n",
      "ERROR: Class couldn't found for dc9fd93600de08ed95e5efd48e856b84.txt. Assigning -1.\n"
     ]
    },
    {
     "name": "stderr",
     "output_type": "stream",
     "text": [
      "Loading…:  97%|████████████████████▍| 24333/24974 [03:23<00:02, 227.24it/s]"
     ]
    },
    {
     "name": "stdout",
     "output_type": "stream",
     "text": [
      "ERROR: Class couldn't found for 5bf2c39d8fc2afb069e0aa87b41a1811.txt. Assigning -1.\n"
     ]
    },
    {
     "name": "stderr",
     "output_type": "stream",
     "text": [
      "Loading…:  98%|████████████████████▌| 24403/24974 [03:23<00:02, 264.11it/s]"
     ]
    },
    {
     "name": "stdout",
     "output_type": "stream",
     "text": [
      "ERROR: Class couldn't found for 08b9ee246dd072213d621903e3556efc.txt. Assigning -1.\n",
      "ERROR: Class couldn't found for 49230d45b562e98a09acd61b3628e565.txt. Assigning -1.\n",
      "ERROR: Class couldn't found for 61635c3de944d3fa37c0ad9453b06295.txt. Assigning -1.\n"
     ]
    },
    {
     "name": "stderr",
     "output_type": "stream",
     "text": [
      "Loading…:  98%|█████████████████████▌| 24435/24974 [03:24<00:05, 90.37it/s]"
     ]
    },
    {
     "name": "stdout",
     "output_type": "stream",
     "text": [
      "ERROR: Class couldn't found for e048d18e2ac242affbf0a10e237c0092.txt. Assigning -1.\n"
     ]
    },
    {
     "name": "stderr",
     "output_type": "stream",
     "text": [
      "Loading…:  98%|█████████████████████▌| 24492/24974 [03:26<00:13, 35.15it/s]"
     ]
    },
    {
     "name": "stdout",
     "output_type": "stream",
     "text": [
      "ERROR: Class couldn't found for 12db46005eade9aec8ded56e084122ab.txt. Assigning -1.\n"
     ]
    },
    {
     "name": "stderr",
     "output_type": "stream",
     "text": [
      "Loading…:  98%|█████████████████████▌| 24515/24974 [03:28<00:15, 30.04it/s]"
     ]
    },
    {
     "name": "stdout",
     "output_type": "stream",
     "text": [
      "ERROR: Class couldn't found for a0956506a662e28eca961db6749e698b.txt. Assigning -1.\n"
     ]
    },
    {
     "name": "stderr",
     "output_type": "stream",
     "text": [
      "Loading…:  98%|█████████████████████▌| 24547/24974 [03:29<00:13, 30.52it/s]"
     ]
    },
    {
     "name": "stdout",
     "output_type": "stream",
     "text": [
      "ERROR: Class couldn't found for 72a5f622d25a13c4aa42a5854745aea9.txt. Assigning -1.\n"
     ]
    },
    {
     "name": "stderr",
     "output_type": "stream",
     "text": [
      "Loading…:  98%|█████████████████████▋| 24563/24974 [03:29<00:12, 33.86it/s]"
     ]
    },
    {
     "name": "stdout",
     "output_type": "stream",
     "text": [
      "ERROR: Class couldn't found for 4bc3f4d6240fce0bba5d43c202b395fc.txt. Assigning -1.\n"
     ]
    },
    {
     "name": "stderr",
     "output_type": "stream",
     "text": [
      "Loading…:  99%|████████████████████▊| 24739/24974 [03:32<00:01, 132.08it/s]"
     ]
    },
    {
     "name": "stdout",
     "output_type": "stream",
     "text": [
      "ERROR: Class couldn't found for 6789a2a23f3e680d9b010668988d9092.txt. Assigning -1.\n",
      "ERROR: Class couldn't found for b11911c4a38275610485af1be3146530.txt. Assigning -1.\n"
     ]
    },
    {
     "name": "stderr",
     "output_type": "stream",
     "text": [
      "Loading…:  99%|████████████████████▉| 24838/24974 [03:33<00:00, 228.75it/s]"
     ]
    },
    {
     "name": "stdout",
     "output_type": "stream",
     "text": [
      "ERROR: Class couldn't found for 6cbc1d07c719e1a9de298ff73bf16d51.txt. Assigning -1.\n",
      "ERROR: Class couldn't found for 13b16aa7b4b3e654b59b633ee657195b.txt. Assigning -1.\n",
      "ERROR: Class couldn't found for 1b800c2dc99e052d23a84058565ba8a4.txt. Assigning -1.\n",
      "ERROR: Class couldn't found for ac61e1d79c092657a18b302e0bde2275.txt. Assigning -1.\n",
      "ERROR: Class couldn't found for 30b869bd0aabdbb69df98d17e79daacc.txt. Assigning -1.\n"
     ]
    },
    {
     "name": "stderr",
     "output_type": "stream",
     "text": [
      "Loading…: 100%|████████████████████▉| 24899/24974 [03:33<00:00, 183.12it/s]"
     ]
    },
    {
     "name": "stdout",
     "output_type": "stream",
     "text": [
      "ERROR: Class couldn't found for ddc5f48121685a59f32ccd15961af287.txt. Assigning -1.\n",
      "ERROR: Class couldn't found for bc1598dd8ceaec6f3f612d7db8b8a904.txt. Assigning -1.\n",
      "ERROR: Class couldn't found for f7bcbe72ae079c805838ab78fbc0582f.txt. Assigning -1.\n",
      "ERROR: Class couldn't found for b78b009bcb659899cd6a97e92fca04a3.txt. Assigning -1.\n",
      "ERROR: Class couldn't found for 7559ee2386685f489b3bd7c8f95169c4.txt. Assigning -1.\n"
     ]
    },
    {
     "name": "stderr",
     "output_type": "stream",
     "text": [
      "Loading…: 100%|█████████████████████| 24974/24974 [03:33<00:00, 116.73it/s]"
     ]
    },
    {
     "name": "stdout",
     "output_type": "stream",
     "text": [
      "ERROR: Class couldn't found for c1487dd6e92dbde8198d2c252a2ebe05.txt. Assigning -1.\n",
      "ERROR: Class couldn't found for 1071ee893b9bec2ceb1b66212358db90.txt. Assigning -1.\n",
      "ERROR: Class couldn't found for 665ac1fcba905e8bf2cd7dbc6385f787.txt. Assigning -1.\n"
     ]
    },
    {
     "name": "stderr",
     "output_type": "stream",
     "text": [
      "\n"
     ]
    }
   ],
   "source": [
    "# python path/to/train.py --data coco128.yaml --weights yolov5s.pt --img 640\n",
    "read_path = \"./dataset\"\n",
    "write_path = \"./dataset_yolov5\"\n",
    "\n",
    "from tqdm import tqdm\n",
    "for file in tqdm(os.listdir(read_path), desc=\"Loading…\", ascii=False, ncols=75):\n",
    "    if os.path.isfile(os.path.join(read_path, file)) and file.endswith(\".csv\"):\n",
    "        abs_path = read_path + \"/\" + file\n",
    "        #print(\"Processing: \", abs_path)\n",
    "        yolov5_vals = process_csv(path=abs_path, label_dict=labels)\n",
    "        #print(\"Processed: \\n\",yolov5_vals)\n",
    "        image_path = abs_path[:-3] + \"jpg \" + write_path + \"/images/\" + file[:-3] + \"jpg\"\n",
    "        label_path = write_path + \"/labels\"\n",
    "        os.system('cp ' + image_path)\n",
    "        write_yolov5(val_list=yolov5_vals, path=label_path)\n",
    "        #print(\"Writing to file {}\\n\".format(yolov5_vals[0][0]+\".txt\"))"
   ]
  },
  {
   "cell_type": "code",
   "execution_count": 10,
   "metadata": {},
   "outputs": [],
   "source": [
    "def moveFilesToVal(file_name):\n",
    "    basename = os.path.basename(file_name)\n",
    "    basename_no_ext = os.path.splitext(basename)[0]\n",
    "    image_name = basename_no_ext + '.jpg'\n",
    "    os.system('mv ./dataset_yolov5/images/' + image_name +\n",
    "              ' ./dataset_yolov5/images/val')\n",
    "    os.system('mv ./dataset_yolov5/labels/' + file_name +\n",
    "              ' ./dataset_yolov5/labels/val')\n",
    "\n",
    "\n",
    "def moveFilesToTrain(file_name):\n",
    "    basename = os.path.basename(file_name)\n",
    "    basename_no_ext = os.path.splitext(basename)[0]\n",
    "    image_name = basename_no_ext + '.jpg'\n",
    "\n",
    "    os.system('mv ./dataset_yolov5/images/' + image_name +\n",
    "              ' ./dataset_yolov5/images/train')\n",
    "    os.system('mv ./dataset_yolov5/labels/' + file_name +\n",
    "              ' ./dataset_yolov5/labels/train')\n",
    "\n",
    "\n",
    "def arrangeFolder():\n",
    "    dirpath = \"./dataset_yolov5/labels\"\n",
    "    files = [f for f in os.listdir(dirpath)\n",
    "             if os.path.isfile(os.path.join(dirpath, f))]  # only files, not include directory\n",
    "    nval = round(len(files) / 5)  # use 1/4 as validation\n",
    "\n",
    "    for i in tqdm(range(len(files)), desc=\"Loading…\", ascii=False, ncols=75):\n",
    "        #print(files[i])\n",
    "\n",
    "        if (i < nval):\n",
    "            moveFilesToVal(files[i])\n",
    "        else:\n",
    "            moveFilesToTrain(files[i])"
   ]
  },
  {
   "cell_type": "code",
   "execution_count": 11,
   "metadata": {},
   "outputs": [
    {
     "name": "stderr",
     "output_type": "stream",
     "text": [
      "Loading…: 100%|█████████████████████| 12487/12487 [00:38<00:00, 321.84it/s]\n"
     ]
    }
   ],
   "source": [
    "arrangeFolder()"
   ]
  },
  {
   "cell_type": "code",
   "execution_count": 12,
   "metadata": {},
   "outputs": [
    {
     "name": "stdout",
     "output_type": "stream",
     "text": [
      "\n",
      "train: ./dataset_yolov5/images/train  \n",
      "val: ./dataset_yolov5/images/val \n",
      "\n",
      "nc: 40\n",
      "names: ['A10', 'A400M', 'AG600', 'AV8B', 'B1', 'B2', 'B52', 'Be200', 'C130', 'C17', 'C5', 'E2', 'EF2000', 'F117', 'F14', 'F15', 'F16', 'F18', 'F22', 'F35', 'F4', 'J20', 'JAS39', 'MQ9', 'Mig31', 'Mirage2000', 'RQ4', 'Rafale', 'SR71', 'Su34', 'Su57', 'Tornado', 'Tu160', 'Tu95', 'U2', 'US2', 'V22', 'Vulcan', 'XB70', 'YF23']\n"
     ]
    }
   ],
   "source": [
    "paths = \"\"\"\n",
    "train: ./dataset_yolov5/images/train  \n",
    "val: ./dataset_yolov5/images/val \n",
    "\n",
    "\"\"\"\n",
    "labels_str = \"names: [\"\n",
    "\n",
    "for label in labels.keys():\n",
    "    labels_str += '\\'' + label + '\\''\n",
    "    labels_str += \", \"\n",
    "\n",
    "labels_str = labels_str[:-2] + \"]\"\n",
    "#print(labels_str)\n",
    "\n",
    "final_string = paths + \"nc: \" + str(len(labels.keys())) + \"\\n\" + labels_str\n",
    "f = open(\"custom_data.yaml\", \"w\")\n",
    "f.write(final_string)\n",
    "f.close()\n",
    "print(final_string)"
   ]
  },
  {
   "cell_type": "code",
   "execution_count": null,
   "metadata": {},
   "outputs": [],
   "source": []
  }
 ],
 "metadata": {
  "kernelspec": {
   "display_name": "Python 3",
   "language": "python",
   "name": "python3"
  },
  "language_info": {
   "codemirror_mode": {
    "name": "ipython",
    "version": 3
   },
   "file_extension": ".py",
   "mimetype": "text/x-python",
   "name": "python",
   "nbconvert_exporter": "python",
   "pygments_lexer": "ipython3",
   "version": "3.10.12"
  }
 },
 "nbformat": 4,
 "nbformat_minor": 2
}
